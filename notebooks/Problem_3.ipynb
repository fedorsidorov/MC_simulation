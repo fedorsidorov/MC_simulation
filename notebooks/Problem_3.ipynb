{
 "cells": [
  {
   "cell_type": "code",
   "execution_count": 21,
   "metadata": {},
   "outputs": [
    {
     "data": {
      "text/latex": [
       "$\\displaystyle - 4 g \\omega_{0} + \\omega_{0}^{2} \\operatorname{v_{y}}{\\left(t \\right)} + 4 \\omega_{0} \\frac{d}{d t} \\operatorname{v_{y}}{\\left(t \\right)} + \\frac{d^{2}}{d t^{2}} \\operatorname{v_{y}}{\\left(t \\right)}$"
      ],
      "text/plain": [
       "                                           2        \n",
       "            2               d             d         \n",
       "-4⋅g⋅ω₀ + ω₀ ⋅v_y(t) + 4⋅ω₀⋅──(v_y(t)) + ───(v_y(t))\n",
       "                            dt             2        \n",
       "                                         dt         "
      ]
     },
     "execution_count": 21,
     "metadata": {},
     "output_type": "execute_result"
    }
   ],
   "source": [
    "from sympy import *\n",
    "import numpy as np\n",
    "import matplotlib.pyplot as plt\n",
    "\n",
    "init_printing(use_latex='mathjax')\n",
    "\n",
    "w_0, t, g = symbols('omega_0 t g')\n",
    "v_y = Function('v_y')(t)\n",
    "\n",
    "eq = (v_y.diff(t)).diff(t) + 4*w_0 * v_y.diff(t) + w_0**2 * v_y - 4*g*w_0\n",
    "eq"
   ]
  },
  {
   "cell_type": "code",
   "execution_count": 22,
   "metadata": {},
   "outputs": [
    {
     "data": {
      "text/latex": [
       "$\\displaystyle \\operatorname{v_{y}}{\\left(t \\right)} = C_{1} e^{\\omega_{0} t \\left(-2 - \\sqrt{3}\\right)} + C_{2} e^{\\omega_{0} t \\left(-2 + \\sqrt{3}\\right)} + \\frac{4 g}{\\omega_{0}}$"
      ],
      "text/plain": [
       "             ω₀⋅t⋅(-2 - √3)       ω₀⋅t⋅(-2 + √3)   4⋅g\n",
       "v_y(t) = C₁⋅ℯ               + C₂⋅ℯ               + ───\n",
       "                                                    ω₀"
      ]
     },
     "execution_count": 22,
     "metadata": {},
     "output_type": "execute_result"
    }
   ],
   "source": [
    "dsolve(eq)"
   ]
  },
  {
   "cell_type": "code",
   "execution_count": 23,
   "metadata": {},
   "outputs": [
    {
     "data": {
      "text/latex": [
       "$\\displaystyle C_{1} e^{\\omega_{0} t \\left(-2 - \\sqrt{3}\\right)} + C_{2} e^{\\omega_{0} t \\left(-2 + \\sqrt{3}\\right)} + \\frac{4 g}{\\omega_{0}}$"
      ],
      "text/plain": [
       "    ω₀⋅t⋅(-2 - √3)       ω₀⋅t⋅(-2 + √3)   4⋅g\n",
       "C₁⋅ℯ               + C₂⋅ℯ               + ───\n",
       "                                           ω₀"
      ]
     },
     "execution_count": 23,
     "metadata": {},
     "output_type": "execute_result"
    }
   ],
   "source": [
    "v_y = dsolve(eq).rhs\n",
    "v_y"
   ]
  },
  {
   "cell_type": "code",
   "execution_count": 24,
   "metadata": {},
   "outputs": [
    {
     "data": {
      "text/latex": [
       "$\\displaystyle C_{1} + C_{2} + \\frac{4 g}{\\omega_{0}}$"
      ],
      "text/plain": [
       "          4⋅g\n",
       "C₁ + C₂ + ───\n",
       "           ω₀"
      ]
     },
     "execution_count": 24,
     "metadata": {},
     "output_type": "execute_result"
    }
   ],
   "source": [
    "expr_1 = v_y.subs(t, 0)\n",
    "expr_1"
   ]
  },
  {
   "cell_type": "code",
   "execution_count": 25,
   "metadata": {},
   "outputs": [
    {
     "data": {
      "text/latex": [
       "$\\displaystyle C_{1} \\omega_{0} \\left(-2 - \\sqrt{3}\\right) + C_{2} \\omega_{0} \\left(-2 + \\sqrt{3}\\right) - g$"
      ],
      "text/plain": [
       "C₁⋅ω₀⋅(-2 - √3) + C₂⋅ω₀⋅(-2 + √3) - g"
      ]
     },
     "execution_count": 25,
     "metadata": {},
     "output_type": "execute_result"
    }
   ],
   "source": [
    "expr_2 = (v_y.diff(t) - g).subs(t, 0)\n",
    "expr_2"
   ]
  },
  {
   "cell_type": "code",
   "execution_count": 26,
   "metadata": {},
   "outputs": [
    {
     "data": {
      "text/latex": [
       "$\\displaystyle \\left\\{ C_{1} : \\frac{g \\left(-12 + 7 \\sqrt{3}\\right)}{6 \\omega_{0}}, \\  C_{2} : - \\frac{g \\left(12 + 7 \\sqrt{3}\\right)}{6 \\omega_{0}}\\right\\}$"
      ],
      "text/plain": [
       "⎧    g⋅(-12 + 7⋅√3)      -g⋅(12 + 7⋅√3) ⎫\n",
       "⎨C₁: ──────────────, C₂: ───────────────⎬\n",
       "⎩         6⋅ω₀                 6⋅ω₀     ⎭"
      ]
     },
     "execution_count": 26,
     "metadata": {},
     "output_type": "execute_result"
    }
   ],
   "source": [
    "solution = solve([expr_1, expr_2])[0]\n",
    "solution"
   ]
  },
  {
   "cell_type": "code",
   "execution_count": 30,
   "metadata": {},
   "outputs": [
    {
     "data": {
      "text/latex": [
       "$\\displaystyle v_{y} = \\frac{5 \\left(-12 + 7 \\sqrt{3}\\right) e^{t \\left(-2 - \\sqrt{3}\\right)}}{3} - \\frac{5 \\left(12 + 7 \\sqrt{3}\\right) e^{t \\left(-2 + \\sqrt{3}\\right)}}{3} + 40$"
      ],
      "text/plain": [
       "                      t⋅(-2 - √3)                  t⋅(-2 + √3)     \n",
       "      5⋅(-12 + 7⋅√3)⋅ℯ              5⋅(12 + 7⋅√3)⋅ℯ                \n",
       "v_y = ─────────────────────────── - ────────────────────────── + 40\n",
       "                   3                            3                  "
      ]
     },
     "execution_count": 30,
     "metadata": {},
     "output_type": "execute_result"
    }
   ],
   "source": [
    "C1_my, C2_my = solution[Symbol('C1')], solution[Symbol('C2')]\n",
    "v_y_subs = v_y.subs([(Symbol('C1'), C1_my), (Symbol('C2'), C2_my), (w_0, 1), (g, 10)])\n",
    "final_eq = Eq(Symbol('v_y'), v_y_subs)\n",
    "final_eq"
   ]
  },
  {
   "cell_type": "code",
   "execution_count": 31,
   "metadata": {},
   "outputs": [],
   "source": [
    "lf = lambdify(t, v_y_subs)"
   ]
  },
  {
   "cell_type": "code",
   "execution_count": 32,
   "metadata": {},
   "outputs": [
    {
     "data": {
      "image/png": "[encoded data removed]",
      "text/plain": [
       "<Figure size 432x288 with 1 Axes>"
      ]
     },
     "metadata": {
      "needs_background": "light"
     },
     "output_type": "display_data"
    }
   ],
   "source": [
    "x_vals = np.linspace(0., 50.)\n",
    "y_vals = lf(x_vals)\n",
    "\n",
    "fig = plt.figure()\n",
    "plt.grid()\n",
    "plt.plot(x_vals, y_vals)\n",
    "plt.xlabel('$\\omega_0$t')\n",
    "plt.ylabel('$v_y$')\n",
    "plt.show()"
   ]
  },
  {
   "cell_type": "code",
   "execution_count": null,
   "metadata": {},
   "outputs": [],
   "source": []
  }
 ],
 "metadata": {
  "kernelspec": {
   "display_name": "Python 3",
   "language": "python",
   "name": "python3"
  },
  "language_info": {
   "codemirror_mode": {
    "name": "ipython",
    "version": 3
   },
   "file_extension": ".py",
   "mimetype": "text/x-python",
   "name": "python",
   "nbconvert_exporter": "python",
   "pygments_lexer": "ipython3",
   "version": "3.7.6"
  }
 },
 "nbformat": 4,
 "nbformat_minor": 4
}
