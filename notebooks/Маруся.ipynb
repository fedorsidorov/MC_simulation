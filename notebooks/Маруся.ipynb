{
 "cells": [
  {
   "cell_type": "code",
   "execution_count": 68,
   "metadata": {},
   "outputs": [
    {
     "data": {
      "text/latex": [
       "$\\displaystyle B^{2} l^{2} \\operatorname{v_{y}}{\\left(t \\right)} - 4 B g l m \\sqrt{\\frac{L_{0}}{m}} + 4 B l m \\sqrt{\\frac{L_{0}}{m}} \\frac{d}{d t} \\operatorname{v_{y}}{\\left(t \\right)} + L_{0} m \\frac{d^{2}}{d t^{2}} \\operatorname{v_{y}}{\\left(t \\right)}$"
      ],
      "text/plain": [
       "                             ____               ____                     2    \n",
       " 2  2                       ╱ L₀               ╱ L₀  d                  d     \n",
       "B ⋅l ⋅v_y(t) - 4⋅B⋅g⋅l⋅m⋅  ╱  ──  + 4⋅B⋅l⋅m⋅  ╱  ── ⋅──(v_y(t)) + L₀⋅m⋅───(v_y\n",
       "                         ╲╱   m             ╲╱   m   dt                  2    \n",
       "                                                                       dt     \n",
       "\n",
       "    \n",
       "    \n",
       "(t))\n",
       "    \n",
       "    "
      ]
     },
     "execution_count": 68,
     "metadata": {},
     "output_type": "execute_result"
    }
   ],
   "source": [
    "from sympy import *\n",
    "\n",
    "init_printing(use_latex='mathjax')\n",
    "\n",
    "L_0, m, B, l, g, t, C_1, C_2 = symbols('L_0 m B l g t C_1 C_2')\n",
    "R = 4*B*l*sqrt(L_0/m)\n",
    "v_y = Function('v_y')(t)\n",
    "\n",
    "eq = L_0*m * (v_y.diff(t)).diff(t) + m*R*v_y.diff(t) + B**2*l**2*v_y - m*R*g\n",
    "eq"
   ]
  },
  {
   "cell_type": "code",
   "execution_count": 69,
   "metadata": {},
   "outputs": [
    {
     "data": {
      "text/latex": [
       "$\\displaystyle \\operatorname{v_{y}}{\\left(t \\right)} = C_{1} e^{\\frac{B l t \\left(- 2 \\sqrt{\\frac{L_{0}}{m}} - \\frac{\\sqrt{3} \\sqrt{L_{0} m}}{m}\\right)}{L_{0}}} + C_{2} e^{\\frac{B l t \\left(- 2 \\sqrt{\\frac{L_{0}}{m}} + \\frac{\\sqrt{3} \\sqrt{L_{0} m}}{m}\\right)}{L_{0}}} + \\frac{4 g m \\sqrt{\\frac{L_{0}}{m}}}{B l}$"
      ],
      "text/plain": [
       "                   ⎛        ____        ______⎞             ⎛        ____     \n",
       "                   ⎜       ╱ L₀    √3⋅╲╱ L₀⋅m ⎟             ⎜       ╱ L₀    √3\n",
       "             B⋅l⋅t⋅⎜- 2⋅  ╱  ──  - ───────────⎟       B⋅l⋅t⋅⎜- 2⋅  ╱  ──  + ──\n",
       "                   ⎝    ╲╱   m          m     ⎠             ⎝    ╲╱   m       \n",
       "             ──────────────────────────────────       ────────────────────────\n",
       "                             L₀                                       L₀      \n",
       "v_y(t) = C₁⋅ℯ                                   + C₂⋅ℯ                        \n",
       "                                                                              \n",
       "\n",
       "   ______⎞                 \n",
       "⋅╲╱ L₀⋅m ⎟                 \n",
       "─────────⎟             ____\n",
       "   m     ⎠            ╱ L₀ \n",
       "──────────   4⋅g⋅m⋅  ╱  ── \n",
       "                   ╲╱   m  \n",
       "           + ──────────────\n",
       "                  B⋅l      "
      ]
     },
     "execution_count": 69,
     "metadata": {},
     "output_type": "execute_result"
    }
   ],
   "source": [
    "dsolve(eq)"
   ]
  },
  {
   "cell_type": "code",
   "execution_count": 70,
   "metadata": {},
   "outputs": [
    {
     "data": {
      "text/latex": [
       "$\\displaystyle C_{1} e^{\\frac{B l t \\left(- 2 \\sqrt{\\frac{L_{0}}{m}} - \\frac{\\sqrt{3} \\sqrt{L_{0} m}}{m}\\right)}{L_{0}}} + C_{2} e^{\\frac{B l t \\left(- 2 \\sqrt{\\frac{L_{0}}{m}} + \\frac{\\sqrt{3} \\sqrt{L_{0} m}}{m}\\right)}{L_{0}}} + \\frac{4 g m \\sqrt{\\frac{L_{0}}{m}}}{B l}$"
      ],
      "text/plain": [
       "          ⎛        ____        ______⎞             ⎛        ____        ______\n",
       "          ⎜       ╱ L₀    √3⋅╲╱ L₀⋅m ⎟             ⎜       ╱ L₀    √3⋅╲╱ L₀⋅m \n",
       "    B⋅l⋅t⋅⎜- 2⋅  ╱  ──  - ───────────⎟       B⋅l⋅t⋅⎜- 2⋅  ╱  ──  + ───────────\n",
       "          ⎝    ╲╱   m          m     ⎠             ⎝    ╲╱   m          m     \n",
       "    ──────────────────────────────────       ─────────────────────────────────\n",
       "                    L₀                                       L₀               \n",
       "C₁⋅ℯ                                   + C₂⋅ℯ                                 \n",
       "                                                                              \n",
       "\n",
       "⎞                 \n",
       "⎟                 \n",
       "⎟             ____\n",
       "⎠            ╱ L₀ \n",
       "─   4⋅g⋅m⋅  ╱  ── \n",
       "          ╲╱   m  \n",
       "  + ──────────────\n",
       "         B⋅l      "
      ]
     },
     "execution_count": 70,
     "metadata": {},
     "output_type": "execute_result"
    }
   ],
   "source": [
    "v_y = dsolve(eq).rhs\n",
    "v_y"
   ]
  },
  {
   "cell_type": "code",
   "execution_count": 71,
   "metadata": {},
   "outputs": [
    {
     "data": {
      "text/latex": [
       "$\\displaystyle C_{1} + C_{2} + \\frac{4 g m \\sqrt{\\frac{L_{0}}{m}}}{B l}$"
      ],
      "text/plain": [
       "                    ____\n",
       "                   ╱ L₀ \n",
       "          4⋅g⋅m⋅  ╱  ── \n",
       "                ╲╱   m  \n",
       "C₁ + C₂ + ──────────────\n",
       "               B⋅l      "
      ]
     },
     "execution_count": 71,
     "metadata": {},
     "output_type": "execute_result"
    }
   ],
   "source": [
    "v_y.subs(t, 0)"
   ]
  },
  {
   "cell_type": "code",
   "execution_count": 37,
   "metadata": {},
   "outputs": [],
   "source": [
    "v_y_diff = v_y.diff(t)"
   ]
  },
  {
   "cell_type": "code",
   "execution_count": null,
   "metadata": {},
   "outputs": [],
   "source": []
  },
  {
   "cell_type": "code",
   "execution_count": 34,
   "metadata": {},
   "outputs": [
    {
     "data": {
      "text/latex": [
       "$\\displaystyle \\frac{B C_{1} l \\left(- 2 \\sqrt{\\frac{L_{0}}{m}} - \\frac{\\sqrt{3} \\sqrt{L_{0} m}}{m}\\right) e^{\\frac{B l t \\left(- 2 \\sqrt{\\frac{L_{0}}{m}} - \\frac{\\sqrt{3} \\sqrt{L_{0} m}}{m}\\right)}{L_{0}}}}{L_{0}} + \\frac{B C_{2} l \\left(- 2 \\sqrt{\\frac{L_{0}}{m}} + \\frac{\\sqrt{3} \\sqrt{L_{0} m}}{m}\\right) e^{\\frac{B l t \\left(- 2 \\sqrt{\\frac{L_{0}}{m}} + \\frac{\\sqrt{3} \\sqrt{L_{0} m}}{m}\\right)}{L_{0}}}}{L_{0}}$"
      ],
      "text/plain": [
       "                                           ⎛        ____        ______⎞       \n",
       "                                           ⎜       ╱ L₀    √3⋅╲╱ L₀⋅m ⎟       \n",
       "                                     B⋅l⋅t⋅⎜- 2⋅  ╱  ──  - ───────────⎟       \n",
       "                                           ⎝    ╲╱   m          m     ⎠       \n",
       "       ⎛        ____        ______⎞  ──────────────────────────────────       \n",
       "       ⎜       ╱ L₀    √3⋅╲╱ L₀⋅m ⎟                  L₀                       \n",
       "B⋅C₁⋅l⋅⎜- 2⋅  ╱  ──  - ───────────⎟⋅ℯ                                     B⋅C₂\n",
       "       ⎝    ╲╱   m          m     ⎠                                           \n",
       "─────────────────────────────────────────────────────────────────────── + ────\n",
       "                                   L₀                                         \n",
       "\n",
       "                                       ⎛        ____        ______⎞\n",
       "                                       ⎜       ╱ L₀    √3⋅╲╱ L₀⋅m ⎟\n",
       "                                 B⋅l⋅t⋅⎜- 2⋅  ╱  ──  + ───────────⎟\n",
       "                                       ⎝    ╲╱   m          m     ⎠\n",
       "   ⎛        ____        ______⎞  ──────────────────────────────────\n",
       "   ⎜       ╱ L₀    √3⋅╲╱ L₀⋅m ⎟                  L₀                \n",
       "⋅l⋅⎜- 2⋅  ╱  ──  + ───────────⎟⋅ℯ                                  \n",
       "   ⎝    ╲╱   m          m     ⎠                                    \n",
       "───────────────────────────────────────────────────────────────────\n",
       "                               L₀                                  "
      ]
     },
     "execution_count": 34,
     "metadata": {},
     "output_type": "execute_result"
    }
   ],
   "source": [
    "v_y_diff"
   ]
  },
  {
   "cell_type": "code",
   "execution_count": 40,
   "metadata": {},
   "outputs": [
    {
     "data": {
      "text/latex": [
       "$\\displaystyle \\frac{m \\left(\\frac{B C_{1} l \\left(- 2 \\sqrt{\\frac{L_{0}}{m}} - \\frac{\\sqrt{3} \\sqrt{L_{0} m}}{m}\\right)}{L_{0}} + \\frac{B C_{2} l \\left(- 2 \\sqrt{\\frac{L_{0}}{m}} + \\frac{\\sqrt{3} \\sqrt{L_{0} m}}{m}\\right)}{L_{0}} - g\\right)}{B l}$"
      ],
      "text/plain": [
       "  ⎛       ⎛        ____        ______⎞          ⎛        ____        ______⎞  \n",
       "  ⎜       ⎜       ╱ L₀    √3⋅╲╱ L₀⋅m ⎟          ⎜       ╱ L₀    √3⋅╲╱ L₀⋅m ⎟  \n",
       "  ⎜B⋅C₁⋅l⋅⎜- 2⋅  ╱  ──  - ───────────⎟   B⋅C₂⋅l⋅⎜- 2⋅  ╱  ──  + ───────────⎟  \n",
       "  ⎜       ⎝    ╲╱   m          m     ⎠          ⎝    ╲╱   m          m     ⎠  \n",
       "m⋅⎜─────────────────────────────────── + ─────────────────────────────────── -\n",
       "  ⎝                 L₀                                    L₀                  \n",
       "──────────────────────────────────────────────────────────────────────────────\n",
       "                                       B⋅l                                    \n",
       "\n",
       "  ⎞\n",
       "  ⎟\n",
       "  ⎟\n",
       "  ⎟\n",
       " g⎟\n",
       "  ⎠\n",
       "───\n",
       "   "
      ]
     },
     "execution_count": 40,
     "metadata": {},
     "output_type": "execute_result"
    }
   ],
   "source": [
    "(v_y_diff.subs(t, 0) - g) * m / (B*l)"
   ]
  },
  {
   "cell_type": "code",
   "execution_count": 90,
   "metadata": {},
   "outputs": [
    {
     "data": {
      "text/latex": [
       "$\\displaystyle \\frac{B l}{\\sqrt{L_{0} m}}$"
      ],
      "text/plain": [
       "  B⋅l   \n",
       "────────\n",
       "  ______\n",
       "╲╱ L₀⋅m "
      ]
     },
     "execution_count": 90,
     "metadata": {},
     "output_type": "execute_result"
    }
   ],
   "source": [
    "w_0 = B*l / sqrt(L_0 * m)\n",
    "w_0"
   ]
  },
  {
   "cell_type": "code",
   "execution_count": 48,
   "metadata": {},
   "outputs": [
    {
     "data": {
      "text/latex": [
       "$\\displaystyle \\left\\{ C_{1} : \\frac{2 g \\sqrt{L_{0} m} \\left(-12 + 7 \\sqrt{3}\\right)}{3 B l}, \\  C_{2} : - \\frac{2 g \\sqrt{L_{0} m} \\left(12 + 7 \\sqrt{3}\\right)}{3 B l}\\right\\}$"
      ],
      "text/plain": [
       "⎧          ______                          ______             ⎫\n",
       "⎪    2⋅g⋅╲╱ L₀⋅m ⋅(-12 + 7⋅√3)      -2⋅g⋅╲╱ L₀⋅m ⋅(12 + 7⋅√3) ⎪\n",
       "⎨C₁: ─────────────────────────, C₂: ──────────────────────────⎬\n",
       "⎪              3⋅B⋅l                          3⋅B⋅l           ⎪\n",
       "⎩                                                             ⎭"
      ]
     },
     "execution_count": 48,
     "metadata": {},
     "output_type": "execute_result"
    }
   ],
   "source": [
    "expr_1 = C_1 + C_2 + 4*alpha\n",
    "expr_2 = C_1*(-2 - sqrt(3)) + C_2*(-2 + sqrt(3)) - alpha\n",
    "\n",
    "solve([expr_1, expr_2], [C_1, C_2])"
   ]
  },
  {
   "cell_type": "code",
   "execution_count": 85,
   "metadata": {},
   "outputs": [],
   "source": [
    "C_1, C_2 = solve([expr_1, expr_2], [C_1, C_2])[C_1], solve([expr_1, expr_2], [C_1, C_2])[C_2]"
   ]
  },
  {
   "cell_type": "code",
   "execution_count": 97,
   "metadata": {},
   "outputs": [
    {
     "data": {
      "text/latex": [
       "$\\displaystyle \\frac{2 g \\sqrt{L_{0} m} \\left(-12 + 7 \\sqrt{3}\\right) e^{\\frac{B l t \\left(-2 - \\sqrt{3}\\right)}{\\sqrt{L_{0} m}}}}{3 B l} - \\frac{2 g \\sqrt{L_{0} m} \\left(12 + 7 \\sqrt{3}\\right) e^{\\frac{B l t \\left(-2 + \\sqrt{3}\\right)}{\\sqrt{L_{0} m}}}}{3 B l} + \\frac{4 g \\sqrt{L_{0} m}}{B l}$"
      ],
      "text/plain": [
       "                           B⋅l⋅t⋅(-2 - √3)                             B⋅l⋅t⋅(\n",
       "                           ───────────────                             ───────\n",
       "                                 ______                                      _\n",
       "      ______                   ╲╱ L₀⋅m             ______                  ╲╱ \n",
       "2⋅g⋅╲╱ L₀⋅m ⋅(-12 + 7⋅√3)⋅ℯ                  2⋅g⋅╲╱ L₀⋅m ⋅(12 + 7⋅√3)⋅ℯ       \n",
       "────────────────────────────────────────── - ─────────────────────────────────\n",
       "                  3⋅B⋅l                                        3⋅B⋅l          \n",
       "\n",
       "-2 + √3)               \n",
       "────────               \n",
       "_____                  \n",
       "L₀⋅m             ______\n",
       "           4⋅g⋅╲╱ L₀⋅m \n",
       "──────── + ────────────\n",
       "               B⋅l     "
      ]
     },
     "execution_count": 97,
     "metadata": {},
     "output_type": "execute_result"
    }
   ],
   "source": [
    "v_y_sol = C_1 * exp(w_0 * t * (-2 - sqrt(3))) + C_2 * exp(w_0 * t * (-2 + sqrt(3))) + 4 * g / w_0\n",
    "v_y_sol"
   ]
  },
  {
   "cell_type": "code",
   "execution_count": 104,
   "metadata": {},
   "outputs": [
    {
     "data": {
      "text/latex": [
       "$\\displaystyle \\left(-80.0 + 46.6666666666667 \\sqrt{3}\\right) e^{t \\left(-2 - \\sqrt{3}\\right)} - \\left(80.0 + 46.6666666666667 \\sqrt{3}\\right) e^{t \\left(-2 + \\sqrt{3}\\right)} + 40$"
      ],
      "text/plain": [
       "                               t⋅(-2 - √3)                                 t⋅(\n",
       "(-80.0 + 46.6666666666667⋅√3)⋅ℯ            - (80.0 + 46.6666666666667⋅√3)⋅ℯ   \n",
       "\n",
       "-2 + √3)     \n",
       "         + 40"
      ]
     },
     "execution_count": 104,
     "metadata": {},
     "output_type": "execute_result"
    }
   ],
   "source": [
    "v_y_simple = C_1 * exp(t * (-2 - sqrt(3))) + C_2 * exp(t * (-2 + sqrt(3))) + 4 * 10\n",
    "v_y_simple = 40 + 20/3 * (-12 + 7 * sqrt(3)) * exp(t * (-2 - sqrt(3))) - 20/3 * (12 + 7 * sqrt(3)) * exp(t * (-2 + sqrt(3)))\n",
    "v_y_simple"
   ]
  },
  {
   "cell_type": "code",
   "execution_count": 107,
   "metadata": {},
   "outputs": [],
   "source": [
    "lf = lambdify(t, v_y_simple)"
   ]
  },
  {
   "cell_type": "code",
   "execution_count": 108,
   "metadata": {},
   "outputs": [
    {
     "data": {
      "text/latex": [
       "$\\displaystyle -120.0$"
      ],
      "text/plain": [
       "-120.000000000000"
      ]
     },
     "execution_count": 108,
     "metadata": {},
     "output_type": "execute_result"
    }
   ],
   "source": [
    "v_y_simple.subs(t, 0)"
   ]
  },
  {
   "cell_type": "code",
   "execution_count": 106,
   "metadata": {},
   "outputs": [
    {
     "data": {
      "image/png": "[encoded data removed]",
      "text/plain": [
       "<Figure size 432x288 with 1 Axes>"
      ]
     },
     "metadata": {
      "needs_background": "light"
     },
     "output_type": "display_data"
    }
   ],
   "source": [
    "import matplotlib.pyplot as plt\n",
    "\n",
    "fig = plt.figure()\n",
    "axes = fig.add_subplot(111)\n",
    "\n",
    "x_vals = np.linspace(0., 10.)\n",
    "y_vals = lf(x_vals)\n",
    "\n",
    "axes.grid()\n",
    "axes.plot(x_vals, y_vals)\n",
    "\n",
    "plt.show();"
   ]
  },
  {
   "cell_type": "code",
   "execution_count": null,
   "metadata": {},
   "outputs": [],
   "source": []
  }
 ],
 "metadata": {
  "kernelspec": {
   "display_name": "Python 3",
   "language": "python",
   "name": "python3"
  },
  "language_info": {
   "codemirror_mode": {
    "name": "ipython",
    "version": 3
   },
   "file_extension": ".py",
   "mimetype": "text/x-python",
   "name": "python",
   "nbconvert_exporter": "python",
   "pygments_lexer": "ipython3",
   "version": "3.7.6"
  }
 },
 "nbformat": 4,
 "nbformat_minor": 4
}
