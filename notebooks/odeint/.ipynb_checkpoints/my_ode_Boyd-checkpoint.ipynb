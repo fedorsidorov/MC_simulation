{
 "cells": [
  {
   "cell_type": "code",
   "execution_count": 39,
   "metadata": {
    "pycharm": {
     "is_executing": false
    }
   },
   "outputs": [],
   "source": [
    "from sympy import *\n",
    "\n",
    "init_printing(use_latex='mathjax')\n",
    "\n",
    "tau, k_s, gamma = symbols('t k_s gamma')\n",
    "y_0, M1_0 = symbols('y^0, M_1^0')\n",
    "M_0 = Symbol('M_0')\n",
    "\n",
    "t = tau / (y_0 * k_s)\n",
    "M1w = Function(r'\\tilde{M_1}')(tau)\n",
    "yw = Function(r'\\tilde{y}')(tau)\n",
    "z = Function('z')(tau)\n",
    "\n",
    "M1 = M1w * M1_0\n",
    "y = yw * y_0\n",
    "\n",
    "M0 = M1 / (y * (z+1))\n",
    "M2 = M1 * (z+2) * y\n",
    "M3 = M1 * (z+2) * (z+3) * y**2\n",
    "M4 = M1 * (z+2) * (z+3) * (z+4) * y**3"
   ]
  },
  {
   "cell_type": "code",
   "execution_count": 52,
   "metadata": {
    "pycharm": {
     "is_executing": false,
     "name": "#%%\n"
    }
   },
   "outputs": [],
   "source": [
    "expr_1 = -M1.diff(tau) * y_0 - 1 / gamma * (M1 + M0.diff(tau) * y_0)\n",
    "expr_2 = -M2.diff(tau) * y_0 + (Rational(2, 3) - 1) * M3 - 2 / gamma * (M2 + M1.diff(tau) * y_0)\n",
    "expr_3 = -M3.diff(tau) * y_0 + (Rational(2, 4) - 1) * M4 - 3 / gamma * (M3 + M2.diff(tau) * y_0)"
   ]
  },
  {
   "cell_type": "code",
   "execution_count": 56,
   "metadata": {},
   "outputs": [
    {
     "data": {
      "text/latex": [
       "$\\displaystyle \\frac{M^{0}_{1} \\left(- \\gamma y^{0} \\left(z{\\left(t \\right)} + 1\\right)^{2} \\tilde{y}^{2}{\\left(t \\right)} \\frac{d}{d t} \\tilde{M_1}{\\left(t \\right)} - \\left(z{\\left(t \\right)} + 1\\right)^{2} \\tilde{M_1}{\\left(t \\right)} \\tilde{y}^{2}{\\left(t \\right)} + \\left(z{\\left(t \\right)} + 1\\right) \\tilde{M_1}{\\left(t \\right)} \\frac{d}{d t} \\tilde{y}{\\left(t \\right)} - \\left(z{\\left(t \\right)} + 1\\right) \\tilde{y}{\\left(t \\right)} \\frac{d}{d t} \\tilde{M_1}{\\left(t \\right)} + \\tilde{M_1}{\\left(t \\right)} \\tilde{y}{\\left(t \\right)} \\frac{d}{d t} z{\\left(t \\right)}\\right)}{\\gamma \\left(z{\\left(t \\right)} + 1\\right)^{2} \\tilde{y}^{2}{\\left(t \\right)}}$"
      ],
      "text/plain": [
       "    ⎛                 2          2    d                              2        \n",
       "M⁰₁⋅⎜- γ⋅y⁰⋅(z(t) + 1) ⋅\\tilde{y} (t)⋅──(\\tilde{M_1}(t)) - (z(t) + 1) ⋅\\tilde{\n",
       "    ⎝                                 dt                                      \n",
       "──────────────────────────────────────────────────────────────────────────────\n",
       "                                                                              \n",
       "                                                                              \n",
       "\n",
       "                 2                                d                           \n",
       "M_1}(t)⋅\\tilde{y} (t) + (z(t) + 1)⋅\\tilde{M_1}(t)⋅──(\\tilde{y}(t)) - (z(t) + 1\n",
       "                                                  dt                          \n",
       "──────────────────────────────────────────────────────────────────────────────\n",
       "                                   2          2                               \n",
       "                       γ⋅(z(t) + 1) ⋅\\tilde{y} (t)                            \n",
       "\n",
       "               d                                                d       ⎞\n",
       ")⋅\\tilde{y}(t)⋅──(\\tilde{M_1}(t)) + \\tilde{M_1}(t)⋅\\tilde{y}(t)⋅──(z(t))⎟\n",
       "               dt                                               dt      ⎠\n",
       "─────────────────────────────────────────────────────────────────────────\n",
       "                                                                         \n",
       "                                                                         "
      ]
     },
     "execution_count": 56,
     "metadata": {},
     "output_type": "execute_result"
    }
   ],
   "source": [
    "simplify((expr_1))"
   ]
  },
  {
   "cell_type": "code",
   "execution_count": 57,
   "metadata": {},
   "outputs": [
    {
     "data": {
      "text/latex": [
       "$\\displaystyle - \\frac{M^{0}_{1} \\left(y^{0}\\right)^{2} \\left(z{\\left(t \\right)} + 2\\right) \\left(z{\\left(t \\right)} + 3\\right) \\tilde{M_1}{\\left(t \\right)} \\tilde{y}^{2}{\\left(t \\right)}}{3} + y^{0} \\left(- M^{0}_{1} y^{0} \\left(z{\\left(t \\right)} + 2\\right) \\tilde{M_1}{\\left(t \\right)} \\frac{d}{d t} \\tilde{y}{\\left(t \\right)} - M^{0}_{1} y^{0} \\left(z{\\left(t \\right)} + 2\\right) \\tilde{y}{\\left(t \\right)} \\frac{d}{d t} \\tilde{M_1}{\\left(t \\right)} - M^{0}_{1} y^{0} \\tilde{M_1}{\\left(t \\right)} \\tilde{y}{\\left(t \\right)} \\frac{d}{d t} z{\\left(t \\right)}\\right) - \\frac{2 \\left(M^{0}_{1} y^{0} \\left(z{\\left(t \\right)} + 2\\right) \\tilde{M_1}{\\left(t \\right)} \\tilde{y}{\\left(t \\right)} + M^{0}_{1} y^{0} \\frac{d}{d t} \\tilde{M_1}{\\left(t \\right)}\\right)}{\\gamma}$"
      ],
      "text/plain": [
       "                                                                              \n",
       "        2                                               2                     \n",
       "  M⁰₁⋅y⁰ ⋅(z(t) + 2)⋅(z(t) + 3)⋅\\tilde{M_1}(t)⋅\\tilde{y} (t)      ⎛           \n",
       "- ────────────────────────────────────────────────────────── + y⁰⋅⎜- M⁰₁⋅y⁰⋅(z\n",
       "                              3                                   ⎝           \n",
       "\n",
       "                                                                              \n",
       "                                                                              \n",
       "                        d                                                 d   \n",
       "(t) + 2)⋅\\tilde{M_1}(t)⋅──(\\tilde{y}(t)) - M⁰₁⋅y⁰⋅(z(t) + 2)⋅\\tilde{y}(t)⋅──(\\\n",
       "                        dt                                                dt  \n",
       "\n",
       "                                                                  ⎛           \n",
       "                                                                2⋅⎜M⁰₁⋅y⁰⋅(z(t\n",
       "                                                    d       ⎞     ⎝           \n",
       "tilde{M_1}(t)) - M⁰₁⋅y⁰⋅\\tilde{M_1}(t)⋅\\tilde{y}(t)⋅──(z(t))⎟ - ──────────────\n",
       "                                                    dt      ⎠                 \n",
       "\n",
       "                                            d                 ⎞\n",
       ") + 2)⋅\\tilde{M_1}(t)⋅\\tilde{y}(t) + M⁰₁⋅y⁰⋅──(\\tilde{M_1}(t))⎟\n",
       "                                            dt                ⎠\n",
       "───────────────────────────────────────────────────────────────\n",
       "                        γ                                      "
      ]
     },
     "execution_count": 57,
     "metadata": {},
     "output_type": "execute_result"
    }
   ],
   "source": [
    "expr_2"
   ]
  },
  {
   "cell_type": "code",
   "execution_count": 58,
   "metadata": {},
   "outputs": [
    {
     "data": {
      "text/latex": [
       "$\\displaystyle - \\frac{M^{0}_{1} \\left(y^{0}\\right)^{3} \\left(z{\\left(t \\right)} + 2\\right) \\left(z{\\left(t \\right)} + 3\\right) \\left(z{\\left(t \\right)} + 4\\right) \\tilde{M_1}{\\left(t \\right)} \\tilde{y}^{3}{\\left(t \\right)}}{2} + y^{0} \\left(- 2 M^{0}_{1} \\left(y^{0}\\right)^{2} \\left(z{\\left(t \\right)} + 2\\right) \\left(z{\\left(t \\right)} + 3\\right) \\tilde{M_1}{\\left(t \\right)} \\tilde{y}{\\left(t \\right)} \\frac{d}{d t} \\tilde{y}{\\left(t \\right)} - M^{0}_{1} \\left(y^{0}\\right)^{2} \\left(z{\\left(t \\right)} + 2\\right) \\left(z{\\left(t \\right)} + 3\\right) \\tilde{y}^{2}{\\left(t \\right)} \\frac{d}{d t} \\tilde{M_1}{\\left(t \\right)} - M^{0}_{1} \\left(y^{0}\\right)^{2} \\left(z{\\left(t \\right)} + 2\\right) \\tilde{M_1}{\\left(t \\right)} \\tilde{y}^{2}{\\left(t \\right)} \\frac{d}{d t} z{\\left(t \\right)} - M^{0}_{1} \\left(y^{0}\\right)^{2} \\left(z{\\left(t \\right)} + 3\\right) \\tilde{M_1}{\\left(t \\right)} \\tilde{y}^{2}{\\left(t \\right)} \\frac{d}{d t} z{\\left(t \\right)}\\right) - \\frac{3 \\left(M^{0}_{1} \\left(y^{0}\\right)^{2} \\left(z{\\left(t \\right)} + 2\\right) \\left(z{\\left(t \\right)} + 3\\right) \\tilde{M_1}{\\left(t \\right)} \\tilde{y}^{2}{\\left(t \\right)} + y^{0} \\left(M^{0}_{1} y^{0} \\left(z{\\left(t \\right)} + 2\\right) \\tilde{M_1}{\\left(t \\right)} \\frac{d}{d t} \\tilde{y}{\\left(t \\right)} + M^{0}_{1} y^{0} \\left(z{\\left(t \\right)} + 2\\right) \\tilde{y}{\\left(t \\right)} \\frac{d}{d t} \\tilde{M_1}{\\left(t \\right)} + M^{0}_{1} y^{0} \\tilde{M_1}{\\left(t \\right)} \\tilde{y}{\\left(t \\right)} \\frac{d}{d t} z{\\left(t \\right)}\\right)\\right)}{\\gamma}$"
      ],
      "text/plain": [
       "                                                                              \n",
       "        3                                                          3          \n",
       "  M⁰₁⋅y⁰ ⋅(z(t) + 2)⋅(z(t) + 3)⋅(z(t) + 4)⋅\\tilde{M_1}(t)⋅\\tilde{y} (t)      ⎛\n",
       "- ───────────────────────────────────────────────────────────────────── + y⁰⋅⎜\n",
       "                                    2                                        ⎝\n",
       "\n",
       "                                                                              \n",
       "                                                                              \n",
       "          2                                                   d               \n",
       "- 2⋅M⁰₁⋅y⁰ ⋅(z(t) + 2)⋅(z(t) + 3)⋅\\tilde{M_1}(t)⋅\\tilde{y}(t)⋅──(\\tilde{y}(t))\n",
       "                                                              dt              \n",
       "\n",
       "                                                                              \n",
       "                                                                              \n",
       "         2                                2    d                          2   \n",
       " - M⁰₁⋅y⁰ ⋅(z(t) + 2)⋅(z(t) + 3)⋅\\tilde{y} (t)⋅──(\\tilde{M_1}(t)) - M⁰₁⋅y⁰ ⋅(z\n",
       "                                               dt                             \n",
       "\n",
       "                                                                              \n",
       "                                                                              \n",
       "                                 2    d                2                      \n",
       "(t) + 2)⋅\\tilde{M_1}(t)⋅\\tilde{y} (t)⋅──(z(t)) - M⁰₁⋅y⁰ ⋅(z(t) + 3)⋅\\tilde{M_1\n",
       "                                      dt                                      \n",
       "\n",
       "                                 ⎛      2                                     \n",
       "                               3⋅⎜M⁰₁⋅y⁰ ⋅(z(t) + 2)⋅(z(t) + 3)⋅\\tilde{M_1}(t)\n",
       "              2    d       ⎞     ⎝                                            \n",
       "}(t)⋅\\tilde{y} (t)⋅──(z(t))⎟ - ───────────────────────────────────────────────\n",
       "                   dt      ⎠                                                  \n",
       "\n",
       "          2         ⎛                                 d                       \n",
       "⋅\\tilde{y} (t) + y⁰⋅⎜M⁰₁⋅y⁰⋅(z(t) + 2)⋅\\tilde{M_1}(t)⋅──(\\tilde{y}(t)) + M⁰₁⋅y\n",
       "                    ⎝                                 dt                      \n",
       "──────────────────────────────────────────────────────────────────────────────\n",
       "                                                             γ                \n",
       "\n",
       "                          d                                                   \n",
       "⁰⋅(z(t) + 2)⋅\\tilde{y}(t)⋅──(\\tilde{M_1}(t)) + M⁰₁⋅y⁰⋅\\tilde{M_1}(t)⋅\\tilde{y}\n",
       "                          dt                                                  \n",
       "──────────────────────────────────────────────────────────────────────────────\n",
       "                                                                              \n",
       "\n",
       "    d       ⎞⎞\n",
       "(t)⋅──(z(t))⎟⎟\n",
       "    dt      ⎠⎠\n",
       "──────────────\n",
       "              "
      ]
     },
     "execution_count": 58,
     "metadata": {},
     "output_type": "execute_result"
    }
   ],
   "source": [
    "expr_3"
   ]
  },
  {
   "cell_type": "code",
   "execution_count": 59,
   "metadata": {},
   "outputs": [],
   "source": [
    "ans = solve([expr_1, expr_2, expr_3], [M1w.diff(tau), yw.diff(tau), z.diff(tau)])"
   ]
  },
  {
   "cell_type": "code",
   "execution_count": 60,
   "metadata": {},
   "outputs": [
    {
     "data": {
      "text/latex": [
       "$\\displaystyle - \\frac{\\left(9 \\gamma^{2} \\left(y^{0}\\right)^{2} \\tilde{y}^{2}{\\left(t \\right)} z^{3}{\\left(t \\right)} + 41 \\gamma^{2} \\left(y^{0}\\right)^{2} \\tilde{y}^{2}{\\left(t \\right)} z^{2}{\\left(t \\right)} + 58 \\gamma^{2} \\left(y^{0}\\right)^{2} \\tilde{y}^{2}{\\left(t \\right)} z{\\left(t \\right)} + 24 \\gamma^{2} \\left(y^{0}\\right)^{2} \\tilde{y}^{2}{\\left(t \\right)} + 24 \\gamma y^{0} \\tilde{y}{\\left(t \\right)} z^{2}{\\left(t \\right)} + 96 \\gamma y^{0} \\tilde{y}{\\left(t \\right)} z{\\left(t \\right)} + 96 \\gamma y^{0} \\tilde{y}{\\left(t \\right)} + 36 z{\\left(t \\right)} + 72\\right) \\tilde{M_1}{\\left(t \\right)} \\tilde{y}{\\left(t \\right)}}{6 \\gamma^{3} \\left(y^{0}\\right)^{3} \\tilde{y}^{3}{\\left(t \\right)} z^{3}{\\left(t \\right)} + 24 \\gamma^{3} \\left(y^{0}\\right)^{3} \\tilde{y}^{3}{\\left(t \\right)} z^{2}{\\left(t \\right)} + 30 \\gamma^{3} \\left(y^{0}\\right)^{3} \\tilde{y}^{3}{\\left(t \\right)} z{\\left(t \\right)} + 12 \\gamma^{3} \\left(y^{0}\\right)^{3} \\tilde{y}^{3}{\\left(t \\right)} + 18 \\gamma^{2} \\left(y^{0}\\right)^{2} \\tilde{y}^{2}{\\left(t \\right)} z^{2}{\\left(t \\right)} + 66 \\gamma^{2} \\left(y^{0}\\right)^{2} \\tilde{y}^{2}{\\left(t \\right)} z{\\left(t \\right)} + 60 \\gamma^{2} \\left(y^{0}\\right)^{2} \\tilde{y}^{2}{\\left(t \\right)} + 36 \\gamma y^{0} \\tilde{y}{\\left(t \\right)} z{\\left(t \\right)} + 84 \\gamma y^{0} \\tilde{y}{\\left(t \\right)} + 36}$"
      ],
      "text/plain": [
       "          ⎛   2   2          2     3          2   2          2     2          \n",
       "         -⎝9⋅γ ⋅y⁰ ⋅\\tilde{y} (t)⋅z (t) + 41⋅γ ⋅y⁰ ⋅\\tilde{y} (t)⋅z (t) + 58⋅γ\n",
       "──────────────────────────────────────────────────────────────────────────────\n",
       "   3   3          3     3          3   3          3     2          3   3      \n",
       "6⋅γ ⋅y⁰ ⋅\\tilde{y} (t)⋅z (t) + 24⋅γ ⋅y⁰ ⋅\\tilde{y} (t)⋅z (t) + 30⋅γ ⋅y⁰ ⋅\\tild\n",
       "\n",
       "2   2          2               2   2          2                            2  \n",
       " ⋅y⁰ ⋅\\tilde{y} (t)⋅z(t) + 24⋅γ ⋅y⁰ ⋅\\tilde{y} (t) + 24⋅γ⋅y⁰⋅\\tilde{y}(t)⋅z (t\n",
       "──────────────────────────────────────────────────────────────────────────────\n",
       "    3               3   3          3          2   2          2     2          \n",
       "e{y} (t)⋅z(t) + 12⋅γ ⋅y⁰ ⋅\\tilde{y} (t) + 18⋅γ ⋅y⁰ ⋅\\tilde{y} (t)⋅z (t) + 66⋅γ\n",
       "\n",
       "                                                                   ⎞          \n",
       ") + 96⋅γ⋅y⁰⋅\\tilde{y}(t)⋅z(t) + 96⋅γ⋅y⁰⋅\\tilde{y}(t) + 36⋅z(t) + 72⎠⋅\\tilde{M_\n",
       "──────────────────────────────────────────────────────────────────────────────\n",
       "2   2          2               2   2          2                               \n",
       " ⋅y⁰ ⋅\\tilde{y} (t)⋅z(t) + 60⋅γ ⋅y⁰ ⋅\\tilde{y} (t) + 36⋅γ⋅y⁰⋅\\tilde{y}(t)⋅z(t)\n",
       "\n",
       "                            \n",
       "1}(t)⋅\\tilde{y}(t)          \n",
       "────────────────────────────\n",
       "                            \n",
       " + 84⋅γ⋅y⁰⋅\\tilde{y}(t) + 36"
      ]
     },
     "execution_count": 60,
     "metadata": {},
     "output_type": "execute_result"
    }
   ],
   "source": [
    "simplify(ans[M1w.diff(tau)])"
   ]
  },
  {
   "cell_type": "code",
   "execution_count": 62,
   "metadata": {},
   "outputs": [
    {
     "data": {
      "text/latex": [
       "$\\displaystyle \\frac{\\left(\\gamma^{3} \\left(y^{0}\\right)^{3} \\tilde{y}^{3}{\\left(t \\right)} z^{5}{\\left(t \\right)} + 5 \\gamma^{3} \\left(y^{0}\\right)^{3} \\tilde{y}^{3}{\\left(t \\right)} z^{4}{\\left(t \\right)} + 3 \\gamma^{3} \\left(y^{0}\\right)^{3} \\tilde{y}^{3}{\\left(t \\right)} z^{3}{\\left(t \\right)} - 17 \\gamma^{3} \\left(y^{0}\\right)^{3} \\tilde{y}^{3}{\\left(t \\right)} z^{2}{\\left(t \\right)} - 28 \\gamma^{3} \\left(y^{0}\\right)^{3} \\tilde{y}^{3}{\\left(t \\right)} z{\\left(t \\right)} - 12 \\gamma^{3} \\left(y^{0}\\right)^{3} \\tilde{y}^{3}{\\left(t \\right)} + 6 \\gamma^{2} \\left(y^{0}\\right)^{2} \\tilde{y}^{2}{\\left(t \\right)} z^{4}{\\left(t \\right)} + 27 \\gamma^{2} \\left(y^{0}\\right)^{2} \\tilde{y}^{2}{\\left(t \\right)} z^{3}{\\left(t \\right)} + 19 \\gamma^{2} \\left(y^{0}\\right)^{2} \\tilde{y}^{2}{\\left(t \\right)} z^{2}{\\left(t \\right)} - 52 \\gamma^{2} \\left(y^{0}\\right)^{2} \\tilde{y}^{2}{\\left(t \\right)} z{\\left(t \\right)} - 60 \\gamma^{2} \\left(y^{0}\\right)^{2} \\tilde{y}^{2}{\\left(t \\right)} + 18 \\gamma y^{0} \\tilde{y}{\\left(t \\right)} z^{3}{\\left(t \\right)} + 42 \\gamma y^{0} \\tilde{y}{\\left(t \\right)} z^{2}{\\left(t \\right)} - 24 \\gamma y^{0} \\tilde{y}{\\left(t \\right)} z{\\left(t \\right)} - 84 \\gamma y^{0} \\tilde{y}{\\left(t \\right)} - 36\\right) \\tilde{y}^{2}{\\left(t \\right)}}{6 \\left(\\gamma^{3} \\left(y^{0}\\right)^{3} \\tilde{y}^{3}{\\left(t \\right)} z^{3}{\\left(t \\right)} + 4 \\gamma^{3} \\left(y^{0}\\right)^{3} \\tilde{y}^{3}{\\left(t \\right)} z^{2}{\\left(t \\right)} + 5 \\gamma^{3} \\left(y^{0}\\right)^{3} \\tilde{y}^{3}{\\left(t \\right)} z{\\left(t \\right)} + 2 \\gamma^{3} \\left(y^{0}\\right)^{3} \\tilde{y}^{3}{\\left(t \\right)} + 3 \\gamma^{2} \\left(y^{0}\\right)^{2} \\tilde{y}^{2}{\\left(t \\right)} z^{2}{\\left(t \\right)} + 11 \\gamma^{2} \\left(y^{0}\\right)^{2} \\tilde{y}^{2}{\\left(t \\right)} z{\\left(t \\right)} + 10 \\gamma^{2} \\left(y^{0}\\right)^{2} \\tilde{y}^{2}{\\left(t \\right)} + 6 \\gamma y^{0} \\tilde{y}{\\left(t \\right)} z{\\left(t \\right)} + 14 \\gamma y^{0} \\tilde{y}{\\left(t \\right)} + 6\\right)}$"
      ],
      "text/plain": [
       "⎛ 3   3          3     5         3   3          3     4         3   3         \n",
       "⎝γ ⋅y⁰ ⋅\\tilde{y} (t)⋅z (t) + 5⋅γ ⋅y⁰ ⋅\\tilde{y} (t)⋅z (t) + 3⋅γ ⋅y⁰ ⋅\\tilde{y\n",
       "──────────────────────────────────────────────────────────────────────────────\n",
       "                                                                              \n",
       "                                                                              \n",
       "\n",
       " 3     3          3   3          3     2          3   3          3            \n",
       "} (t)⋅z (t) - 17⋅γ ⋅y⁰ ⋅\\tilde{y} (t)⋅z (t) - 28⋅γ ⋅y⁰ ⋅\\tilde{y} (t)⋅z(t) - 1\n",
       "──────────────────────────────────────────────────────────────────────────────\n",
       "                         ⎛ 3   3          3     3         3   3          3    \n",
       "                       6⋅⎝γ ⋅y⁰ ⋅\\tilde{y} (t)⋅z (t) + 4⋅γ ⋅y⁰ ⋅\\tilde{y} (t)⋅\n",
       "\n",
       "   3   3          3         2   2          2     4          2   2          2  \n",
       "2⋅γ ⋅y⁰ ⋅\\tilde{y} (t) + 6⋅γ ⋅y⁰ ⋅\\tilde{y} (t)⋅z (t) + 27⋅γ ⋅y⁰ ⋅\\tilde{y} (t\n",
       "──────────────────────────────────────────────────────────────────────────────\n",
       " 2         3   3          3              3   3          3         2   2       \n",
       "z (t) + 5⋅γ ⋅y⁰ ⋅\\tilde{y} (t)⋅z(t) + 2⋅γ ⋅y⁰ ⋅\\tilde{y} (t) + 3⋅γ ⋅y⁰ ⋅\\tilde\n",
       "\n",
       "   3          2   2          2     2          2   2          2               2\n",
       ")⋅z (t) + 19⋅γ ⋅y⁰ ⋅\\tilde{y} (t)⋅z (t) - 52⋅γ ⋅y⁰ ⋅\\tilde{y} (t)⋅z(t) - 60⋅γ \n",
       "──────────────────────────────────────────────────────────────────────────────\n",
       "   2     2          2   2          2               2   2          2           \n",
       "{y} (t)⋅z (t) + 11⋅γ ⋅y⁰ ⋅\\tilde{y} (t)⋅z(t) + 10⋅γ ⋅y⁰ ⋅\\tilde{y} (t) + 6⋅γ⋅y\n",
       "\n",
       "   2          2                            3                            2     \n",
       "⋅y⁰ ⋅\\tilde{y} (t) + 18⋅γ⋅y⁰⋅\\tilde{y}(t)⋅z (t) + 42⋅γ⋅y⁰⋅\\tilde{y}(t)⋅z (t) -\n",
       "──────────────────────────────────────────────────────────────────────────────\n",
       "                                              ⎞                               \n",
       "⁰⋅\\tilde{y}(t)⋅z(t) + 14⋅γ⋅y⁰⋅\\tilde{y}(t) + 6⎠                               \n",
       "\n",
       "                                                      ⎞          2   \n",
       " 24⋅γ⋅y⁰⋅\\tilde{y}(t)⋅z(t) - 84⋅γ⋅y⁰⋅\\tilde{y}(t) - 36⎠⋅\\tilde{y} (t)\n",
       "─────────────────────────────────────────────────────────────────────\n",
       "                                                                     \n",
       "                                                                     "
      ]
     },
     "execution_count": 62,
     "metadata": {},
     "output_type": "execute_result"
    }
   ],
   "source": [
    "ans[yw.diff(tau)]"
   ]
  },
  {
   "cell_type": "code",
   "execution_count": 72,
   "metadata": {},
   "outputs": [
    {
     "data": {
      "text/latex": [
       "$\\displaystyle - \\frac{\\gamma k_{s} \\left(\\gamma^{2} y^{2}{\\left(\\tau \\right)} z^{5}{\\left(\\tau \\right)} + 9 \\gamma^{2} y^{2}{\\left(\\tau \\right)} z^{4}{\\left(\\tau \\right)} + 31 \\gamma^{2} y^{2}{\\left(\\tau \\right)} z^{3}{\\left(\\tau \\right)} + 51 \\gamma^{2} y^{2}{\\left(\\tau \\right)} z^{2}{\\left(\\tau \\right)} + 40 \\gamma^{2} y^{2}{\\left(\\tau \\right)} z{\\left(\\tau \\right)} + 12 \\gamma^{2} y^{2}{\\left(\\tau \\right)} + 6 \\gamma y{\\left(\\tau \\right)} z^{4}{\\left(\\tau \\right)} + 48 \\gamma y{\\left(\\tau \\right)} z^{3}{\\left(\\tau \\right)} + 138 \\gamma y{\\left(\\tau \\right)} z^{2}{\\left(\\tau \\right)} + 168 \\gamma y{\\left(\\tau \\right)} z{\\left(\\tau \\right)} + 72 \\gamma y{\\left(\\tau \\right)} + 18 z^{3}{\\left(\\tau \\right)} + 84 z^{2}{\\left(\\tau \\right)} + 126 z{\\left(\\tau \\right)} + 60\\right) y^{2}{\\left(\\tau \\right)} z{\\left(\\tau \\right)}}{6 \\gamma^{3} y^{3}{\\left(\\tau \\right)} z^{3}{\\left(\\tau \\right)} + 24 \\gamma^{3} y^{3}{\\left(\\tau \\right)} z^{2}{\\left(\\tau \\right)} + 30 \\gamma^{3} y^{3}{\\left(\\tau \\right)} z{\\left(\\tau \\right)} + 12 \\gamma^{3} y^{3}{\\left(\\tau \\right)} + 18 \\gamma^{2} y^{2}{\\left(\\tau \\right)} z^{2}{\\left(\\tau \\right)} + 66 \\gamma^{2} y^{2}{\\left(\\tau \\right)} z{\\left(\\tau \\right)} + 60 \\gamma^{2} y^{2}{\\left(\\tau \\right)} + 36 \\gamma y{\\left(\\tau \\right)} z{\\left(\\tau \\right)} + 84 \\gamma y{\\left(\\tau \\right)} + 36}$"
      ],
      "text/plain": [
       "      ⎛ 2  2     5         2  2     4          2  2     3          2  2     2 \n",
       "-γ⋅kₛ⋅⎝γ ⋅y (τ)⋅z (τ) + 9⋅γ ⋅y (τ)⋅z (τ) + 31⋅γ ⋅y (τ)⋅z (τ) + 51⋅γ ⋅y (τ)⋅z (\n",
       "──────────────────────────────────────────────────────────────────────────────\n",
       "                                                 3  3     3          3  3     \n",
       "                                              6⋅γ ⋅y (τ)⋅z (τ) + 24⋅γ ⋅y (τ)⋅z\n",
       "\n",
       "         2  2               2  2                4                 3           \n",
       "τ) + 40⋅γ ⋅y (τ)⋅z(τ) + 12⋅γ ⋅y (τ) + 6⋅γ⋅y(τ)⋅z (τ) + 48⋅γ⋅y(τ)⋅z (τ) + 138⋅γ\n",
       "──────────────────────────────────────────────────────────────────────────────\n",
       "2          3  3               3  3          2  2     2          2  2          \n",
       " (τ) + 30⋅γ ⋅y (τ)⋅z(τ) + 12⋅γ ⋅y (τ) + 18⋅γ ⋅y (τ)⋅z (τ) + 66⋅γ ⋅y (τ)⋅z(τ) +\n",
       "\n",
       "       2                                        3          2                  \n",
       "⋅y(τ)⋅z (τ) + 168⋅γ⋅y(τ)⋅z(τ) + 72⋅γ⋅y(τ) + 18⋅z (τ) + 84⋅z (τ) + 126⋅z(τ) + 6\n",
       "──────────────────────────────────────────────────────────────────────────────\n",
       "     2  2                                                                     \n",
       " 60⋅γ ⋅y (τ) + 36⋅γ⋅y(τ)⋅z(τ) + 84⋅γ⋅y(τ) + 36                                \n",
       "\n",
       " ⎞  2         \n",
       "0⎠⋅y (τ)⋅z(τ) \n",
       "──────────────\n",
       "              \n",
       "              "
      ]
     },
     "execution_count": 72,
     "metadata": {},
     "output_type": "execute_result"
    }
   ],
   "source": [
    "ans[z.diff(tau)]"
   ]
  },
  {
   "cell_type": "code",
   "execution_count": null,
   "metadata": {},
   "outputs": [],
   "source": []
  },
  {
   "cell_type": "code",
   "execution_count": null,
   "metadata": {},
   "outputs": [],
   "source": []
  }
 ],
 "metadata": {
  "kernelspec": {
   "display_name": "PyCharm (MC_simulation)",
   "language": "python",
   "name": "pycharm-55ed0cc"
  },
  "language_info": {
   "codemirror_mode": {
    "name": "ipython",
    "version": 3
   },
   "file_extension": ".py",
   "mimetype": "text/x-python",
   "name": "python",
   "nbconvert_exporter": "python",
   "pygments_lexer": "ipython3",
   "version": "3.7.6"
  },
  "pycharm": {
   "stem_cell": {
    "cell_type": "raw",
    "metadata": {
     "collapsed": false
    },
    "source": []
   }
  }
 },
 "nbformat": 4,
 "nbformat_minor": 1
}
