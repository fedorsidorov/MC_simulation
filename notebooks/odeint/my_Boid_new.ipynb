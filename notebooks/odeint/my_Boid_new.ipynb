{
 "cells": [
  {
   "cell_type": "code",
   "execution_count": 1,
   "metadata": {
    "pycharm": {
     "is_executing": false
    }
   },
   "outputs": [],
   "source": [
    "import sympy as sp\n",
    "\n",
    "sp.init_printing(use_latex='mathjax')\n",
    "\n",
    "gw = sp.Symbol('gamma')\n",
    "M1w, yw, z = sp.symbols('M1 y z')\n",
    "M1w_p, yw_p, z_p = sp.symbols('M1_diff y_diff z_diff')"
   ]
  },
  {
   "cell_type": "code",
   "execution_count": 2,
   "metadata": {},
   "outputs": [
    {
     "data": {
      "text/latex": [
       "$\\displaystyle \\frac{M_{1 diff}}{M_{1}} = \\frac{\\gamma y^{2} \\left(z + 1\\right) \\left(z + 2\\right) - y \\left(z + 1\\right) + \\frac{z_{diff}}{z + 1} + \\frac{y_{diff}}{y}}{\\gamma y \\left(z + 1\\right) + 1}$"
      ],
      "text/plain": [
       "              2                               z_diff   y_diff\n",
       "           γ⋅y ⋅(z + 1)⋅(z + 2) - y⋅(z + 1) + ────── + ──────\n",
       "M_1_diff                                      z + 1      y   \n",
       "──────── = ──────────────────────────────────────────────────\n",
       "   M₁                       γ⋅y⋅(z + 1) + 1                  "
      ]
     },
     "execution_count": 2,
     "metadata": {},
     "output_type": "execute_result"
    }
   ],
   "source": [
    "eq_1 = sp.Eq(\n",
    "    M1w_p / M1w,\n",
    "    (yw_p / yw + z_p / (z + 1) + yw**2 * (z + 1) * (z + 2) * gw - yw * (z+1)) / (1 + yw * gw * (z + 1))\n",
    ")\n",
    "eq_1"
   ]
  },
  {
   "cell_type": "code",
   "execution_count": 3,
   "metadata": {},
   "outputs": [
    {
     "data": {
      "text/latex": [
       "$\\displaystyle \\frac{y z_{diff}}{z + 2} + y_{diff} + \\frac{M_{1 diff} y}{M_{1}} = - \\frac{y^{2} \\left(z + 3\\right)}{3} - \\frac{2 y + \\frac{2 M_{1 diff}}{M_{1}}}{\\gamma}$"
      ],
      "text/plain": [
       "                                                      2⋅M_1_diff\n",
       "                                    2           2⋅y + ──────────\n",
       "y⋅z_diff            M_1_diff⋅y     y ⋅(z + 3)             M₁    \n",
       "──────── + y_diff + ────────── = - ────────── - ────────────────\n",
       " z + 2                  M₁             3               γ        "
      ]
     },
     "execution_count": 3,
     "metadata": {},
     "output_type": "execute_result"
    }
   ],
   "source": [
    "eq_2 = sp.Eq(\n",
    "    M1w_p / M1w * yw + yw_p + yw * z_p / (z + 2),\n",
    "    -yw**2 * (z + 3) / 3 - (yw + M1w_p / M1w) * 2 / gw\n",
    ")\n",
    "eq_2"
   ]
  },
  {
   "cell_type": "code",
   "execution_count": 4,
   "metadata": {},
   "outputs": [
    {
     "data": {
      "text/latex": [
       "$\\displaystyle \\frac{y^{2} \\left(2 z + 5\\right)}{z + 2} + y y_{diff} \\left(2 z + 6\\right) + \\frac{M_{1 diff} y^{2} \\left(z + 3\\right)}{M_{1}} = - \\frac{y^{3} \\left(z + 3\\right) \\left(z + 4\\right)}{2} - \\frac{3 \\left(y^{2} \\left(z + 3\\right) + \\frac{y z_{diff}}{z + 2} + y_{diff} + \\frac{M_{1 diff} y}{M_{1}}\\right)}{\\gamma}$"
      ],
      "text/plain": [
       "                                                                              \n",
       " 2                                            2              3                \n",
       "y ⋅(2⋅z + 5)                        M_1_diff⋅y ⋅(z + 3)     y ⋅(z + 3)⋅(z + 4)\n",
       "──────────── + y⋅y_diff⋅(2⋅z + 6) + ─────────────────── = - ──────────────────\n",
       "   z + 2                                     M₁                     2         \n",
       "\n",
       "     ⎛ 2           y⋅z_diff            M_1_diff⋅y⎞\n",
       "   3⋅⎜y ⋅(z + 3) + ──────── + y_diff + ──────────⎟\n",
       "     ⎝              z + 2                  M₁    ⎠\n",
       " - ───────────────────────────────────────────────\n",
       "                          γ                       "
      ]
     },
     "execution_count": 4,
     "metadata": {},
     "output_type": "execute_result"
    }
   ],
   "source": [
    "eq_3 = sp.Eq(\n",
    "    M1w_p / M1w * yw**2 * (z + 3) + (2*z + 5) * yw**2 / (z + 2) + (z + 3) * 2 * yw * yw_p,\n",
    "    -yw**3 * (z + 3) * (z + 4) / 2 - 3 / gw * ((z + 3) * yw**2 + M1w_p / M1w * yw + yw_p + yw * z_p / (z + 2))\n",
    ")\n",
    "eq_3"
   ]
  },
  {
   "cell_type": "code",
   "execution_count": 30,
   "metadata": {},
   "outputs": [
    {
     "data": {
      "text/latex": [
       "$\\displaystyle \\left\\{ M_{1 diff} : \\frac{M_{1} y \\left(12 \\gamma^{3} y^{3} z^{5} + 108 \\gamma^{3} y^{3} z^{4} + 372 \\gamma^{3} y^{3} z^{3} + 612 \\gamma^{3} y^{3} z^{2} + 480 \\gamma^{3} y^{3} z + 144 \\gamma^{3} y^{3} - 16 \\gamma^{2} y^{2} z^{4} - 121 \\gamma^{2} y^{2} z^{3} - 325 \\gamma^{2} y^{2} z^{2} - 366 \\gamma^{2} y^{2} z - 144 \\gamma^{2} y^{2} + 12 \\gamma^{2} y z + 30 \\gamma^{2} y - 24 \\gamma y z^{3} - 156 \\gamma y z^{2} - 324 \\gamma y z - 216 \\gamma y - 36 z - 72\\right)}{6 \\left(2 \\gamma^{3} y^{3} z^{4} + 14 \\gamma^{3} y^{3} z^{3} + 34 \\gamma^{3} y^{3} z^{2} + 34 \\gamma^{3} y^{3} z + 12 \\gamma^{3} y^{3} + 4 \\gamma^{2} y^{2} z^{3} + 25 \\gamma^{2} y^{2} z^{2} + 49 \\gamma^{2} y^{2} z + 30 \\gamma^{2} y^{2} + 4 \\gamma y z^{3} + 28 \\gamma y z^{2} + 64 \\gamma y z + 48 \\gamma y + 6 z + 12\\right)}, \\  y_{diff} : - \\frac{y^{2} \\left(9 \\gamma^{3} y^{3} z^{5} + 87 \\gamma^{3} y^{3} z^{4} + 321 \\gamma^{3} y^{3} z^{3} + 561 \\gamma^{3} y^{3} z^{2} + 462 \\gamma^{3} y^{3} z + 144 \\gamma^{3} y^{3} + 12 \\gamma^{3} y^{2} z^{3} + 54 \\gamma^{3} y^{2} z^{2} + 72 \\gamma^{3} y^{2} z + 30 \\gamma^{3} y^{2} + 10 \\gamma^{2} y^{2} z^{4} + 85 \\gamma^{2} y^{2} z^{3} + 265 \\gamma^{2} y^{2} z^{2} + 360 \\gamma^{2} y^{2} z + 180 \\gamma^{2} y^{2} + 24 \\gamma^{2} y z^{2} + 96 \\gamma^{2} y z + 90 \\gamma^{2} y - 30 \\gamma y z^{4} - 174 \\gamma y z^{3} - 276 \\gamma y z^{2} - 24 \\gamma y z + 144 \\gamma y + 24 \\gamma z^{2} + 108 \\gamma z + 120 \\gamma + 72 z^{3} + 324 z^{2} + 504 z + 288\\right)}{12 \\gamma^{3} y^{3} z^{4} + 84 \\gamma^{3} y^{3} z^{3} + 204 \\gamma^{3} y^{3} z^{2} + 204 \\gamma^{3} y^{3} z + 72 \\gamma^{3} y^{3} + 24 \\gamma^{2} y^{2} z^{3} + 150 \\gamma^{2} y^{2} z^{2} + 294 \\gamma^{2} y^{2} z + 180 \\gamma^{2} y^{2} + 24 \\gamma y z^{3} + 168 \\gamma y z^{2} + 384 \\gamma y z + 288 \\gamma y + 36 z + 72}, \\  z_{diff} : - \\frac{y \\left(7 \\gamma^{3} y^{3} z^{5} + 61 \\gamma^{3} y^{3} z^{4} + 203 \\gamma^{3} y^{3} z^{3} + 323 \\gamma^{3} y^{3} z^{2} + 246 \\gamma^{3} y^{3} z + 72 \\gamma^{3} y^{3} - 12 \\gamma^{3} y^{2} z^{3} - 54 \\gamma^{3} y^{2} z^{2} - 72 \\gamma^{3} y^{2} z - 30 \\gamma^{3} y^{2} + 24 \\gamma^{2} y^{2} z^{5} + 222 \\gamma^{2} y^{2} z^{4} + 780 \\gamma^{2} y^{2} z^{3} + 1290 \\gamma^{2} y^{2} z^{2} + 996 \\gamma^{2} y^{2} z + 288 \\gamma^{2} y^{2} - 24 \\gamma^{2} y z^{2} - 84 \\gamma^{2} y z - 60 \\gamma^{2} y + 6 \\gamma y z^{4} + 36 \\gamma y z^{3} + 66 \\gamma y z^{2} + 36 \\gamma y z - 24 \\gamma z^{2} - 84 \\gamma z - 60 \\gamma - 72 z^{3} - 288 z^{2} - 360 z - 144\\right)}{12 \\gamma^{3} y^{3} z^{3} + 60 \\gamma^{3} y^{3} z^{2} + 84 \\gamma^{3} y^{3} z + 36 \\gamma^{3} y^{3} + 24 \\gamma^{2} y^{2} z^{2} + 102 \\gamma^{2} y^{2} z + 90 \\gamma^{2} y^{2} + 24 \\gamma y z^{2} + 120 \\gamma y z + 144 \\gamma y + 36}\\right\\}$"
      ],
      "text/plain": [
       "⎧               ⎛    3  3  5        3  3  4        3  3  3        3  3  2     \n",
       "⎪          M₁⋅y⋅⎝12⋅γ ⋅y ⋅z  + 108⋅γ ⋅y ⋅z  + 372⋅γ ⋅y ⋅z  + 612⋅γ ⋅y ⋅z  + 48\n",
       "⎨M_1_diff: ───────────────────────────────────────────────────────────────────\n",
       "⎪                                              ⎛   3  3  4       3  3  3      \n",
       "⎩                                            6⋅⎝2⋅γ ⋅y ⋅z  + 14⋅γ ⋅y ⋅z  + 34⋅\n",
       "\n",
       "   3  3          3  3       2  2  4        2  2  3        2  2  2        2  2 \n",
       "0⋅γ ⋅y ⋅z + 144⋅γ ⋅y  - 16⋅γ ⋅y ⋅z  - 121⋅γ ⋅y ⋅z  - 325⋅γ ⋅y ⋅z  - 366⋅γ ⋅y ⋅\n",
       "──────────────────────────────────────────────────────────────────────────────\n",
       " 3  3  2       3  3         3  3      2  2  3       2  2  2       2  2        \n",
       "γ ⋅y ⋅z  + 34⋅γ ⋅y ⋅z + 12⋅γ ⋅y  + 4⋅γ ⋅y ⋅z  + 25⋅γ ⋅y ⋅z  + 49⋅γ ⋅y ⋅z + 30⋅\n",
       "\n",
       "         2  2       2           2             3            2                  \n",
       "z - 144⋅γ ⋅y  + 12⋅γ ⋅y⋅z + 30⋅γ ⋅y - 24⋅γ⋅y⋅z  - 156⋅γ⋅y⋅z  - 324⋅γ⋅y⋅z - 216\n",
       "──────────────────────────────────────────────────────────────────────────────\n",
       " 2  2          3           2                               ⎞                  \n",
       "γ ⋅y  + 4⋅γ⋅y⋅z  + 28⋅γ⋅y⋅z  + 64⋅γ⋅y⋅z + 48⋅γ⋅y + 6⋅z + 12⎠                  \n",
       "\n",
       "                ⎞            2 ⎛   3  3  5       3  3  4        3  3  3       \n",
       "⋅γ⋅y - 36⋅z - 72⎠          -y ⋅⎝9⋅γ ⋅y ⋅z  + 87⋅γ ⋅y ⋅z  + 321⋅γ ⋅y ⋅z  + 561⋅\n",
       "─────────────────, y_diff: ───────────────────────────────────────────────────\n",
       "                                                                              \n",
       "                                                                              \n",
       "\n",
       " 3  3  2        3  3          3  3       3  2  3       3  2  2       3  2     \n",
       "γ ⋅y ⋅z  + 462⋅γ ⋅y ⋅z + 144⋅γ ⋅y  + 12⋅γ ⋅y ⋅z  + 54⋅γ ⋅y ⋅z  + 72⋅γ ⋅y ⋅z + \n",
       "──────────────────────────────────────────────────────────────────────────────\n",
       "                                            3  3  4       3  3  3        3  3 \n",
       "                                        12⋅γ ⋅y ⋅z  + 84⋅γ ⋅y ⋅z  + 204⋅γ ⋅y ⋅\n",
       "\n",
       "    3  2       2  2  4       2  2  3        2  2  2        2  2          2  2 \n",
       "30⋅γ ⋅y  + 10⋅γ ⋅y ⋅z  + 85⋅γ ⋅y ⋅z  + 265⋅γ ⋅y ⋅z  + 360⋅γ ⋅y ⋅z + 180⋅γ ⋅y  \n",
       "──────────────────────────────────────────────────────────────────────────────\n",
       " 2        3  3         3  3       2  2  3        2  2  2        2  2          \n",
       "z  + 204⋅γ ⋅y ⋅z + 72⋅γ ⋅y  + 24⋅γ ⋅y ⋅z  + 150⋅γ ⋅y ⋅z  + 294⋅γ ⋅y ⋅z + 180⋅γ\n",
       "\n",
       "      2    2       2           2             4            3            2      \n",
       "+ 24⋅γ ⋅y⋅z  + 96⋅γ ⋅y⋅z + 90⋅γ ⋅y - 30⋅γ⋅y⋅z  - 174⋅γ⋅y⋅z  - 276⋅γ⋅y⋅z  - 24⋅\n",
       "──────────────────────────────────────────────────────────────────────────────\n",
       "2  2           3            2                                                 \n",
       " ⋅y  + 24⋅γ⋅y⋅z  + 168⋅γ⋅y⋅z  + 384⋅γ⋅y⋅z + 288⋅γ⋅y + 36⋅z + 72               \n",
       "\n",
       "                        2                         3        2              ⎞   \n",
       "γ⋅y⋅z + 144⋅γ⋅y + 24⋅γ⋅z  + 108⋅γ⋅z + 120⋅γ + 72⋅z  + 324⋅z  + 504⋅z + 288⎠   \n",
       "────────────────────────────────────────────────────────────────────────────, \n",
       "                                                                              \n",
       "                                                                              \n",
       "\n",
       "           ⎛   3  3  5       3  3  4        3  3  3        3  3  2        3  3\n",
       "        -y⋅⎝7⋅γ ⋅y ⋅z  + 61⋅γ ⋅y ⋅z  + 203⋅γ ⋅y ⋅z  + 323⋅γ ⋅y ⋅z  + 246⋅γ ⋅y \n",
       "z_diff: ──────────────────────────────────────────────────────────────────────\n",
       "                                                                              \n",
       "                                                                              \n",
       "\n",
       "         3  3       3  2  3       3  2  2       3  2         3  2       2  2  \n",
       "⋅z + 72⋅γ ⋅y  - 12⋅γ ⋅y ⋅z  - 54⋅γ ⋅y ⋅z  - 72⋅γ ⋅y ⋅z - 30⋅γ ⋅y  + 24⋅γ ⋅y ⋅z\n",
       "──────────────────────────────────────────────────────────────────────────────\n",
       "                                                   3  3  3       3  3  2      \n",
       "                                               12⋅γ ⋅y ⋅z  + 60⋅γ ⋅y ⋅z  + 84⋅\n",
       "\n",
       "5        2  2  4        2  2  3         2  2  2        2  2          2  2     \n",
       "  + 222⋅γ ⋅y ⋅z  + 780⋅γ ⋅y ⋅z  + 1290⋅γ ⋅y ⋅z  + 996⋅γ ⋅y ⋅z + 288⋅γ ⋅y  - 24\n",
       "──────────────────────────────────────────────────────────────────────────────\n",
       " 3  3         3  3       2  2  2        2  2         2  2           2         \n",
       "γ ⋅y ⋅z + 36⋅γ ⋅y  + 24⋅γ ⋅y ⋅z  + 102⋅γ ⋅y ⋅z + 90⋅γ ⋅y  + 24⋅γ⋅y⋅z  + 120⋅γ⋅\n",
       "\n",
       "  2    2       2           2            4           3           2             \n",
       "⋅γ ⋅y⋅z  - 84⋅γ ⋅y⋅z - 60⋅γ ⋅y + 6⋅γ⋅y⋅z  + 36⋅γ⋅y⋅z  + 66⋅γ⋅y⋅z  + 36⋅γ⋅y⋅z -\n",
       "──────────────────────────────────────────────────────────────────────────────\n",
       "                                                                              \n",
       "y⋅z + 144⋅γ⋅y + 36                                                            \n",
       "\n",
       "       2                       3        2              ⎞ ⎫\n",
       " 24⋅γ⋅z  - 84⋅γ⋅z - 60⋅γ - 72⋅z  - 288⋅z  - 360⋅z - 144⎠ ⎪\n",
       "─────────────────────────────────────────────────────────⎬\n",
       "                                                         ⎪\n",
       "                                                         ⎭"
      ]
     },
     "execution_count": 30,
     "metadata": {},
     "output_type": "execute_result"
    }
   ],
   "source": [
    "solution = sp.solve([eq_1, eq_2, eq_3], [M1w_p, yw_p, z_p])\n",
    "solution"
   ]
  },
  {
   "cell_type": "code",
   "execution_count": 31,
   "metadata": {},
   "outputs": [
    {
     "data": {
      "text/latex": [
       "$\\displaystyle \\frac{M_{1} y \\left(12 \\gamma^{3} y^{3} z^{5} + 108 \\gamma^{3} y^{3} z^{4} + 372 \\gamma^{3} y^{3} z^{3} + 612 \\gamma^{3} y^{3} z^{2} + 480 \\gamma^{3} y^{3} z + 144 \\gamma^{3} y^{3} - 16 \\gamma^{2} y^{2} z^{4} - 121 \\gamma^{2} y^{2} z^{3} - 325 \\gamma^{2} y^{2} z^{2} - 366 \\gamma^{2} y^{2} z - 144 \\gamma^{2} y^{2} + 12 \\gamma^{2} y z + 30 \\gamma^{2} y - 24 \\gamma y z^{3} - 156 \\gamma y z^{2} - 324 \\gamma y z - 216 \\gamma y - 36 z - 72\\right)}{6 \\left(2 \\gamma^{3} y^{3} z^{4} + 14 \\gamma^{3} y^{3} z^{3} + 34 \\gamma^{3} y^{3} z^{2} + 34 \\gamma^{3} y^{3} z + 12 \\gamma^{3} y^{3} + 4 \\gamma^{2} y^{2} z^{3} + 25 \\gamma^{2} y^{2} z^{2} + 49 \\gamma^{2} y^{2} z + 30 \\gamma^{2} y^{2} + 4 \\gamma y z^{3} + 28 \\gamma y z^{2} + 64 \\gamma y z + 48 \\gamma y + 6 z + 12\\right)}$"
      ],
      "text/plain": [
       "     ⎛    3  3  5        3  3  4        3  3  3        3  3  2        3  3    \n",
       "M₁⋅y⋅⎝12⋅γ ⋅y ⋅z  + 108⋅γ ⋅y ⋅z  + 372⋅γ ⋅y ⋅z  + 612⋅γ ⋅y ⋅z  + 480⋅γ ⋅y ⋅z +\n",
       "──────────────────────────────────────────────────────────────────────────────\n",
       "                                    ⎛   3  3  4       3  3  3       3  3  2   \n",
       "                                  6⋅⎝2⋅γ ⋅y ⋅z  + 14⋅γ ⋅y ⋅z  + 34⋅γ ⋅y ⋅z  + \n",
       "\n",
       "      3  3       2  2  4        2  2  3        2  2  2        2  2          2 \n",
       " 144⋅γ ⋅y  - 16⋅γ ⋅y ⋅z  - 121⋅γ ⋅y ⋅z  - 325⋅γ ⋅y ⋅z  - 366⋅γ ⋅y ⋅z - 144⋅γ ⋅\n",
       "──────────────────────────────────────────────────────────────────────────────\n",
       "    3  3         3  3      2  2  3       2  2  2       2  2         2  2      \n",
       "34⋅γ ⋅y ⋅z + 12⋅γ ⋅y  + 4⋅γ ⋅y ⋅z  + 25⋅γ ⋅y ⋅z  + 49⋅γ ⋅y ⋅z + 30⋅γ ⋅y  + 4⋅γ\n",
       "\n",
       " 2       2           2             3            2                             \n",
       "y  + 12⋅γ ⋅y⋅z + 30⋅γ ⋅y - 24⋅γ⋅y⋅z  - 156⋅γ⋅y⋅z  - 324⋅γ⋅y⋅z - 216⋅γ⋅y - 36⋅z\n",
       "──────────────────────────────────────────────────────────────────────────────\n",
       "    3           2                               ⎞                             \n",
       "⋅y⋅z  + 28⋅γ⋅y⋅z  + 64⋅γ⋅y⋅z + 48⋅γ⋅y + 6⋅z + 12⎠                             \n",
       "\n",
       "     ⎞\n",
       " - 72⎠\n",
       "──────\n",
       "      \n",
       "      "
      ]
     },
     "execution_count": 31,
     "metadata": {},
     "output_type": "execute_result"
    }
   ],
   "source": [
    "solution[M1w_p]"
   ]
  },
  {
   "cell_type": "code",
   "execution_count": 32,
   "metadata": {},
   "outputs": [
    {
     "data": {
      "text/latex": [
       "$\\displaystyle - \\frac{y^{2} \\left(9 \\gamma^{3} y^{3} z^{5} + 87 \\gamma^{3} y^{3} z^{4} + 321 \\gamma^{3} y^{3} z^{3} + 561 \\gamma^{3} y^{3} z^{2} + 462 \\gamma^{3} y^{3} z + 144 \\gamma^{3} y^{3} + 12 \\gamma^{3} y^{2} z^{3} + 54 \\gamma^{3} y^{2} z^{2} + 72 \\gamma^{3} y^{2} z + 30 \\gamma^{3} y^{2} + 10 \\gamma^{2} y^{2} z^{4} + 85 \\gamma^{2} y^{2} z^{3} + 265 \\gamma^{2} y^{2} z^{2} + 360 \\gamma^{2} y^{2} z + 180 \\gamma^{2} y^{2} + 24 \\gamma^{2} y z^{2} + 96 \\gamma^{2} y z + 90 \\gamma^{2} y - 30 \\gamma y z^{4} - 174 \\gamma y z^{3} - 276 \\gamma y z^{2} - 24 \\gamma y z + 144 \\gamma y + 24 \\gamma z^{2} + 108 \\gamma z + 120 \\gamma + 72 z^{3} + 324 z^{2} + 504 z + 288\\right)}{12 \\gamma^{3} y^{3} z^{4} + 84 \\gamma^{3} y^{3} z^{3} + 204 \\gamma^{3} y^{3} z^{2} + 204 \\gamma^{3} y^{3} z + 72 \\gamma^{3} y^{3} + 24 \\gamma^{2} y^{2} z^{3} + 150 \\gamma^{2} y^{2} z^{2} + 294 \\gamma^{2} y^{2} z + 180 \\gamma^{2} y^{2} + 24 \\gamma y z^{3} + 168 \\gamma y z^{2} + 384 \\gamma y z + 288 \\gamma y + 36 z + 72}$"
      ],
      "text/plain": [
       "  2 ⎛   3  3  5       3  3  4        3  3  3        3  3  2        3  3       \n",
       "-y ⋅⎝9⋅γ ⋅y ⋅z  + 87⋅γ ⋅y ⋅z  + 321⋅γ ⋅y ⋅z  + 561⋅γ ⋅y ⋅z  + 462⋅γ ⋅y ⋅z + 14\n",
       "──────────────────────────────────────────────────────────────────────────────\n",
       "                                                                              \n",
       "                                                                              \n",
       "\n",
       "   3  3       3  2  3       3  2  2       3  2         3  2       2  2  4     \n",
       "4⋅γ ⋅y  + 12⋅γ ⋅y ⋅z  + 54⋅γ ⋅y ⋅z  + 72⋅γ ⋅y ⋅z + 30⋅γ ⋅y  + 10⋅γ ⋅y ⋅z  + 85\n",
       "──────────────────────────────────────────────────────────────────────────────\n",
       "                 3  3  4       3  3  3        3  3  2        3  3         3  3\n",
       "             12⋅γ ⋅y ⋅z  + 84⋅γ ⋅y ⋅z  + 204⋅γ ⋅y ⋅z  + 204⋅γ ⋅y ⋅z + 72⋅γ ⋅y \n",
       "\n",
       "  2  2  3        2  2  2        2  2          2  2       2    2       2       \n",
       "⋅γ ⋅y ⋅z  + 265⋅γ ⋅y ⋅z  + 360⋅γ ⋅y ⋅z + 180⋅γ ⋅y  + 24⋅γ ⋅y⋅z  + 96⋅γ ⋅y⋅z + \n",
       "──────────────────────────────────────────────────────────────────────────────\n",
       "       2  2  3        2  2  2        2  2          2  2           3           \n",
       " + 24⋅γ ⋅y ⋅z  + 150⋅γ ⋅y ⋅z  + 294⋅γ ⋅y ⋅z + 180⋅γ ⋅y  + 24⋅γ⋅y⋅z  + 168⋅γ⋅y⋅\n",
       "\n",
       "    2             4            3            2                              2  \n",
       "90⋅γ ⋅y - 30⋅γ⋅y⋅z  - 174⋅γ⋅y⋅z  - 276⋅γ⋅y⋅z  - 24⋅γ⋅y⋅z + 144⋅γ⋅y + 24⋅γ⋅z  +\n",
       "──────────────────────────────────────────────────────────────────────────────\n",
       " 2                                                                            \n",
       "z  + 384⋅γ⋅y⋅z + 288⋅γ⋅y + 36⋅z + 72                                          \n",
       "\n",
       "                       3        2              ⎞ \n",
       " 108⋅γ⋅z + 120⋅γ + 72⋅z  + 324⋅z  + 504⋅z + 288⎠ \n",
       "─────────────────────────────────────────────────\n",
       "                                                 \n",
       "                                                 "
      ]
     },
     "execution_count": 32,
     "metadata": {},
     "output_type": "execute_result"
    }
   ],
   "source": [
    "solution[yw_p]"
   ]
  },
  {
   "cell_type": "code",
   "execution_count": 33,
   "metadata": {},
   "outputs": [
    {
     "data": {
      "text/latex": [
       "$\\displaystyle - \\frac{y \\left(7 \\gamma^{3} y^{3} z^{5} + 61 \\gamma^{3} y^{3} z^{4} + 203 \\gamma^{3} y^{3} z^{3} + 323 \\gamma^{3} y^{3} z^{2} + 246 \\gamma^{3} y^{3} z + 72 \\gamma^{3} y^{3} - 12 \\gamma^{3} y^{2} z^{3} - 54 \\gamma^{3} y^{2} z^{2} - 72 \\gamma^{3} y^{2} z - 30 \\gamma^{3} y^{2} + 24 \\gamma^{2} y^{2} z^{5} + 222 \\gamma^{2} y^{2} z^{4} + 780 \\gamma^{2} y^{2} z^{3} + 1290 \\gamma^{2} y^{2} z^{2} + 996 \\gamma^{2} y^{2} z + 288 \\gamma^{2} y^{2} - 24 \\gamma^{2} y z^{2} - 84 \\gamma^{2} y z - 60 \\gamma^{2} y + 6 \\gamma y z^{4} + 36 \\gamma y z^{3} + 66 \\gamma y z^{2} + 36 \\gamma y z - 24 \\gamma z^{2} - 84 \\gamma z - 60 \\gamma - 72 z^{3} - 288 z^{2} - 360 z - 144\\right)}{12 \\gamma^{3} y^{3} z^{3} + 60 \\gamma^{3} y^{3} z^{2} + 84 \\gamma^{3} y^{3} z + 36 \\gamma^{3} y^{3} + 24 \\gamma^{2} y^{2} z^{2} + 102 \\gamma^{2} y^{2} z + 90 \\gamma^{2} y^{2} + 24 \\gamma y z^{2} + 120 \\gamma y z + 144 \\gamma y + 36}$"
      ],
      "text/plain": [
       "   ⎛   3  3  5       3  3  4        3  3  3        3  3  2        3  3        \n",
       "-y⋅⎝7⋅γ ⋅y ⋅z  + 61⋅γ ⋅y ⋅z  + 203⋅γ ⋅y ⋅z  + 323⋅γ ⋅y ⋅z  + 246⋅γ ⋅y ⋅z + 72⋅\n",
       "──────────────────────────────────────────────────────────────────────────────\n",
       "                                                                              \n",
       "                                                                              \n",
       "\n",
       " 3  3       3  2  3       3  2  2       3  2         3  2       2  2  5       \n",
       "γ ⋅y  - 12⋅γ ⋅y ⋅z  - 54⋅γ ⋅y ⋅z  - 72⋅γ ⋅y ⋅z - 30⋅γ ⋅y  + 24⋅γ ⋅y ⋅z  + 222⋅\n",
       "──────────────────────────────────────────────────────────────────────────────\n",
       "                                           3  3  3       3  3  2       3  3   \n",
       "                                       12⋅γ ⋅y ⋅z  + 60⋅γ ⋅y ⋅z  + 84⋅γ ⋅y ⋅z \n",
       "\n",
       " 2  2  4        2  2  3         2  2  2        2  2          2  2       2    2\n",
       "γ ⋅y ⋅z  + 780⋅γ ⋅y ⋅z  + 1290⋅γ ⋅y ⋅z  + 996⋅γ ⋅y ⋅z + 288⋅γ ⋅y  - 24⋅γ ⋅y⋅z \n",
       "──────────────────────────────────────────────────────────────────────────────\n",
       "      3  3       2  2  2        2  2         2  2           2                 \n",
       "+ 36⋅γ ⋅y  + 24⋅γ ⋅y ⋅z  + 102⋅γ ⋅y ⋅z + 90⋅γ ⋅y  + 24⋅γ⋅y⋅z  + 120⋅γ⋅y⋅z + 14\n",
       "\n",
       "       2           2            4           3           2                    2\n",
       " - 84⋅γ ⋅y⋅z - 60⋅γ ⋅y + 6⋅γ⋅y⋅z  + 36⋅γ⋅y⋅z  + 66⋅γ⋅y⋅z  + 36⋅γ⋅y⋅z - 24⋅γ⋅z \n",
       "──────────────────────────────────────────────────────────────────────────────\n",
       "                                                                              \n",
       "4⋅γ⋅y + 36                                                                    \n",
       "\n",
       "                       3        2              ⎞ \n",
       " - 84⋅γ⋅z - 60⋅γ - 72⋅z  - 288⋅z  - 360⋅z - 144⎠ \n",
       "─────────────────────────────────────────────────\n",
       "                                                 \n",
       "                                                 "
      ]
     },
     "execution_count": 33,
     "metadata": {},
     "output_type": "execute_result"
    }
   ],
   "source": [
    "solution[z_p]"
   ]
  },
  {
   "cell_type": "code",
   "execution_count": 34,
   "metadata": {},
   "outputs": [],
   "source": [
    "def dM1w_dt(M1w_val, yw_val, z_val, gw_val):\n",
    "    return solution[M1w_p].subs([(M1w, M1w_val), (yw, yw_val), (z, z_val), (gw, gw_val)])\n",
    "\n",
    "def dyw_dt(M1w_val, yw_val, z_val, gw_val):\n",
    "    return solution[yw_p].subs([(M1w, M1w_val), (yw, yw_val), (z, z_val), (gw, gw_val)])\n",
    "\n",
    "def dz_dt(M1w_val, yw_val, z_val, gw_val):\n",
    "    return solution[z_p].subs([(M1w, M1w_val), (yw, yw_val), (z, z_val), (gw, gw_val)])"
   ]
  },
  {
   "cell_type": "code",
   "execution_count": null,
   "metadata": {},
   "outputs": [],
   "source": []
  },
  {
   "cell_type": "code",
   "execution_count": null,
   "metadata": {},
   "outputs": [],
   "source": []
  },
  {
   "cell_type": "code",
   "execution_count": null,
   "metadata": {},
   "outputs": [],
   "source": []
  },
  {
   "cell_type": "code",
   "execution_count": null,
   "metadata": {},
   "outputs": [],
   "source": []
  },
  {
   "cell_type": "code",
   "execution_count": null,
   "metadata": {},
   "outputs": [],
   "source": []
  },
  {
   "cell_type": "code",
   "execution_count": null,
   "metadata": {},
   "outputs": [],
   "source": []
  }
 ],
 "metadata": {
  "kernelspec": {
   "display_name": "PyCharm (MC_simulation)",
   "language": "python",
   "name": "pycharm-55ed0cc"
  },
  "language_info": {
   "codemirror_mode": {
    "name": "ipython",
    "version": 3
   },
   "file_extension": ".py",
   "mimetype": "text/x-python",
   "name": "python",
   "nbconvert_exporter": "python",
   "pygments_lexer": "ipython3",
   "version": "3.7.6"
  },
  "pycharm": {
   "stem_cell": {
    "cell_type": "raw",
    "metadata": {
     "collapsed": false
    },
    "source": []
   }
  }
 },
 "nbformat": 4,
 "nbformat_minor": 1
}
