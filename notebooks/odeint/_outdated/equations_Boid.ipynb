{
 "cells": [
  {
   "cell_type": "code",
   "execution_count": 1,
   "metadata": {
    "pycharm": {
     "is_executing": false
    }
   },
   "outputs": [],
   "source": [
    "from sympy import *\n",
    "\n",
    "init_printing(use_latex='mathjax')\n",
    "\n",
    "gw, tau, ks, y0 = symbols(r'\\tilde{\\gamma} \\tau k_s y0')\n",
    "\n",
    "M1 = Function(r'M1')(tau)\n",
    "yw = Function(r'\\tilde{y}')(tau)\n",
    "z = Function(r'z')(tau)\n",
    "\n",
    "g = gw / y0\n",
    "y = yw * y0\n",
    "\n",
    "M0 = M1/(y*(z + 1))\n",
    "M2 = M1*(z + 2)*y\n",
    "M3 = M1*(z + 2)*(z + 3)*y**2\n",
    "M4 = M1*(z + 2)*(z + 3)*(z + 4)*y**3"
   ]
  },
  {
   "cell_type": "code",
   "execution_count": 2,
   "metadata": {
    "pycharm": {
     "is_executing": false
    }
   },
   "outputs": [
    {
     "data": {
      "text/latex": [
       "$\\displaystyle k_{s} y_{0} \\frac{d}{d \\tau} \\operatorname{M_{1}}{\\left(\\tau \\right)} = - \\frac{y_{0} \\left(k_{s} y_{0} \\left(- \\frac{\\operatorname{M_{1}}{\\left(\\tau \\right)} \\frac{d}{d \\tau} \\tilde{y}{\\left(\\tau \\right)}}{y_{0} \\left(z{\\left(\\tau \\right)} + 1\\right) \\tilde{y}^{2}{\\left(\\tau \\right)}} + \\frac{\\frac{d}{d \\tau} \\operatorname{M_{1}}{\\left(\\tau \\right)}}{y_{0} \\left(z{\\left(\\tau \\right)} + 1\\right) \\tilde{y}{\\left(\\tau \\right)}} - \\frac{\\operatorname{M_{1}}{\\left(\\tau \\right)} \\frac{d}{d \\tau} z{\\left(\\tau \\right)}}{y_{0} \\left(z{\\left(\\tau \\right)} + 1\\right)^{2} \\tilde{y}{\\left(\\tau \\right)}}\\right) + k_{s} \\operatorname{M_{1}}{\\left(\\tau \\right)}\\right)}{\\tilde{\\gamma}}$"
      ],
      "text/plain": [
       "                            ⎛      ⎛              d                           \n",
       "                            ⎜      ⎜   M₁(\\tau)⋅─────(\\tilde{y}(\\tau))        \n",
       "                            ⎜      ⎜            d\\tau                         \n",
       "                        -y₀⋅⎜kₛ⋅y₀⋅⎜- ───────────────────────────────── + ────\n",
       "                            ⎜      ⎜                            2         y₀⋅(\n",
       "        d                   ⎝      ⎝  y₀⋅(z(\\tau) + 1)⋅\\tilde{y} (\\tau)       \n",
       "kₛ⋅y₀⋅─────(M₁(\\tau)) = ──────────────────────────────────────────────────────\n",
       "      d\\tau                                                                   \n",
       "\n",
       "      d                                        d                ⎞             \n",
       "    ─────(M₁(\\tau))                 M₁(\\tau)⋅─────(z(\\tau))     ⎟             \n",
       "    d\\tau                                    d\\tau              ⎟             \n",
       "──────────────────────────── - ─────────────────────────────────⎟ + kₛ⋅M₁(\\tau\n",
       "z(\\tau) + 1)⋅\\tilde{y}(\\tau)                   2                ⎟             \n",
       "                               y₀⋅(z(\\tau) + 1) ⋅\\tilde{y}(\\tau)⎠             \n",
       "──────────────────────────────────────────────────────────────────────────────\n",
       "       \\tilde{\\gamma}                                                         \n",
       "\n",
       " ⎞ \n",
       " ⎟ \n",
       " ⎟ \n",
       ")⎟ \n",
       " ⎟ \n",
       " ⎠ \n",
       "───\n",
       "   "
      ]
     },
     "execution_count": 2,
     "metadata": {},
     "output_type": "execute_result"
    }
   ],
   "source": [
    "eq_1 = Eq(M1.diff(tau)*ks*y0, ks*(Rational(2, 1 + 1) - 1)*M2 - 1/g*(ks*M1 + M0.diff(tau)*ks*y0))\n",
    "eq_1"
   ]
  },
  {
   "cell_type": "code",
   "execution_count": 3,
   "metadata": {
    "pycharm": {
     "is_executing": false
    }
   },
   "outputs": [
    {
     "data": {
      "text/latex": [
       "$\\displaystyle \\frac{\\left(- \\left(z{\\left(\\tau \\right)} + 1\\right)^{2} \\tilde{y}^{2}{\\left(\\tau \\right)} + \\left(z{\\left(\\tau \\right)} + 1\\right) \\frac{d}{d \\tau} \\tilde{y}{\\left(\\tau \\right)} + \\tilde{y}{\\left(\\tau \\right)} \\frac{d}{d \\tau} z{\\left(\\tau \\right)}\\right) \\operatorname{M_{1}}{\\left(\\tau \\right)}}{\\left(\\tilde{\\gamma} \\left(z{\\left(\\tau \\right)} + 1\\right) \\tilde{y}{\\left(\\tau \\right)} + 1\\right) \\left(z{\\left(\\tau \\right)} + 1\\right) \\tilde{y}{\\left(\\tau \\right)}}$"
      ],
      "text/plain": [
       "⎛               2          2                         d                        \n",
       "⎜- (z(\\tau) + 1) ⋅\\tilde{y} (\\tau) + (z(\\tau) + 1)⋅─────(\\tilde{y}(\\tau)) + \\t\n",
       "⎝                                                  d\\tau                      \n",
       "──────────────────────────────────────────────────────────────────────────────\n",
       "                  (\\tilde{\\gamma}⋅(z(\\tau) + 1)⋅\\tilde{y}(\\tau) + 1)⋅(z(\\tau) \n",
       "\n",
       "                d           ⎞         \n",
       "ilde{y}(\\tau)⋅─────(z(\\tau))⎟⋅M₁(\\tau)\n",
       "              d\\tau         ⎠         \n",
       "──────────────────────────────────────\n",
       "+ 1)⋅\\tilde{y}(\\tau)                  "
      ]
     },
     "execution_count": 3,
     "metadata": {},
     "output_type": "execute_result"
    }
   ],
   "source": [
    "dM1_dt = solve(eq_1, M1.diff(tau))[0]\n",
    "dM1_dt"
   ]
  },
  {
   "cell_type": "code",
   "execution_count": 4,
   "metadata": {},
   "outputs": [
    {
     "data": {
      "text/latex": [
       "$\\displaystyle k_{s} y_{0} \\left(y_{0} \\left(z{\\left(\\tau \\right)} + 2\\right) \\operatorname{M_{1}}{\\left(\\tau \\right)} \\frac{d}{d \\tau} \\tilde{y}{\\left(\\tau \\right)} + y_{0} \\left(z{\\left(\\tau \\right)} + 2\\right) \\tilde{y}{\\left(\\tau \\right)} \\frac{d}{d \\tau} \\operatorname{M_{1}}{\\left(\\tau \\right)} + y_{0} \\operatorname{M_{1}}{\\left(\\tau \\right)} \\tilde{y}{\\left(\\tau \\right)} \\frac{d}{d \\tau} z{\\left(\\tau \\right)}\\right) = - \\frac{k_{s} y_{0}^{2} \\left(z{\\left(\\tau \\right)} + 2\\right) \\left(z{\\left(\\tau \\right)} + 3\\right) \\operatorname{M_{1}}{\\left(\\tau \\right)} \\tilde{y}^{2}{\\left(\\tau \\right)}}{3} - \\frac{2 y_{0} \\left(k_{s} y_{0} \\left(z{\\left(\\tau \\right)} + 2\\right) \\operatorname{M_{1}}{\\left(\\tau \\right)} \\tilde{y}{\\left(\\tau \\right)} + k_{s} y_{0} \\frac{d}{d \\tau} \\operatorname{M_{1}}{\\left(\\tau \\right)}\\right)}{\\tilde{\\gamma}}$"
      ],
      "text/plain": [
       "                                                                              \n",
       "                                                                              \n",
       "      ⎛                            d                                          \n",
       "kₛ⋅y₀⋅⎜y₀⋅(z(\\tau) + 2)⋅M₁(\\tau)⋅─────(\\tilde{y}(\\tau)) + y₀⋅(z(\\tau) + 2)⋅\\ti\n",
       "      ⎝                          d\\tau                                        \n",
       "\n",
       "                                                                              \n",
       "                                                                              \n",
       "               d                                             d           ⎞    \n",
       "lde{y}(\\tau)⋅─────(M₁(\\tau)) + y₀⋅M₁(\\tau)⋅\\tilde{y}(\\tau)⋅─────(z(\\tau))⎟ = -\n",
       "             d\\tau                                         d\\tau         ⎠    \n",
       "\n",
       "                                                                     ⎛        \n",
       "      2                                               2         2⋅y₀⋅⎜kₛ⋅y₀⋅(z\n",
       " kₛ⋅y₀ ⋅(z(\\tau) + 2)⋅(z(\\tau) + 3)⋅M₁(\\tau)⋅\\tilde{y} (\\tau)        ⎝        \n",
       " ──────────────────────────────────────────────────────────── - ──────────────\n",
       "                              3                                               \n",
       "\n",
       "                                               d            ⎞\n",
       "(\\tau) + 2)⋅M₁(\\tau)⋅\\tilde{y}(\\tau) + kₛ⋅y₀⋅─────(M₁(\\tau))⎟\n",
       "                                             d\\tau          ⎠\n",
       "─────────────────────────────────────────────────────────────\n",
       "                 \\tilde{\\gamma}                              "
      ]
     },
     "execution_count": 4,
     "metadata": {},
     "output_type": "execute_result"
    }
   ],
   "source": [
    "eq_2 = Eq(M2.diff(tau)*ks*y0, ks*(Rational(2, 2 + 1) - 1)*M3 - 2/g*(ks*M2 + M1.diff(tau)*ks*y0))\n",
    "eq_2"
   ]
  },
  {
   "cell_type": "code",
   "execution_count": 5,
   "metadata": {},
   "outputs": [
    {
     "data": {
      "text/latex": [
       "$\\displaystyle k_{s} y_{0} \\left(2 y_{0}^{2} \\left(z{\\left(\\tau \\right)} + 2\\right) \\left(z{\\left(\\tau \\right)} + 3\\right) \\operatorname{M_{1}}{\\left(\\tau \\right)} \\tilde{y}{\\left(\\tau \\right)} \\frac{d}{d \\tau} \\tilde{y}{\\left(\\tau \\right)} + y_{0}^{2} \\left(z{\\left(\\tau \\right)} + 2\\right) \\left(z{\\left(\\tau \\right)} + 3\\right) \\tilde{y}^{2}{\\left(\\tau \\right)} \\frac{d}{d \\tau} \\operatorname{M_{1}}{\\left(\\tau \\right)} + y_{0}^{2} \\left(z{\\left(\\tau \\right)} + 2\\right) \\operatorname{M_{1}}{\\left(\\tau \\right)} \\tilde{y}^{2}{\\left(\\tau \\right)} \\frac{d}{d \\tau} z{\\left(\\tau \\right)} + y_{0}^{2} \\left(z{\\left(\\tau \\right)} + 3\\right) \\operatorname{M_{1}}{\\left(\\tau \\right)} \\tilde{y}^{2}{\\left(\\tau \\right)} \\frac{d}{d \\tau} z{\\left(\\tau \\right)}\\right) = - \\frac{k_{s} y_{0}^{3} \\left(z{\\left(\\tau \\right)} + 2\\right) \\left(z{\\left(\\tau \\right)} + 3\\right) \\left(z{\\left(\\tau \\right)} + 4\\right) \\operatorname{M_{1}}{\\left(\\tau \\right)} \\tilde{y}^{3}{\\left(\\tau \\right)}}{2} - \\frac{3 y_{0} \\left(k_{s} y_{0}^{2} \\left(z{\\left(\\tau \\right)} + 2\\right) \\left(z{\\left(\\tau \\right)} + 3\\right) \\operatorname{M_{1}}{\\left(\\tau \\right)} \\tilde{y}^{2}{\\left(\\tau \\right)} + k_{s} y_{0} \\left(y_{0} \\left(z{\\left(\\tau \\right)} + 2\\right) \\operatorname{M_{1}}{\\left(\\tau \\right)} \\frac{d}{d \\tau} \\tilde{y}{\\left(\\tau \\right)} + y_{0} \\left(z{\\left(\\tau \\right)} + 2\\right) \\tilde{y}{\\left(\\tau \\right)} \\frac{d}{d \\tau} \\operatorname{M_{1}}{\\left(\\tau \\right)} + y_{0} \\operatorname{M_{1}}{\\left(\\tau \\right)} \\tilde{y}{\\left(\\tau \\right)} \\frac{d}{d \\tau} z{\\left(\\tau \\right)}\\right)\\right)}{\\tilde{\\gamma}}$"
      ],
      "text/plain": [
       "                                                                              \n",
       "                                                                              \n",
       "      ⎛    2                                                        d         \n",
       "kₛ⋅y₀⋅⎜2⋅y₀ ⋅(z(\\tau) + 2)⋅(z(\\tau) + 3)⋅M₁(\\tau)⋅\\tilde{y}(\\tau)⋅─────(\\tilde\n",
       "      ⎝                                                           d\\tau       \n",
       "\n",
       "                                                                              \n",
       "                                                                              \n",
       "               2                                      2         d             \n",
       "{y}(\\tau)) + y₀ ⋅(z(\\tau) + 2)⋅(z(\\tau) + 3)⋅\\tilde{y} (\\tau)⋅─────(M₁(\\tau)) \n",
       "                                                              d\\tau           \n",
       "\n",
       "                                                                              \n",
       "                                                                              \n",
       "    2                                 2         d                2            \n",
       "+ y₀ ⋅(z(\\tau) + 2)⋅M₁(\\tau)⋅\\tilde{y} (\\tau)⋅─────(z(\\tau)) + y₀ ⋅(z(\\tau) + \n",
       "                                              d\\tau                           \n",
       "\n",
       "                                                                              \n",
       "                                                      3                       \n",
       "                     2         d           ⎞     kₛ⋅y₀ ⋅(z(\\tau) + 2)⋅(z(\\tau)\n",
       "3)⋅M₁(\\tau)⋅\\tilde{y} (\\tau)⋅─────(z(\\tau))⎟ = - ─────────────────────────────\n",
       "                             d\\tau         ⎠                                  \n",
       "\n",
       "                                                     ⎛     2                  \n",
       "                                      3         3⋅y₀⋅⎜kₛ⋅y₀ ⋅(z(\\tau) + 2)⋅(z(\n",
       " + 3)⋅(z(\\tau) + 4)⋅M₁(\\tau)⋅\\tilde{y} (\\tau)        ⎝                        \n",
       "───────────────────────────────────────────── - ──────────────────────────────\n",
       "       2                                                                      \n",
       "\n",
       "                             2               ⎛                            d   \n",
       "\\tau) + 3)⋅M₁(\\tau)⋅\\tilde{y} (\\tau) + kₛ⋅y₀⋅⎜y₀⋅(z(\\tau) + 2)⋅M₁(\\tau)⋅─────(\n",
       "                                             ⎝                          d\\tau \n",
       "──────────────────────────────────────────────────────────────────────────────\n",
       "                                                                          \\til\n",
       "\n",
       "                                                      d                       \n",
       "\\tilde{y}(\\tau)) + y₀⋅(z(\\tau) + 2)⋅\\tilde{y}(\\tau)⋅─────(M₁(\\tau)) + y₀⋅M₁(\\t\n",
       "                                                    d\\tau                     \n",
       "──────────────────────────────────────────────────────────────────────────────\n",
       "de{\\gamma}                                                                    \n",
       "\n",
       "                      d           ⎞⎞\n",
       "au)⋅\\tilde{y}(\\tau)⋅─────(z(\\tau))⎟⎟\n",
       "                    d\\tau         ⎠⎠\n",
       "────────────────────────────────────\n",
       "                                    "
      ]
     },
     "execution_count": 5,
     "metadata": {},
     "output_type": "execute_result"
    }
   ],
   "source": [
    "eq_3 = Eq(M3.diff(tau)*ks*y0, ks*(Rational(2, 3 + 1) - 1)*M4 - 3/g*(ks*M3 + M2.diff(tau)*ks*y0))\n",
    "eq_3"
   ]
  },
  {
   "cell_type": "code",
   "execution_count": 6,
   "metadata": {},
   "outputs": [],
   "source": [
    "solution = solve([eq_1, eq_2, eq_3], [M1.diff(tau), yw.diff(tau), z.diff(tau)])"
   ]
  },
  {
   "cell_type": "code",
   "execution_count": 7,
   "metadata": {},
   "outputs": [
    {
     "data": {
      "text/latex": [
       "$\\displaystyle \\left\\{ \\frac{d}{d \\tau} \\operatorname{M_{1}}{\\left(\\tau \\right)} : - \\frac{\\left(9 \\tilde{\\gamma}^{2} \\tilde{y}^{2}{\\left(\\tau \\right)} z^{3}{\\left(\\tau \\right)} + 41 \\tilde{\\gamma}^{2} \\tilde{y}^{2}{\\left(\\tau \\right)} z^{2}{\\left(\\tau \\right)} + 58 \\tilde{\\gamma}^{2} \\tilde{y}^{2}{\\left(\\tau \\right)} z{\\left(\\tau \\right)} + 24 \\tilde{\\gamma}^{2} \\tilde{y}^{2}{\\left(\\tau \\right)} + 24 \\tilde{\\gamma} \\tilde{y}{\\left(\\tau \\right)} z^{2}{\\left(\\tau \\right)} + 96 \\tilde{\\gamma} \\tilde{y}{\\left(\\tau \\right)} z{\\left(\\tau \\right)} + 96 \\tilde{\\gamma} \\tilde{y}{\\left(\\tau \\right)} + 36 z{\\left(\\tau \\right)} + 72\\right) \\operatorname{M_{1}}{\\left(\\tau \\right)} \\tilde{y}{\\left(\\tau \\right)}}{6 \\tilde{\\gamma}^{3} \\tilde{y}^{3}{\\left(\\tau \\right)} z^{3}{\\left(\\tau \\right)} + 24 \\tilde{\\gamma}^{3} \\tilde{y}^{3}{\\left(\\tau \\right)} z^{2}{\\left(\\tau \\right)} + 30 \\tilde{\\gamma}^{3} \\tilde{y}^{3}{\\left(\\tau \\right)} z{\\left(\\tau \\right)} + 12 \\tilde{\\gamma}^{3} \\tilde{y}^{3}{\\left(\\tau \\right)} + 18 \\tilde{\\gamma}^{2} \\tilde{y}^{2}{\\left(\\tau \\right)} z^{2}{\\left(\\tau \\right)} + 66 \\tilde{\\gamma}^{2} \\tilde{y}^{2}{\\left(\\tau \\right)} z{\\left(\\tau \\right)} + 60 \\tilde{\\gamma}^{2} \\tilde{y}^{2}{\\left(\\tau \\right)} + 36 \\tilde{\\gamma} \\tilde{y}{\\left(\\tau \\right)} z{\\left(\\tau \\right)} + 84 \\tilde{\\gamma} \\tilde{y}{\\left(\\tau \\right)} + 36}, \\  \\frac{d}{d \\tau} \\tilde{y}{\\left(\\tau \\right)} : \\frac{\\left(\\tilde{\\gamma}^{3} \\tilde{y}^{3}{\\left(\\tau \\right)} z^{5}{\\left(\\tau \\right)} + 5 \\tilde{\\gamma}^{3} \\tilde{y}^{3}{\\left(\\tau \\right)} z^{4}{\\left(\\tau \\right)} + 3 \\tilde{\\gamma}^{3} \\tilde{y}^{3}{\\left(\\tau \\right)} z^{3}{\\left(\\tau \\right)} - 17 \\tilde{\\gamma}^{3} \\tilde{y}^{3}{\\left(\\tau \\right)} z^{2}{\\left(\\tau \\right)} - 28 \\tilde{\\gamma}^{3} \\tilde{y}^{3}{\\left(\\tau \\right)} z{\\left(\\tau \\right)} - 12 \\tilde{\\gamma}^{3} \\tilde{y}^{3}{\\left(\\tau \\right)} + 6 \\tilde{\\gamma}^{2} \\tilde{y}^{2}{\\left(\\tau \\right)} z^{4}{\\left(\\tau \\right)} + 27 \\tilde{\\gamma}^{2} \\tilde{y}^{2}{\\left(\\tau \\right)} z^{3}{\\left(\\tau \\right)} + 19 \\tilde{\\gamma}^{2} \\tilde{y}^{2}{\\left(\\tau \\right)} z^{2}{\\left(\\tau \\right)} - 52 \\tilde{\\gamma}^{2} \\tilde{y}^{2}{\\left(\\tau \\right)} z{\\left(\\tau \\right)} - 60 \\tilde{\\gamma}^{2} \\tilde{y}^{2}{\\left(\\tau \\right)} + 18 \\tilde{\\gamma} \\tilde{y}{\\left(\\tau \\right)} z^{3}{\\left(\\tau \\right)} + 42 \\tilde{\\gamma} \\tilde{y}{\\left(\\tau \\right)} z^{2}{\\left(\\tau \\right)} - 24 \\tilde{\\gamma} \\tilde{y}{\\left(\\tau \\right)} z{\\left(\\tau \\right)} - 84 \\tilde{\\gamma} \\tilde{y}{\\left(\\tau \\right)} - 36\\right) \\tilde{y}^{2}{\\left(\\tau \\right)}}{6 \\left(\\tilde{\\gamma}^{3} \\tilde{y}^{3}{\\left(\\tau \\right)} z^{3}{\\left(\\tau \\right)} + 4 \\tilde{\\gamma}^{3} \\tilde{y}^{3}{\\left(\\tau \\right)} z^{2}{\\left(\\tau \\right)} + 5 \\tilde{\\gamma}^{3} \\tilde{y}^{3}{\\left(\\tau \\right)} z{\\left(\\tau \\right)} + 2 \\tilde{\\gamma}^{3} \\tilde{y}^{3}{\\left(\\tau \\right)} + 3 \\tilde{\\gamma}^{2} \\tilde{y}^{2}{\\left(\\tau \\right)} z^{2}{\\left(\\tau \\right)} + 11 \\tilde{\\gamma}^{2} \\tilde{y}^{2}{\\left(\\tau \\right)} z{\\left(\\tau \\right)} + 10 \\tilde{\\gamma}^{2} \\tilde{y}^{2}{\\left(\\tau \\right)} + 6 \\tilde{\\gamma} \\tilde{y}{\\left(\\tau \\right)} z{\\left(\\tau \\right)} + 14 \\tilde{\\gamma} \\tilde{y}{\\left(\\tau \\right)} + 6\\right)}, \\  \\frac{d}{d \\tau} z{\\left(\\tau \\right)} : - \\frac{\\tilde{\\gamma} \\left(\\tilde{\\gamma}^{2} \\tilde{y}^{2}{\\left(\\tau \\right)} z^{5}{\\left(\\tau \\right)} + 9 \\tilde{\\gamma}^{2} \\tilde{y}^{2}{\\left(\\tau \\right)} z^{4}{\\left(\\tau \\right)} + 31 \\tilde{\\gamma}^{2} \\tilde{y}^{2}{\\left(\\tau \\right)} z^{3}{\\left(\\tau \\right)} + 51 \\tilde{\\gamma}^{2} \\tilde{y}^{2}{\\left(\\tau \\right)} z^{2}{\\left(\\tau \\right)} + 40 \\tilde{\\gamma}^{2} \\tilde{y}^{2}{\\left(\\tau \\right)} z{\\left(\\tau \\right)} + 12 \\tilde{\\gamma}^{2} \\tilde{y}^{2}{\\left(\\tau \\right)} + 6 \\tilde{\\gamma} \\tilde{y}{\\left(\\tau \\right)} z^{4}{\\left(\\tau \\right)} + 48 \\tilde{\\gamma} \\tilde{y}{\\left(\\tau \\right)} z^{3}{\\left(\\tau \\right)} + 138 \\tilde{\\gamma} \\tilde{y}{\\left(\\tau \\right)} z^{2}{\\left(\\tau \\right)} + 168 \\tilde{\\gamma} \\tilde{y}{\\left(\\tau \\right)} z{\\left(\\tau \\right)} + 72 \\tilde{\\gamma} \\tilde{y}{\\left(\\tau \\right)} + 18 z^{3}{\\left(\\tau \\right)} + 84 z^{2}{\\left(\\tau \\right)} + 126 z{\\left(\\tau \\right)} + 60\\right) \\tilde{y}^{2}{\\left(\\tau \\right)} z{\\left(\\tau \\right)}}{6 \\tilde{\\gamma}^{3} \\tilde{y}^{3}{\\left(\\tau \\right)} z^{3}{\\left(\\tau \\right)} + 24 \\tilde{\\gamma}^{3} \\tilde{y}^{3}{\\left(\\tau \\right)} z^{2}{\\left(\\tau \\right)} + 30 \\tilde{\\gamma}^{3} \\tilde{y}^{3}{\\left(\\tau \\right)} z{\\left(\\tau \\right)} + 12 \\tilde{\\gamma}^{3} \\tilde{y}^{3}{\\left(\\tau \\right)} + 18 \\tilde{\\gamma}^{2} \\tilde{y}^{2}{\\left(\\tau \\right)} z^{2}{\\left(\\tau \\right)} + 66 \\tilde{\\gamma}^{2} \\tilde{y}^{2}{\\left(\\tau \\right)} z{\\left(\\tau \\right)} + 60 \\tilde{\\gamma}^{2} \\tilde{y}^{2}{\\left(\\tau \\right)} + 36 \\tilde{\\gamma} \\tilde{y}{\\left(\\tau \\right)} z{\\left(\\tau \\right)} + 84 \\tilde{\\gamma} \\tilde{y}{\\left(\\tau \\right)} + 36}\\right\\}$"
      ],
      "text/plain": [
       "⎧                                        ⎛                2          2        \n",
       "⎪  d                                    -⎝9⋅\\tilde{\\gamma} ⋅\\tilde{y} (\\tau)⋅z\n",
       "⎨─────(M₁(\\tau)): ────────────────────────────────────────────────────────────\n",
       "⎪d\\tau                            3          3        3                       \n",
       "⎩                 6⋅\\tilde{\\gamma} ⋅\\tilde{y} (\\tau)⋅z (\\tau) + 24⋅\\tilde{\\gam\n",
       "\n",
       "3                          2          2        2                          2   \n",
       " (\\tau) + 41⋅\\tilde{\\gamma} ⋅\\tilde{y} (\\tau)⋅z (\\tau) + 58⋅\\tilde{\\gamma} ⋅\\t\n",
       "──────────────────────────────────────────────────────────────────────────────\n",
       "   3          3        2                          3          3                \n",
       "ma} ⋅\\tilde{y} (\\tau)⋅z (\\tau) + 30⋅\\tilde{\\gamma} ⋅\\tilde{y} (\\tau)⋅z(\\tau) +\n",
       "\n",
       "       2                                  2          2                        \n",
       "ilde{y} (\\tau)⋅z(\\tau) + 24⋅\\tilde{\\gamma} ⋅\\tilde{y} (\\tau) + 24⋅\\tilde{\\gamm\n",
       "──────────────────────────────────────────────────────────────────────────────\n",
       "                  3          3                          2          2        2 \n",
       " 12⋅\\tilde{\\gamma} ⋅\\tilde{y} (\\tau) + 18⋅\\tilde{\\gamma} ⋅\\tilde{y} (\\tau)⋅z (\n",
       "\n",
       "                    2                                                         \n",
       "a}⋅\\tilde{y}(\\tau)⋅z (\\tau) + 96⋅\\tilde{\\gamma}⋅\\tilde{y}(\\tau)⋅z(\\tau) + 96⋅\\\n",
       "──────────────────────────────────────────────────────────────────────────────\n",
       "                         2          2                                  2      \n",
       "\\tau) + 66⋅\\tilde{\\gamma} ⋅\\tilde{y} (\\tau)⋅z(\\tau) + 60⋅\\tilde{\\gamma} ⋅\\tild\n",
       "\n",
       "                                               ⎞                              \n",
       "tilde{\\gamma}⋅\\tilde{y}(\\tau) + 36⋅z(\\tau) + 72⎠⋅M₁(\\tau)⋅\\tilde{y}(\\tau)     \n",
       "──────────────────────────────────────────────────────────────────────────────\n",
       "    2                                                                         \n",
       "e{y} (\\tau) + 36⋅\\tilde{\\gamma}⋅\\tilde{y}(\\tau)⋅z(\\tau) + 84⋅\\tilde{\\gamma}⋅\\t\n",
       "\n",
       "                                            ⎛              3          3       \n",
       "                      d                     ⎝\\tilde{\\gamma} ⋅\\tilde{y} (\\tau)⋅\n",
       "──────────────────, ─────(\\tilde{y}(\\tau)): ──────────────────────────────────\n",
       "                    d\\tau                                                     \n",
       "ilde{y}(\\tau) + 36                                                            \n",
       "\n",
       " 5                         3          3        4                         3    \n",
       "z (\\tau) + 5⋅\\tilde{\\gamma} ⋅\\tilde{y} (\\tau)⋅z (\\tau) + 3⋅\\tilde{\\gamma} ⋅\\ti\n",
       "──────────────────────────────────────────────────────────────────────────────\n",
       "                                                                              \n",
       "                                                                              \n",
       "\n",
       "      3        3                          3          3        2               \n",
       "lde{y} (\\tau)⋅z (\\tau) - 17⋅\\tilde{\\gamma} ⋅\\tilde{y} (\\tau)⋅z (\\tau) - 28⋅\\ti\n",
       "──────────────────────────────────────────────────────────────────────────────\n",
       "                                      ⎛              3          3        3    \n",
       "                                    6⋅⎝\\tilde{\\gamma} ⋅\\tilde{y} (\\tau)⋅z (\\ta\n",
       "\n",
       "           3          3                                  3          3         \n",
       "lde{\\gamma} ⋅\\tilde{y} (\\tau)⋅z(\\tau) - 12⋅\\tilde{\\gamma} ⋅\\tilde{y} (\\tau) + \n",
       "──────────────────────────────────────────────────────────────────────────────\n",
       "                     3          3        2                         3          \n",
       "u) + 4⋅\\tilde{\\gamma} ⋅\\tilde{y} (\\tau)⋅z (\\tau) + 5⋅\\tilde{\\gamma} ⋅\\tilde{y}\n",
       "\n",
       "                2          2        4                          2          2   \n",
       "6⋅\\tilde{\\gamma} ⋅\\tilde{y} (\\tau)⋅z (\\tau) + 27⋅\\tilde{\\gamma} ⋅\\tilde{y} (\\t\n",
       "──────────────────────────────────────────────────────────────────────────────\n",
       "3                                 3          3                         2      \n",
       " (\\tau)⋅z(\\tau) + 2⋅\\tilde{\\gamma} ⋅\\tilde{y} (\\tau) + 3⋅\\tilde{\\gamma} ⋅\\tild\n",
       "\n",
       "     3                          2          2        2                         \n",
       "au)⋅z (\\tau) + 19⋅\\tilde{\\gamma} ⋅\\tilde{y} (\\tau)⋅z (\\tau) - 52⋅\\tilde{\\gamma\n",
       "──────────────────────────────────────────────────────────────────────────────\n",
       "    2        2                          2          2                          \n",
       "e{y} (\\tau)⋅z (\\tau) + 11⋅\\tilde{\\gamma} ⋅\\tilde{y} (\\tau)⋅z(\\tau) + 10⋅\\tilde\n",
       "\n",
       " 2          2                                  2          2                   \n",
       "} ⋅\\tilde{y} (\\tau)⋅z(\\tau) - 60⋅\\tilde{\\gamma} ⋅\\tilde{y} (\\tau) + 18⋅\\tilde{\n",
       "──────────────────────────────────────────────────────────────────────────────\n",
       "        2          2                                                          \n",
       "{\\gamma} ⋅\\tilde{y} (\\tau) + 6⋅\\tilde{\\gamma}⋅\\tilde{y}(\\tau)⋅z(\\tau) + 14⋅\\ti\n",
       "\n",
       "                         3                                            2       \n",
       "\\gamma}⋅\\tilde{y}(\\tau)⋅z (\\tau) + 42⋅\\tilde{\\gamma}⋅\\tilde{y}(\\tau)⋅z (\\tau) \n",
       "──────────────────────────────────────────────────────────────────────────────\n",
       "                               ⎞                                              \n",
       "lde{\\gamma}⋅\\tilde{y}(\\tau) + 6⎠                                              \n",
       "\n",
       "                                                                              \n",
       "- 24⋅\\tilde{\\gamma}⋅\\tilde{y}(\\tau)⋅z(\\tau) - 84⋅\\tilde{\\gamma}⋅\\tilde{y}(\\tau\n",
       "──────────────────────────────────────────────────────────────────────────────\n",
       "                                                                              \n",
       "                                                                              \n",
       "\n",
       "      ⎞          2                                        ⎛              2    \n",
       ") - 36⎠⋅\\tilde{y} (\\tau)    d             -\\tilde{\\gamma}⋅⎝\\tilde{\\gamma} ⋅\\ti\n",
       "────────────────────────, ─────(z(\\tau)): ────────────────────────────────────\n",
       "                          d\\tau                                               \n",
       "                                                                              \n",
       "\n",
       "      2        5                         2          2        4                \n",
       "lde{y} (\\tau)⋅z (\\tau) + 9⋅\\tilde{\\gamma} ⋅\\tilde{y} (\\tau)⋅z (\\tau) + 31⋅\\til\n",
       "──────────────────────────────────────────────────────────────────────────────\n",
       "                                                                       3      \n",
       "                                                       6⋅\\tilde{\\gamma} ⋅\\tild\n",
       "\n",
       "          2          2        3                          2          2        2\n",
       "de{\\gamma} ⋅\\tilde{y} (\\tau)⋅z (\\tau) + 51⋅\\tilde{\\gamma} ⋅\\tilde{y} (\\tau)⋅z \n",
       "──────────────────────────────────────────────────────────────────────────────\n",
       "    3        3                          3          3        2                 \n",
       "e{y} (\\tau)⋅z (\\tau) + 24⋅\\tilde{\\gamma} ⋅\\tilde{y} (\\tau)⋅z (\\tau) + 30⋅\\tild\n",
       "\n",
       "                          2          2                                  2     \n",
       "(\\tau) + 40⋅\\tilde{\\gamma} ⋅\\tilde{y} (\\tau)⋅z(\\tau) + 12⋅\\tilde{\\gamma} ⋅\\til\n",
       "──────────────────────────────────────────────────────────────────────────────\n",
       "         3          3                                  3          3           \n",
       "e{\\gamma} ⋅\\tilde{y} (\\tau)⋅z(\\tau) + 12⋅\\tilde{\\gamma} ⋅\\tilde{y} (\\tau) + 18\n",
       "\n",
       "     2                                           4                            \n",
       "de{y} (\\tau) + 6⋅\\tilde{\\gamma}⋅\\tilde{y}(\\tau)⋅z (\\tau) + 48⋅\\tilde{\\gamma}⋅\\\n",
       "──────────────────────────────────────────────────────────────────────────────\n",
       "               2          2        2                          2          2    \n",
       "⋅\\tilde{\\gamma} ⋅\\tilde{y} (\\tau)⋅z (\\tau) + 66⋅\\tilde{\\gamma} ⋅\\tilde{y} (\\ta\n",
       "\n",
       "                3                                             2               \n",
       "tilde{y}(\\tau)⋅z (\\tau) + 138⋅\\tilde{\\gamma}⋅\\tilde{y}(\\tau)⋅z (\\tau) + 168⋅\\t\n",
       "──────────────────────────────────────────────────────────────────────────────\n",
       "                              2          2                                    \n",
       "u)⋅z(\\tau) + 60⋅\\tilde{\\gamma} ⋅\\tilde{y} (\\tau) + 36⋅\\tilde{\\gamma}⋅\\tilde{y}\n",
       "\n",
       "                                                                              \n",
       "ilde{\\gamma}⋅\\tilde{y}(\\tau)⋅z(\\tau) + 72⋅\\tilde{\\gamma}⋅\\tilde{y}(\\tau) + 18⋅\n",
       "──────────────────────────────────────────────────────────────────────────────\n",
       "                                                                              \n",
       "(\\tau)⋅z(\\tau) + 84⋅\\tilde{\\gamma}⋅\\tilde{y}(\\tau) + 36                       \n",
       "\n",
       " 3             2                         ⎞          2               ⎫\n",
       "z (\\tau) + 84⋅z (\\tau) + 126⋅z(\\tau) + 60⎠⋅\\tilde{y} (\\tau)⋅z(\\tau) ⎪\n",
       "────────────────────────────────────────────────────────────────────⎬\n",
       "                                                                    ⎪\n",
       "                                                                    ⎭"
      ]
     },
     "execution_count": 7,
     "metadata": {},
     "output_type": "execute_result"
    }
   ],
   "source": [
    "solution"
   ]
  },
  {
   "cell_type": "code",
   "execution_count": 17,
   "metadata": {},
   "outputs": [
    {
     "name": "stdout",
     "output_type": "stream",
     "text": [
      "-(9*\\tilde{\\gamma}**2*\\tilde{y}(\\tau)**2*z(\\tau)**3 + 41*\\tilde{\\gamma}**2*\\tilde{y}(\\tau)**2*z(\\tau)**2 + 58*\\tilde{\\gamma}**2*\\tilde{y}(\\tau)**2*z(\\tau) + 24*\\tilde{\\gamma}**2*\\tilde{y}(\\tau)**2 + 24*\\tilde{\\gamma}*\\tilde{y}(\\tau)*z(\\tau)**2 + 96*\\tilde{\\gamma}*\\tilde{y}(\\tau)*z(\\tau) + 96*\\tilde{\\gamma}*\\tilde{y}(\\tau) + 36*z(\\tau) + 72)*M1(\\tau)*\\tilde{y}(\\tau)/(6*\\tilde{\\gamma}**3*\\tilde{y}(\\tau)**3*z(\\tau)**3 + 24*\\tilde{\\gamma}**3*\\tilde{y}(\\tau)**3*z(\\tau)**2 + 30*\\tilde{\\gamma}**3*\\tilde{y}(\\tau)**3*z(\\tau) + 12*\\tilde{\\gamma}**3*\\tilde{y}(\\tau)**3 + 18*\\tilde{\\gamma}**2*\\tilde{y}(\\tau)**2*z(\\tau)**2 + 66*\\tilde{\\gamma}**2*\\tilde{y}(\\tau)**2*z(\\tau) + 60*\\tilde{\\gamma}**2*\\tilde{y}(\\tau)**2 + 36*\\tilde{\\gamma}*\\tilde{y}(\\tau)*z(\\tau) + 84*\\tilde{\\gamma}*\\tilde{y}(\\tau) + 36)\n"
     ]
    }
   ],
   "source": [
    "print(solution[M1.diff(tau)])"
   ]
  },
  {
   "cell_type": "code",
   "execution_count": 22,
   "metadata": {},
   "outputs": [
    {
     "name": "stdout",
     "output_type": "stream",
     "text": [
      "(\\tilde{\\gamma}**3*\\tilde{y}(\\tau)**3*z(\\tau)**5 + 5*\\tilde{\\gamma}**3*\\tilde{y}(\\tau)**3*z(\\tau)**4 + 3*\\tilde{\\gamma}**3*\\tilde{y}(\\tau)**3*z(\\tau)**3 - 17*\\tilde{\\gamma}**3*\\tilde{y}(\\tau)**3*z(\\tau)**2 - 28*\\tilde{\\gamma}**3*\\tilde{y}(\\tau)**3*z(\\tau) - 12*\\tilde{\\gamma}**3*\\tilde{y}(\\tau)**3 + 6*\\tilde{\\gamma}**2*\\tilde{y}(\\tau)**2*z(\\tau)**4 + 27*\\tilde{\\gamma}**2*\\tilde{y}(\\tau)**2*z(\\tau)**3 + 19*\\tilde{\\gamma}**2*\\tilde{y}(\\tau)**2*z(\\tau)**2 - 52*\\tilde{\\gamma}**2*\\tilde{y}(\\tau)**2*z(\\tau) - 60*\\tilde{\\gamma}**2*\\tilde{y}(\\tau)**2 + 18*\\tilde{\\gamma}*\\tilde{y}(\\tau)*z(\\tau)**3 + 42*\\tilde{\\gamma}*\\tilde{y}(\\tau)*z(\\tau)**2 - 24*\\tilde{\\gamma}*\\tilde{y}(\\tau)*z(\\tau) - 84*\\tilde{\\gamma}*\\tilde{y}(\\tau) - 36)*\\tilde{y}(\\tau)**2/(6*(\\tilde{\\gamma}**3*\\tilde{y}(\\tau)**3*z(\\tau)**3 + 4*\\tilde{\\gamma}**3*\\tilde{y}(\\tau)**3*z(\\tau)**2 + 5*\\tilde{\\gamma}**3*\\tilde{y}(\\tau)**3*z(\\tau) + 2*\\tilde{\\gamma}**3*\\tilde{y}(\\tau)**3 + 3*\\tilde{\\gamma}**2*\\tilde{y}(\\tau)**2*z(\\tau)**2 + 11*\\tilde{\\gamma}**2*\\tilde{y}(\\tau)**2*z(\\tau) + 10*\\tilde{\\gamma}**2*\\tilde{y}(\\tau)**2 + 6*\\tilde{\\gamma}*\\tilde{y}(\\tau)*z(\\tau) + 14*\\tilde{\\gamma}*\\tilde{y}(\\tau) + 6))\n"
     ]
    }
   ],
   "source": [
    "print(solution[yw.diff(tau)])"
   ]
  },
  {
   "cell_type": "code",
   "execution_count": 30,
   "metadata": {},
   "outputs": [
    {
     "name": "stdout",
     "output_type": "stream",
     "text": [
      "-\\tilde{\\gamma}*(\\tilde{\\gamma}**2*\\tilde{y}(\\tau)**2*z(\\tau)**5 + 9*\\tilde{\\gamma}**2*\\tilde{y}(\\tau)**2*z(\\tau)**4 + 31*\\tilde{\\gamma}**2*\\tilde{y}(\\tau)**2*z(\\tau)**3 + 51*\\tilde{\\gamma}**2*\\tilde{y}(\\tau)**2*z(\\tau)**2 + 40*\\tilde{\\gamma}**2*\\tilde{y}(\\tau)**2*z(\\tau) + 12*\\tilde{\\gamma}**2*\\tilde{y}(\\tau)**2 + 6*\\tilde{\\gamma}*\\tilde{y}(\\tau)*z(\\tau)**4 + 48*\\tilde{\\gamma}*\\tilde{y}(\\tau)*z(\\tau)**3 + 138*\\tilde{\\gamma}*\\tilde{y}(\\tau)*z(\\tau)**2 + 168*\\tilde{\\gamma}*\\tilde{y}(\\tau)*z(\\tau) + 72*\\tilde{\\gamma}*\\tilde{y}(\\tau) + 18*z(\\tau)**3 + 84*z(\\tau)**2 + 126*z(\\tau) + 60)*\\tilde{y}(\\tau)**2*z(\\tau)/(6*\\tilde{\\gamma}**3*\\tilde{y}(\\tau)**3*z(\\tau)**3 + 24*\\tilde{\\gamma}**3*\\tilde{y}(\\tau)**3*z(\\tau)**2 + 30*\\tilde{\\gamma}**3*\\tilde{y}(\\tau)**3*z(\\tau) + 12*\\tilde{\\gamma}**3*\\tilde{y}(\\tau)**3 + 18*\\tilde{\\gamma}**2*\\tilde{y}(\\tau)**2*z(\\tau)**2 + 66*\\tilde{\\gamma}**2*\\tilde{y}(\\tau)**2*z(\\tau) + 60*\\tilde{\\gamma}**2*\\tilde{y}(\\tau)**2 + 36*\\tilde{\\gamma}*\\tilde{y}(\\tau)*z(\\tau) + 84*\\tilde{\\gamma}*\\tilde{y}(\\tau) + 36)\n"
     ]
    }
   ],
   "source": [
    "print(solution[z.diff(tau)])"
   ]
  },
  {
   "cell_type": "code",
   "execution_count": 33,
   "metadata": {},
   "outputs": [
    {
     "data": {
      "text/latex": [
       "$\\displaystyle -0.385099198414987$"
      ],
      "text/plain": [
       "-0.385099198414987"
      ]
     },
     "execution_count": 33,
     "metadata": {},
     "output_type": "execute_result"
    }
   ],
   "source": [
    "solution[yw.diff(tau)].subs(([yw, 1], [z, 10], [gw, 1e-3]))"
   ]
  },
  {
   "cell_type": "code",
   "execution_count": 26,
   "metadata": {},
   "outputs": [],
   "source": [
    "A = -(1/(yw*(1 + gw*yw*(z + 1))) + (z + 2)*gw/((z+2)*gw*yw + 2))\n",
    "B = -(1/((z+1)*(1+gw*yw*(z+1))) + gw*yw/((z+2)*gw*yw + 2))\n",
    "C = yw*(z+1)/(gw*yw*(z+1) + 1) - (Rational(1, 3)*(z+2)*(z+3)*gw*yw**2 + 2*(z+2)*yw)/((z+2)*gw*yw + 2)\n",
    "D = (z+2)*gw/((z+2)*gw*yw+2) - (2*(z+2)*(z+3)*gw*yw + 3*(z+2))/((z+2)*(z+3)*gw*yw**2 + 3*(z+2)*yw)\n",
    "E = gw*yw/((z+2)*gw*yw + 2) - (gw*yw*(2*z+5) + 3)/((z+2)*(z+3)*gw*yw + 3*(z+2))\n",
    "F = (Rational(1, 3)*(z+2)*(z+3)*gw*yw**2 + 2*(z+2)*yw)/((z+2)*gw*yw+2) -\\\n",
    "Rational(1, 2)*(z+2)*(z+3)*(z+4)*(gw*yw**2 + 3*(z+2)*(z+3)*gw)/((z+2)*(z+3)*gw*yw + 3*(z+2))"
   ]
  },
  {
   "cell_type": "code",
   "execution_count": 27,
   "metadata": {},
   "outputs": [],
   "source": [
    "dyw_dt_Boyd = (B*F - C*E)/(A*E - D*B)\n",
    "dz_dt_Boyd = (C*D - A*F)/(A*E - D*B)"
   ]
  },
  {
   "cell_type": "code",
   "execution_count": 28,
   "metadata": {},
   "outputs": [
    {
     "data": {
      "text/latex": [
       "$\\displaystyle -14.7251476234909$"
      ],
      "text/plain": [
       "-14.7251476234909"
      ]
     },
     "execution_count": 28,
     "metadata": {},
     "output_type": "execute_result"
    }
   ],
   "source": [
    "dyw_dt_Boyd.subs(([yw, 1], [z, 10], [gw, 1e-3]))"
   ]
  },
  {
   "cell_type": "code",
   "execution_count": 32,
   "metadata": {},
   "outputs": [
    {
     "data": {
      "text/latex": [
       "$\\displaystyle 150.179734975689$"
      ],
      "text/plain": [
       "150.179734975689"
      ]
     },
     "execution_count": 32,
     "metadata": {},
     "output_type": "execute_result"
    }
   ],
   "source": [
    "dz_dt_Boyd.subs(([yw, 1], [z, 10], [gw, 1e-3]))"
   ]
  },
  {
   "cell_type": "code",
   "execution_count": 157,
   "metadata": {},
   "outputs": [],
   "source": [
    "n,d = sp.fraction(ans)"
   ]
  },
  {
   "cell_type": "code",
   "execution_count": 158,
   "metadata": {},
   "outputs": [
    {
     "data": {
      "text/latex": [
       "$\\displaystyle -23.2802279168052$"
      ],
      "text/plain": [
       "-23.2802279168052"
      ]
     },
     "execution_count": 158,
     "metadata": {},
     "output_type": "execute_result"
    }
   ],
   "source": [
    "bns = sp.simplify((C*D - A*F)/(A*E - D*B))\n",
    "bns.subs(([yw, 1], [z, 1], [gw, 1e-3]))"
   ]
  },
  {
   "cell_type": "code",
   "execution_count": 147,
   "metadata": {},
   "outputs": [
    {
     "data": {
      "text/latex": [
       "$\\displaystyle - \\frac{\\tilde{y} \\left(- \\tilde{\\gamma}^{3} \\tilde{y}^{4} z^{5} - 5 \\tilde{\\gamma}^{3} \\tilde{y}^{4} z^{4} - 3 \\tilde{\\gamma}^{3} \\tilde{y}^{4} z^{3} + 17 \\tilde{\\gamma}^{3} \\tilde{y}^{4} z^{2} + 28 \\tilde{\\gamma}^{3} \\tilde{y}^{4} z + 12 \\tilde{\\gamma}^{3} \\tilde{y}^{4} + 9 \\tilde{\\gamma}^{3} \\tilde{y}^{2} z^{7} + 144 \\tilde{\\gamma}^{3} \\tilde{y}^{2} z^{6} + 954 \\tilde{\\gamma}^{3} \\tilde{y}^{2} z^{5} + 3384 \\tilde{\\gamma}^{3} \\tilde{y}^{2} z^{4} + 6921 \\tilde{\\gamma}^{3} \\tilde{y}^{2} z^{3} + 8136 \\tilde{\\gamma}^{3} \\tilde{y}^{2} z^{2} + 5076 \\tilde{\\gamma}^{3} \\tilde{y}^{2} z + 1296 \\tilde{\\gamma}^{3} \\tilde{y}^{2} - 24 \\tilde{\\gamma}^{2} \\tilde{y}^{3} z^{4} - 153 \\tilde{\\gamma}^{2} \\tilde{y}^{3} z^{3} - 325 \\tilde{\\gamma}^{2} \\tilde{y}^{3} z^{2} - 254 \\tilde{\\gamma}^{2} \\tilde{y}^{3} z - 48 \\tilde{\\gamma}^{2} \\tilde{y}^{3} + 18 \\tilde{\\gamma}^{2} \\tilde{y} z^{6} + 279 \\tilde{\\gamma}^{2} \\tilde{y} z^{5} + 1764 \\tilde{\\gamma}^{2} \\tilde{y} z^{4} + 5823 \\tilde{\\gamma}^{2} \\tilde{y} z^{3} + 10584 \\tilde{\\gamma}^{2} \\tilde{y} z^{2} + 10044 \\tilde{\\gamma}^{2} \\tilde{y} z + 3888 \\tilde{\\gamma}^{2} \\tilde{y} - 54 \\tilde{\\gamma} \\tilde{y}^{2} z^{3} - 276 \\tilde{\\gamma} \\tilde{y}^{2} z^{2} - 462 \\tilde{\\gamma} \\tilde{y}^{2} z - 240 \\tilde{\\gamma} \\tilde{y}^{2} + 18 \\tilde{\\gamma} z^{5} + 252 \\tilde{\\gamma} z^{4} + 1386 \\tilde{\\gamma} z^{3} + 3744 \\tilde{\\gamma} z^{2} + 4968 \\tilde{\\gamma} z + 2592 \\tilde{\\gamma} - 36 \\tilde{y} z^{2} - 180 \\tilde{y} z - 180 \\tilde{y}\\right)}{6 \\tilde{\\gamma}^{3} \\tilde{y}^{3} z^{3} + 24 \\tilde{\\gamma}^{3} \\tilde{y}^{3} z^{2} + 30 \\tilde{\\gamma}^{3} \\tilde{y}^{3} z + 12 \\tilde{\\gamma}^{3} \\tilde{y}^{3} + 18 \\tilde{\\gamma}^{2} \\tilde{y}^{2} z^{2} + 66 \\tilde{\\gamma}^{2} \\tilde{y}^{2} z + 60 \\tilde{\\gamma}^{2} \\tilde{y}^{2} + 36 \\tilde{\\gamma} \\tilde{y} z + 84 \\tilde{\\gamma} \\tilde{y} + 36}$"
      ],
      "text/plain": [
       "           ⎛                3          4  5                   3          4  4 \n",
       "-\\tilde{y}⋅⎝- \\tilde{\\gamma} ⋅\\tilde{y} ⋅z  - 5⋅\\tilde{\\gamma} ⋅\\tilde{y} ⋅z  \n",
       "──────────────────────────────────────────────────────────────────────────────\n",
       "                                                                              \n",
       "                                                                              \n",
       "\n",
       "                  3          4  3                    3          4  2          \n",
       "- 3⋅\\tilde{\\gamma} ⋅\\tilde{y} ⋅z  + 17⋅\\tilde{\\gamma} ⋅\\tilde{y} ⋅z  + 28⋅\\til\n",
       "──────────────────────────────────────────────────────────────────────────────\n",
       "                                                                              \n",
       "                                                                              \n",
       "\n",
       "          3          4                      3          4                   3  \n",
       "de{\\gamma} ⋅\\tilde{y} ⋅z + 12⋅\\tilde{\\gamma} ⋅\\tilde{y}  + 9⋅\\tilde{\\gamma} ⋅\\\n",
       "──────────────────────────────────────────────────────────────────────────────\n",
       "                                                                              \n",
       "                                                                              \n",
       "\n",
       "        2  7                     3          2  6                     3        \n",
       "tilde{y} ⋅z  + 144⋅\\tilde{\\gamma} ⋅\\tilde{y} ⋅z  + 954⋅\\tilde{\\gamma} ⋅\\tilde{\n",
       "──────────────────────────────────────────────────────────────────────────────\n",
       "                                                                              \n",
       "                                                                              \n",
       "\n",
       "  2  5                      3          2  4                      3          2 \n",
       "y} ⋅z  + 3384⋅\\tilde{\\gamma} ⋅\\tilde{y} ⋅z  + 6921⋅\\tilde{\\gamma} ⋅\\tilde{y} ⋅\n",
       "──────────────────────────────────────────────────────────────────────────────\n",
       "                                                                              \n",
       "                                                                              \n",
       "\n",
       " 3                      3          2  2                      3          2     \n",
       "z  + 8136⋅\\tilde{\\gamma} ⋅\\tilde{y} ⋅z  + 5076⋅\\tilde{\\gamma} ⋅\\tilde{y} ⋅z + \n",
       "──────────────────────────────────────────────────────────────────────────────\n",
       "                                                                              \n",
       "                                                                              \n",
       "\n",
       "                   3          2                    2          3  4            \n",
       "1296⋅\\tilde{\\gamma} ⋅\\tilde{y}  - 24⋅\\tilde{\\gamma} ⋅\\tilde{y} ⋅z  - 153⋅\\tild\n",
       "──────────────────────────────────────────────────────────────────────────────\n",
       "                        3          3  3                    3          3  2    \n",
       "        6⋅\\tilde{\\gamma} ⋅\\tilde{y} ⋅z  + 24⋅\\tilde{\\gamma} ⋅\\tilde{y} ⋅z  + 3\n",
       "\n",
       "         2          3  3                     2          3  2                  \n",
       "e{\\gamma} ⋅\\tilde{y} ⋅z  - 325⋅\\tilde{\\gamma} ⋅\\tilde{y} ⋅z  - 254⋅\\tilde{\\gam\n",
       "──────────────────────────────────────────────────────────────────────────────\n",
       "                3          3                      3          3                \n",
       "0⋅\\tilde{\\gamma} ⋅\\tilde{y} ⋅z + 12⋅\\tilde{\\gamma} ⋅\\tilde{y}  + 18⋅\\tilde{\\ga\n",
       "\n",
       "   2          3                      2          3                    2        \n",
       "ma} ⋅\\tilde{y} ⋅z - 48⋅\\tilde{\\gamma} ⋅\\tilde{y}  + 18⋅\\tilde{\\gamma} ⋅\\tilde{\n",
       "──────────────────────────────────────────────────────────────────────────────\n",
       "    2          2  2                    2          2                      2    \n",
       "mma} ⋅\\tilde{y} ⋅z  + 66⋅\\tilde{\\gamma} ⋅\\tilde{y} ⋅z + 60⋅\\tilde{\\gamma} ⋅\\ti\n",
       "\n",
       "    6                     2            5                      2            4  \n",
       "y}⋅z  + 279⋅\\tilde{\\gamma} ⋅\\tilde{y}⋅z  + 1764⋅\\tilde{\\gamma} ⋅\\tilde{y}⋅z  +\n",
       "──────────────────────────────────────────────────────────────────────────────\n",
       "      2                                                                       \n",
       "lde{y}  + 36⋅\\tilde{\\gamma}⋅\\tilde{y}⋅z + 84⋅\\tilde{\\gamma}⋅\\tilde{y} + 36    \n",
       "\n",
       "                    2            3                       2            2       \n",
       " 5823⋅\\tilde{\\gamma} ⋅\\tilde{y}⋅z  + 10584⋅\\tilde{\\gamma} ⋅\\tilde{y}⋅z  + 1004\n",
       "──────────────────────────────────────────────────────────────────────────────\n",
       "                                                                              \n",
       "                                                                              \n",
       "\n",
       "                2                                  2                          \n",
       "4⋅\\tilde{\\gamma} ⋅\\tilde{y}⋅z + 3888⋅\\tilde{\\gamma} ⋅\\tilde{y} - 54⋅\\tilde{\\ga\n",
       "──────────────────────────────────────────────────────────────────────────────\n",
       "                                                                              \n",
       "                                                                              \n",
       "\n",
       "              2  3                               2  2                         \n",
       "mma}⋅\\tilde{y} ⋅z  - 276⋅\\tilde{\\gamma}⋅\\tilde{y} ⋅z  - 462⋅\\tilde{\\gamma}⋅\\ti\n",
       "──────────────────────────────────────────────────────────────────────────────\n",
       "                                                                              \n",
       "                                                                              \n",
       "\n",
       "      2                                 2                      5              \n",
       "lde{y} ⋅z - 240⋅\\tilde{\\gamma}⋅\\tilde{y}  + 18⋅\\tilde{\\gamma}⋅z  + 252⋅\\tilde{\n",
       "──────────────────────────────────────────────────────────────────────────────\n",
       "                                                                              \n",
       "                                                                              \n",
       "\n",
       "         4                        3                        2                  \n",
       "\\gamma}⋅z  + 1386⋅\\tilde{\\gamma}⋅z  + 3744⋅\\tilde{\\gamma}⋅z  + 4968⋅\\tilde{\\ga\n",
       "──────────────────────────────────────────────────────────────────────────────\n",
       "                                                                              \n",
       "                                                                              \n",
       "\n",
       "                                             2                                \n",
       "mma}⋅z + 2592⋅\\tilde{\\gamma} - 36⋅\\tilde{y}⋅z  - 180⋅\\tilde{y}⋅z - 180⋅\\tilde{\n",
       "──────────────────────────────────────────────────────────────────────────────\n",
       "                                                                              \n",
       "                                                                              \n",
       "\n",
       "  ⎞ \n",
       "y}⎠ \n",
       "────\n",
       "    \n",
       "    "
      ]
     },
     "execution_count": 147,
     "metadata": {},
     "output_type": "execute_result"
    }
   ],
   "source": [
    "sp.simplify(sp.expand(n) / sp.expand(d))"
   ]
  },
  {
   "cell_type": "code",
   "execution_count": null,
   "metadata": {},
   "outputs": [],
   "source": []
  },
  {
   "cell_type": "code",
   "execution_count": null,
   "metadata": {},
   "outputs": [],
   "source": []
  },
  {
   "cell_type": "code",
   "execution_count": null,
   "metadata": {},
   "outputs": [],
   "source": []
  },
  {
   "cell_type": "code",
   "execution_count": 34,
   "metadata": {},
   "outputs": [],
   "source": [
    "def dM1w_dt(M1w_val, yw_val, z_val, gw_val):\n",
    "    return solution[M1w_p].subs([(M1w, M1w_val), (yw, yw_val), (z, z_val), (gw, gw_val)])\n",
    "\n",
    "def dyw_dt(M1w_val, yw_val, z_val, gw_val):\n",
    "    return solution[yw_p].subs([(M1w, M1w_val), (yw, yw_val), (z, z_val), (gw, gw_val)])\n",
    "\n",
    "def dz_dt(M1w_val, yw_val, z_val, gw_val):\n",
    "    return solution[z_p].subs([(M1w, M1w_val), (yw, yw_val), (z, z_val), (gw, gw_val)])"
   ]
  },
  {
   "cell_type": "code",
   "execution_count": 46,
   "metadata": {},
   "outputs": [],
   "source": [
    "import numpy as np\n",
    "\n",
    "def model(t, M1w_yw_z_val, gw):\n",
    "    M1w_val = M1w_yw_z_val[0]\n",
    "    yw_val = M1w_yw_z_val[1]\n",
    "    z_val = M1w_yw_z_val[2]\n",
    "    gw_val = gw\n",
    "\n",
    "    dM1w_dt = solution[M1w_p].subs([(M1w, M1w_val), (yw, yw_val), (z, z_val), (gw, gw_val)])\n",
    "    dyw_dt = solution[yw_p].subs([(M1w, M1w_val), (yw, yw_val), (z, z_val), (gw, gw_val)])\n",
    "    dz_dt = solution[z_p].subs([(M1w, M1w_val), (yw, yw_val), (z, z_val), (gw, gw_val)])\n",
    "\n",
    "    return np.array((dM1w_dt, dyw_dt, dz_dt))"
   ]
  },
  {
   "cell_type": "code",
   "execution_count": 59,
   "metadata": {},
   "outputs": [],
   "source": [
    "def RK4_PCH(model, xyz_0, tt, gw):\n",
    "\n",
    "    xyz_i = xyz_0\n",
    "\n",
    "    h = tt[1] - tt[0]\n",
    "\n",
    "    xyz_sol = np.zeros((len(tt), 3))\n",
    "    xyz_sol[0, :] = xyz_i\n",
    "\n",
    "    for i, t in enumerate(tt[:-1]):\n",
    "        \n",
    "        if i == 1:\n",
    "            print(i)\n",
    "        \n",
    "        xyz_i = xyz_sol[i, :]\n",
    "\n",
    "        if i < 3:  # Runge-Kutta\n",
    "\n",
    "            K1 = model(t, xyz_i, gw)\n",
    "            K2 = model(t + h/2, xyz_i + h/2 * K1, gw)\n",
    "            K3 = model(t + h/2, xyz_i + h/2 * K2, gw)\n",
    "            K4 = model(t + h, xyz_i + h * K3, gw)\n",
    "\n",
    "            xyz_new = xyz_i + h/6 * (K1 + 2*K2 + 2*K3 + K4)\n",
    "            xyz_sol[i+1, :] = xyz_new\n",
    "\n",
    "        else:  # Hamming\n",
    "\n",
    "            f_i = model(tt[i], xyz_sol[i, :], gw)\n",
    "            f_i_1 = model(tt[i-1], xyz_sol[i-1, :], gw)\n",
    "            f_i_2 = model(tt[i-2], xyz_sol[i-2, :], gw)\n",
    "\n",
    "            # Adams\n",
    "            # xy_pred = xy_sol[i, :] + h/12 * (23*f_i - 16*f_i_1 + 5*f_i_2)\n",
    "            # xy_new = xy_sol[i, :] + h/24 * (f_i_2 - 5*f_i_1 + 19*f_i + 9*model(tt[i+1], xy_pred))\n",
    "\n",
    "            # Hamming\n",
    "            xyz_pred = xyz_sol[i - 3, :] + 4*h/3 * (2*f_i - f_i_1 + 2*f_i_2)\n",
    "            xyz_new = 1/8 * (9*xyz_sol[i, :] - xyz_sol[i-2, :]) +\\\n",
    "                3/8 * h * (-f_i_1 + 2*f_i + model(tt[i+1], xyz_pred, gw))\n",
    "\n",
    "            xyz_sol[i + 1, :] = xyz_new\n",
    "\n",
    "    return xyz_sol"
   ]
  },
  {
   "cell_type": "code",
   "execution_count": 60,
   "metadata": {},
   "outputs": [],
   "source": [
    "z_0 = 10\n",
    "alpha = 0.1\n",
    "now_gw = alpha / (z_0 + 1)\n",
    "\n",
    "M1w_yw_z_0 = np.array([1, 1, 10])\n",
    "\n",
    "t_total = 10\n",
    "t_step = 0.001\n",
    "\n",
    "tt = np.arange(0, t_total, t_step)\n",
    "# tt = [0, 1]"
   ]
  },
  {
   "cell_type": "code",
   "execution_count": 61,
   "metadata": {},
   "outputs": [
    {
     "ename": "KeyboardInterrupt",
     "evalue": "",
     "output_type": "error",
     "traceback": [
      "\u001b[0;31m---------------------------------------------------------------------------\u001b[0m",
      "\u001b[0;31mKeyboardInterrupt\u001b[0m                         Traceback (most recent call last)",
      "\u001b[0;32m<ipython-input-61-44bc838ffc66>\u001b[0m in \u001b[0;36m<module>\u001b[0;34m\u001b[0m\n\u001b[0;32m----> 1\u001b[0;31m \u001b[0msolution\u001b[0m \u001b[0;34m=\u001b[0m \u001b[0mRK4_PCH\u001b[0m\u001b[0;34m(\u001b[0m\u001b[0mmodel\u001b[0m\u001b[0;34m,\u001b[0m \u001b[0mM1w_yw_z_0\u001b[0m\u001b[0;34m,\u001b[0m \u001b[0mtt\u001b[0m\u001b[0;34m,\u001b[0m \u001b[0mnow_gw\u001b[0m\u001b[0;34m)\u001b[0m\u001b[0;34m\u001b[0m\u001b[0;34m\u001b[0m\u001b[0m\n\u001b[0m",
      "\u001b[0;32m<ipython-input-59-e25d18a66cce>\u001b[0m in \u001b[0;36mRK4_PCH\u001b[0;34m(model, xyz_0, tt, gw)\u001b[0m\n\u001b[1;32m     20\u001b[0m             \u001b[0mK2\u001b[0m \u001b[0;34m=\u001b[0m \u001b[0mmodel\u001b[0m\u001b[0;34m(\u001b[0m\u001b[0mt\u001b[0m \u001b[0;34m+\u001b[0m \u001b[0mh\u001b[0m\u001b[0;34m/\u001b[0m\u001b[0;36m2\u001b[0m\u001b[0;34m,\u001b[0m \u001b[0mxyz_i\u001b[0m \u001b[0;34m+\u001b[0m \u001b[0mh\u001b[0m\u001b[0;34m/\u001b[0m\u001b[0;36m2\u001b[0m \u001b[0;34m*\u001b[0m \u001b[0mK1\u001b[0m\u001b[0;34m,\u001b[0m \u001b[0mgw\u001b[0m\u001b[0;34m)\u001b[0m\u001b[0;34m\u001b[0m\u001b[0;34m\u001b[0m\u001b[0m\n\u001b[1;32m     21\u001b[0m             \u001b[0mK3\u001b[0m \u001b[0;34m=\u001b[0m \u001b[0mmodel\u001b[0m\u001b[0;34m(\u001b[0m\u001b[0mt\u001b[0m \u001b[0;34m+\u001b[0m \u001b[0mh\u001b[0m\u001b[0;34m/\u001b[0m\u001b[0;36m2\u001b[0m\u001b[0;34m,\u001b[0m \u001b[0mxyz_i\u001b[0m \u001b[0;34m+\u001b[0m \u001b[0mh\u001b[0m\u001b[0;34m/\u001b[0m\u001b[0;36m2\u001b[0m \u001b[0;34m*\u001b[0m \u001b[0mK2\u001b[0m\u001b[0;34m,\u001b[0m \u001b[0mgw\u001b[0m\u001b[0;34m)\u001b[0m\u001b[0;34m\u001b[0m\u001b[0;34m\u001b[0m\u001b[0m\n\u001b[0;32m---> 22\u001b[0;31m             \u001b[0mK4\u001b[0m \u001b[0;34m=\u001b[0m \u001b[0mmodel\u001b[0m\u001b[0;34m(\u001b[0m\u001b[0mt\u001b[0m \u001b[0;34m+\u001b[0m \u001b[0mh\u001b[0m\u001b[0;34m,\u001b[0m \u001b[0mxyz_i\u001b[0m \u001b[0;34m+\u001b[0m \u001b[0mh\u001b[0m \u001b[0;34m*\u001b[0m \u001b[0mK3\u001b[0m\u001b[0;34m,\u001b[0m \u001b[0mgw\u001b[0m\u001b[0;34m)\u001b[0m\u001b[0;34m\u001b[0m\u001b[0;34m\u001b[0m\u001b[0m\n\u001b[0m\u001b[1;32m     23\u001b[0m \u001b[0;34m\u001b[0m\u001b[0m\n\u001b[1;32m     24\u001b[0m             \u001b[0mxyz_new\u001b[0m \u001b[0;34m=\u001b[0m \u001b[0mxyz_i\u001b[0m \u001b[0;34m+\u001b[0m \u001b[0mh\u001b[0m\u001b[0;34m/\u001b[0m\u001b[0;36m6\u001b[0m \u001b[0;34m*\u001b[0m \u001b[0;34m(\u001b[0m\u001b[0mK1\u001b[0m \u001b[0;34m+\u001b[0m \u001b[0;36m2\u001b[0m\u001b[0;34m*\u001b[0m\u001b[0mK2\u001b[0m \u001b[0;34m+\u001b[0m \u001b[0;36m2\u001b[0m\u001b[0;34m*\u001b[0m\u001b[0mK3\u001b[0m \u001b[0;34m+\u001b[0m \u001b[0mK4\u001b[0m\u001b[0;34m)\u001b[0m\u001b[0;34m\u001b[0m\u001b[0;34m\u001b[0m\u001b[0m\n",
      "\u001b[0;32m<ipython-input-46-303059649534>\u001b[0m in \u001b[0;36mmodel\u001b[0;34m(t, M1w_yw_z_val, gw)\u001b[0m\n\u001b[1;32m      7\u001b[0m     \u001b[0mgw_val\u001b[0m \u001b[0;34m=\u001b[0m \u001b[0mgw\u001b[0m\u001b[0;34m\u001b[0m\u001b[0;34m\u001b[0m\u001b[0m\n\u001b[1;32m      8\u001b[0m \u001b[0;34m\u001b[0m\u001b[0m\n\u001b[0;32m----> 9\u001b[0;31m     \u001b[0mdM1w_dt\u001b[0m \u001b[0;34m=\u001b[0m \u001b[0msolution\u001b[0m\u001b[0;34m[\u001b[0m\u001b[0mM1w_p\u001b[0m\u001b[0;34m]\u001b[0m\u001b[0;34m.\u001b[0m\u001b[0msubs\u001b[0m\u001b[0;34m(\u001b[0m\u001b[0;34m[\u001b[0m\u001b[0;34m(\u001b[0m\u001b[0mM1w\u001b[0m\u001b[0;34m,\u001b[0m \u001b[0mM1w_val\u001b[0m\u001b[0;34m)\u001b[0m\u001b[0;34m,\u001b[0m \u001b[0;34m(\u001b[0m\u001b[0myw\u001b[0m\u001b[0;34m,\u001b[0m \u001b[0myw_val\u001b[0m\u001b[0;34m)\u001b[0m\u001b[0;34m,\u001b[0m \u001b[0;34m(\u001b[0m\u001b[0mz\u001b[0m\u001b[0;34m,\u001b[0m \u001b[0mz_val\u001b[0m\u001b[0;34m)\u001b[0m\u001b[0;34m,\u001b[0m \u001b[0;34m(\u001b[0m\u001b[0mgw\u001b[0m\u001b[0;34m,\u001b[0m \u001b[0mgw_val\u001b[0m\u001b[0;34m)\u001b[0m\u001b[0;34m]\u001b[0m\u001b[0;34m)\u001b[0m\u001b[0;34m\u001b[0m\u001b[0;34m\u001b[0m\u001b[0m\n\u001b[0m\u001b[1;32m     10\u001b[0m     \u001b[0mdyw_dt\u001b[0m \u001b[0;34m=\u001b[0m \u001b[0msolution\u001b[0m\u001b[0;34m[\u001b[0m\u001b[0myw_p\u001b[0m\u001b[0;34m]\u001b[0m\u001b[0;34m.\u001b[0m\u001b[0msubs\u001b[0m\u001b[0;34m(\u001b[0m\u001b[0;34m[\u001b[0m\u001b[0;34m(\u001b[0m\u001b[0mM1w\u001b[0m\u001b[0;34m,\u001b[0m \u001b[0mM1w_val\u001b[0m\u001b[0;34m)\u001b[0m\u001b[0;34m,\u001b[0m \u001b[0;34m(\u001b[0m\u001b[0myw\u001b[0m\u001b[0;34m,\u001b[0m \u001b[0myw_val\u001b[0m\u001b[0;34m)\u001b[0m\u001b[0;34m,\u001b[0m \u001b[0;34m(\u001b[0m\u001b[0mz\u001b[0m\u001b[0;34m,\u001b[0m \u001b[0mz_val\u001b[0m\u001b[0;34m)\u001b[0m\u001b[0;34m,\u001b[0m \u001b[0;34m(\u001b[0m\u001b[0mgw\u001b[0m\u001b[0;34m,\u001b[0m \u001b[0mgw_val\u001b[0m\u001b[0;34m)\u001b[0m\u001b[0;34m]\u001b[0m\u001b[0;34m)\u001b[0m\u001b[0;34m\u001b[0m\u001b[0;34m\u001b[0m\u001b[0m\n\u001b[1;32m     11\u001b[0m     \u001b[0mdz_dt\u001b[0m \u001b[0;34m=\u001b[0m \u001b[0msolution\u001b[0m\u001b[0;34m[\u001b[0m\u001b[0mz_p\u001b[0m\u001b[0;34m]\u001b[0m\u001b[0;34m.\u001b[0m\u001b[0msubs\u001b[0m\u001b[0;34m(\u001b[0m\u001b[0;34m[\u001b[0m\u001b[0;34m(\u001b[0m\u001b[0mM1w\u001b[0m\u001b[0;34m,\u001b[0m \u001b[0mM1w_val\u001b[0m\u001b[0;34m)\u001b[0m\u001b[0;34m,\u001b[0m \u001b[0;34m(\u001b[0m\u001b[0myw\u001b[0m\u001b[0;34m,\u001b[0m \u001b[0myw_val\u001b[0m\u001b[0;34m)\u001b[0m\u001b[0;34m,\u001b[0m \u001b[0;34m(\u001b[0m\u001b[0mz\u001b[0m\u001b[0;34m,\u001b[0m \u001b[0mz_val\u001b[0m\u001b[0;34m)\u001b[0m\u001b[0;34m,\u001b[0m \u001b[0;34m(\u001b[0m\u001b[0mgw\u001b[0m\u001b[0;34m,\u001b[0m \u001b[0mgw_val\u001b[0m\u001b[0;34m)\u001b[0m\u001b[0;34m]\u001b[0m\u001b[0;34m)\u001b[0m\u001b[0;34m\u001b[0m\u001b[0;34m\u001b[0m\u001b[0m\n",
      "\u001b[0;32m~/opt/anaconda3/lib/python3.7/site-packages/sympy/core/basic.py\u001b[0m in \u001b[0;36msubs\u001b[0;34m(self, *args, **kwargs)\u001b[0m\n\u001b[1;32m   1000\u001b[0m             \u001b[0mrv\u001b[0m \u001b[0;34m=\u001b[0m \u001b[0mself\u001b[0m\u001b[0;34m\u001b[0m\u001b[0;34m\u001b[0m\u001b[0m\n\u001b[1;32m   1001\u001b[0m             \u001b[0;32mfor\u001b[0m \u001b[0mold\u001b[0m\u001b[0;34m,\u001b[0m \u001b[0mnew\u001b[0m \u001b[0;32min\u001b[0m \u001b[0msequence\u001b[0m\u001b[0;34m:\u001b[0m\u001b[0;34m\u001b[0m\u001b[0;34m\u001b[0m\u001b[0m\n\u001b[0;32m-> 1002\u001b[0;31m                 \u001b[0mrv\u001b[0m \u001b[0;34m=\u001b[0m \u001b[0mrv\u001b[0m\u001b[0;34m.\u001b[0m\u001b[0m_subs\u001b[0m\u001b[0;34m(\u001b[0m\u001b[0mold\u001b[0m\u001b[0;34m,\u001b[0m \u001b[0mnew\u001b[0m\u001b[0;34m,\u001b[0m \u001b[0;34m**\u001b[0m\u001b[0mkwargs\u001b[0m\u001b[0;34m)\u001b[0m\u001b[0;34m\u001b[0m\u001b[0;34m\u001b[0m\u001b[0m\n\u001b[0m\u001b[1;32m   1003\u001b[0m                 \u001b[0;32mif\u001b[0m \u001b[0;32mnot\u001b[0m \u001b[0misinstance\u001b[0m\u001b[0;34m(\u001b[0m\u001b[0mrv\u001b[0m\u001b[0;34m,\u001b[0m \u001b[0mBasic\u001b[0m\u001b[0;34m)\u001b[0m\u001b[0;34m:\u001b[0m\u001b[0;34m\u001b[0m\u001b[0;34m\u001b[0m\u001b[0m\n\u001b[1;32m   1004\u001b[0m                     \u001b[0;32mbreak\u001b[0m\u001b[0;34m\u001b[0m\u001b[0;34m\u001b[0m\u001b[0m\n",
      "\u001b[0;32m~/opt/anaconda3/lib/python3.7/site-packages/sympy/core/basic.py\u001b[0m in \u001b[0;36m_subs\u001b[0;34m(self, old, new, **hints)\u001b[0m\n\u001b[1;32m   1114\u001b[0m         \u001b[0mrv\u001b[0m \u001b[0;34m=\u001b[0m \u001b[0mself\u001b[0m\u001b[0;34m.\u001b[0m\u001b[0m_eval_subs\u001b[0m\u001b[0;34m(\u001b[0m\u001b[0mold\u001b[0m\u001b[0;34m,\u001b[0m \u001b[0mnew\u001b[0m\u001b[0;34m)\u001b[0m\u001b[0;34m\u001b[0m\u001b[0;34m\u001b[0m\u001b[0m\n\u001b[1;32m   1115\u001b[0m         \u001b[0;32mif\u001b[0m \u001b[0mrv\u001b[0m \u001b[0;32mis\u001b[0m \u001b[0;32mNone\u001b[0m\u001b[0;34m:\u001b[0m\u001b[0;34m\u001b[0m\u001b[0;34m\u001b[0m\u001b[0m\n\u001b[0;32m-> 1116\u001b[0;31m             \u001b[0mrv\u001b[0m \u001b[0;34m=\u001b[0m \u001b[0mfallback\u001b[0m\u001b[0;34m(\u001b[0m\u001b[0mself\u001b[0m\u001b[0;34m,\u001b[0m \u001b[0mold\u001b[0m\u001b[0;34m,\u001b[0m \u001b[0mnew\u001b[0m\u001b[0;34m)\u001b[0m\u001b[0;34m\u001b[0m\u001b[0;34m\u001b[0m\u001b[0m\n\u001b[0m\u001b[1;32m   1117\u001b[0m         \u001b[0;32mreturn\u001b[0m \u001b[0mrv\u001b[0m\u001b[0;34m\u001b[0m\u001b[0;34m\u001b[0m\u001b[0m\n\u001b[1;32m   1118\u001b[0m \u001b[0;34m\u001b[0m\u001b[0m\n",
      "\u001b[0;32m~/opt/anaconda3/lib/python3.7/site-packages/sympy/core/basic.py\u001b[0m in \u001b[0;36mfallback\u001b[0;34m(self, old, new)\u001b[0m\n\u001b[1;32m   1086\u001b[0m                 \u001b[0;32mif\u001b[0m \u001b[0;32mnot\u001b[0m \u001b[0mhasattr\u001b[0m\u001b[0;34m(\u001b[0m\u001b[0marg\u001b[0m\u001b[0;34m,\u001b[0m \u001b[0;34m'_eval_subs'\u001b[0m\u001b[0;34m)\u001b[0m\u001b[0;34m:\u001b[0m\u001b[0;34m\u001b[0m\u001b[0;34m\u001b[0m\u001b[0m\n\u001b[1;32m   1087\u001b[0m                     \u001b[0;32mcontinue\u001b[0m\u001b[0;34m\u001b[0m\u001b[0;34m\u001b[0m\u001b[0m\n\u001b[0;32m-> 1088\u001b[0;31m                 \u001b[0marg\u001b[0m \u001b[0;34m=\u001b[0m \u001b[0marg\u001b[0m\u001b[0;34m.\u001b[0m\u001b[0m_subs\u001b[0m\u001b[0;34m(\u001b[0m\u001b[0mold\u001b[0m\u001b[0;34m,\u001b[0m \u001b[0mnew\u001b[0m\u001b[0;34m,\u001b[0m \u001b[0;34m**\u001b[0m\u001b[0mhints\u001b[0m\u001b[0;34m)\u001b[0m\u001b[0;34m\u001b[0m\u001b[0;34m\u001b[0m\u001b[0m\n\u001b[0m\u001b[1;32m   1089\u001b[0m                 \u001b[0;32mif\u001b[0m \u001b[0;32mnot\u001b[0m \u001b[0m_aresame\u001b[0m\u001b[0;34m(\u001b[0m\u001b[0marg\u001b[0m\u001b[0;34m,\u001b[0m \u001b[0margs\u001b[0m\u001b[0;34m[\u001b[0m\u001b[0mi\u001b[0m\u001b[0;34m]\u001b[0m\u001b[0;34m)\u001b[0m\u001b[0;34m:\u001b[0m\u001b[0;34m\u001b[0m\u001b[0;34m\u001b[0m\u001b[0m\n\u001b[1;32m   1090\u001b[0m                     \u001b[0mhit\u001b[0m \u001b[0;34m=\u001b[0m \u001b[0;32mTrue\u001b[0m\u001b[0;34m\u001b[0m\u001b[0;34m\u001b[0m\u001b[0m\n",
      "\u001b[0;32m~/opt/anaconda3/lib/python3.7/site-packages/sympy/core/basic.py\u001b[0m in \u001b[0;36m_subs\u001b[0;34m(self, old, new, **hints)\u001b[0m\n\u001b[1;32m   1114\u001b[0m         \u001b[0mrv\u001b[0m \u001b[0;34m=\u001b[0m \u001b[0mself\u001b[0m\u001b[0;34m.\u001b[0m\u001b[0m_eval_subs\u001b[0m\u001b[0;34m(\u001b[0m\u001b[0mold\u001b[0m\u001b[0;34m,\u001b[0m \u001b[0mnew\u001b[0m\u001b[0;34m)\u001b[0m\u001b[0;34m\u001b[0m\u001b[0;34m\u001b[0m\u001b[0m\n\u001b[1;32m   1115\u001b[0m         \u001b[0;32mif\u001b[0m \u001b[0mrv\u001b[0m \u001b[0;32mis\u001b[0m \u001b[0;32mNone\u001b[0m\u001b[0;34m:\u001b[0m\u001b[0;34m\u001b[0m\u001b[0;34m\u001b[0m\u001b[0m\n\u001b[0;32m-> 1116\u001b[0;31m             \u001b[0mrv\u001b[0m \u001b[0;34m=\u001b[0m \u001b[0mfallback\u001b[0m\u001b[0;34m(\u001b[0m\u001b[0mself\u001b[0m\u001b[0;34m,\u001b[0m \u001b[0mold\u001b[0m\u001b[0;34m,\u001b[0m \u001b[0mnew\u001b[0m\u001b[0;34m)\u001b[0m\u001b[0;34m\u001b[0m\u001b[0;34m\u001b[0m\u001b[0m\n\u001b[0m\u001b[1;32m   1117\u001b[0m         \u001b[0;32mreturn\u001b[0m \u001b[0mrv\u001b[0m\u001b[0;34m\u001b[0m\u001b[0;34m\u001b[0m\u001b[0m\n\u001b[1;32m   1118\u001b[0m \u001b[0;34m\u001b[0m\u001b[0m\n",
      "\u001b[0;32m~/opt/anaconda3/lib/python3.7/site-packages/sympy/core/basic.py\u001b[0m in \u001b[0;36mfallback\u001b[0;34m(self, old, new)\u001b[0m\n\u001b[1;32m   1086\u001b[0m                 \u001b[0;32mif\u001b[0m \u001b[0;32mnot\u001b[0m \u001b[0mhasattr\u001b[0m\u001b[0;34m(\u001b[0m\u001b[0marg\u001b[0m\u001b[0;34m,\u001b[0m \u001b[0;34m'_eval_subs'\u001b[0m\u001b[0;34m)\u001b[0m\u001b[0;34m:\u001b[0m\u001b[0;34m\u001b[0m\u001b[0;34m\u001b[0m\u001b[0m\n\u001b[1;32m   1087\u001b[0m                     \u001b[0;32mcontinue\u001b[0m\u001b[0;34m\u001b[0m\u001b[0;34m\u001b[0m\u001b[0m\n\u001b[0;32m-> 1088\u001b[0;31m                 \u001b[0marg\u001b[0m \u001b[0;34m=\u001b[0m \u001b[0marg\u001b[0m\u001b[0;34m.\u001b[0m\u001b[0m_subs\u001b[0m\u001b[0;34m(\u001b[0m\u001b[0mold\u001b[0m\u001b[0;34m,\u001b[0m \u001b[0mnew\u001b[0m\u001b[0;34m,\u001b[0m \u001b[0;34m**\u001b[0m\u001b[0mhints\u001b[0m\u001b[0;34m)\u001b[0m\u001b[0;34m\u001b[0m\u001b[0;34m\u001b[0m\u001b[0m\n\u001b[0m\u001b[1;32m   1089\u001b[0m                 \u001b[0;32mif\u001b[0m \u001b[0;32mnot\u001b[0m \u001b[0m_aresame\u001b[0m\u001b[0;34m(\u001b[0m\u001b[0marg\u001b[0m\u001b[0;34m,\u001b[0m \u001b[0margs\u001b[0m\u001b[0;34m[\u001b[0m\u001b[0mi\u001b[0m\u001b[0;34m]\u001b[0m\u001b[0;34m)\u001b[0m\u001b[0;34m:\u001b[0m\u001b[0;34m\u001b[0m\u001b[0;34m\u001b[0m\u001b[0m\n\u001b[1;32m   1090\u001b[0m                     \u001b[0mhit\u001b[0m \u001b[0;34m=\u001b[0m \u001b[0;32mTrue\u001b[0m\u001b[0;34m\u001b[0m\u001b[0;34m\u001b[0m\u001b[0m\n",
      "\u001b[0;32m~/opt/anaconda3/lib/python3.7/site-packages/sympy/core/basic.py\u001b[0m in \u001b[0;36m_subs\u001b[0;34m(self, old, new, **hints)\u001b[0m\n\u001b[1;32m   1114\u001b[0m         \u001b[0mrv\u001b[0m \u001b[0;34m=\u001b[0m \u001b[0mself\u001b[0m\u001b[0;34m.\u001b[0m\u001b[0m_eval_subs\u001b[0m\u001b[0;34m(\u001b[0m\u001b[0mold\u001b[0m\u001b[0;34m,\u001b[0m \u001b[0mnew\u001b[0m\u001b[0;34m)\u001b[0m\u001b[0;34m\u001b[0m\u001b[0;34m\u001b[0m\u001b[0m\n\u001b[1;32m   1115\u001b[0m         \u001b[0;32mif\u001b[0m \u001b[0mrv\u001b[0m \u001b[0;32mis\u001b[0m \u001b[0;32mNone\u001b[0m\u001b[0;34m:\u001b[0m\u001b[0;34m\u001b[0m\u001b[0;34m\u001b[0m\u001b[0m\n\u001b[0;32m-> 1116\u001b[0;31m             \u001b[0mrv\u001b[0m \u001b[0;34m=\u001b[0m \u001b[0mfallback\u001b[0m\u001b[0;34m(\u001b[0m\u001b[0mself\u001b[0m\u001b[0;34m,\u001b[0m \u001b[0mold\u001b[0m\u001b[0;34m,\u001b[0m \u001b[0mnew\u001b[0m\u001b[0;34m)\u001b[0m\u001b[0;34m\u001b[0m\u001b[0;34m\u001b[0m\u001b[0m\n\u001b[0m\u001b[1;32m   1117\u001b[0m         \u001b[0;32mreturn\u001b[0m \u001b[0mrv\u001b[0m\u001b[0;34m\u001b[0m\u001b[0;34m\u001b[0m\u001b[0m\n\u001b[1;32m   1118\u001b[0m \u001b[0;34m\u001b[0m\u001b[0m\n",
      "\u001b[0;32m~/opt/anaconda3/lib/python3.7/site-packages/sympy/core/basic.py\u001b[0m in \u001b[0;36mfallback\u001b[0;34m(self, old, new)\u001b[0m\n\u001b[1;32m   1087\u001b[0m                     \u001b[0;32mcontinue\u001b[0m\u001b[0;34m\u001b[0m\u001b[0;34m\u001b[0m\u001b[0m\n\u001b[1;32m   1088\u001b[0m                 \u001b[0marg\u001b[0m \u001b[0;34m=\u001b[0m \u001b[0marg\u001b[0m\u001b[0;34m.\u001b[0m\u001b[0m_subs\u001b[0m\u001b[0;34m(\u001b[0m\u001b[0mold\u001b[0m\u001b[0;34m,\u001b[0m \u001b[0mnew\u001b[0m\u001b[0;34m,\u001b[0m \u001b[0;34m**\u001b[0m\u001b[0mhints\u001b[0m\u001b[0;34m)\u001b[0m\u001b[0;34m\u001b[0m\u001b[0;34m\u001b[0m\u001b[0m\n\u001b[0;32m-> 1089\u001b[0;31m                 \u001b[0;32mif\u001b[0m \u001b[0;32mnot\u001b[0m \u001b[0m_aresame\u001b[0m\u001b[0;34m(\u001b[0m\u001b[0marg\u001b[0m\u001b[0;34m,\u001b[0m \u001b[0margs\u001b[0m\u001b[0;34m[\u001b[0m\u001b[0mi\u001b[0m\u001b[0;34m]\u001b[0m\u001b[0;34m)\u001b[0m\u001b[0;34m:\u001b[0m\u001b[0;34m\u001b[0m\u001b[0;34m\u001b[0m\u001b[0m\n\u001b[0m\u001b[1;32m   1090\u001b[0m                     \u001b[0mhit\u001b[0m \u001b[0;34m=\u001b[0m \u001b[0;32mTrue\u001b[0m\u001b[0;34m\u001b[0m\u001b[0;34m\u001b[0m\u001b[0m\n\u001b[1;32m   1091\u001b[0m                     \u001b[0margs\u001b[0m\u001b[0;34m[\u001b[0m\u001b[0mi\u001b[0m\u001b[0;34m]\u001b[0m \u001b[0;34m=\u001b[0m \u001b[0marg\u001b[0m\u001b[0;34m\u001b[0m\u001b[0;34m\u001b[0m\u001b[0m\n",
      "\u001b[0;32m~/opt/anaconda3/lib/python3.7/site-packages/sympy/core/basic.py\u001b[0m in \u001b[0;36m_aresame\u001b[0;34m(a, b)\u001b[0m\n\u001b[1;32m   1921\u001b[0m         \u001b[0;32mreturn\u001b[0m \u001b[0ma\u001b[0m \u001b[0;34m==\u001b[0m \u001b[0mb\u001b[0m \u001b[0;32mand\u001b[0m \u001b[0ma\u001b[0m\u001b[0;34m.\u001b[0m\u001b[0m__class__\u001b[0m \u001b[0;34m==\u001b[0m \u001b[0mb\u001b[0m\u001b[0;34m.\u001b[0m\u001b[0m__class__\u001b[0m\u001b[0;34m\u001b[0m\u001b[0;34m\u001b[0m\u001b[0m\n\u001b[1;32m   1922\u001b[0m     \u001b[0;32mfor\u001b[0m \u001b[0mi\u001b[0m\u001b[0;34m,\u001b[0m \u001b[0mj\u001b[0m \u001b[0;32min\u001b[0m \u001b[0mzip_longest\u001b[0m\u001b[0;34m(\u001b[0m\u001b[0mpreorder_traversal\u001b[0m\u001b[0;34m(\u001b[0m\u001b[0ma\u001b[0m\u001b[0;34m)\u001b[0m\u001b[0;34m,\u001b[0m \u001b[0mpreorder_traversal\u001b[0m\u001b[0;34m(\u001b[0m\u001b[0mb\u001b[0m\u001b[0;34m)\u001b[0m\u001b[0;34m)\u001b[0m\u001b[0;34m:\u001b[0m\u001b[0;34m\u001b[0m\u001b[0;34m\u001b[0m\u001b[0m\n\u001b[0;32m-> 1923\u001b[0;31m         \u001b[0;32mif\u001b[0m \u001b[0mi\u001b[0m \u001b[0;34m!=\u001b[0m \u001b[0mj\u001b[0m \u001b[0;32mor\u001b[0m \u001b[0mtype\u001b[0m\u001b[0;34m(\u001b[0m\u001b[0mi\u001b[0m\u001b[0;34m)\u001b[0m \u001b[0;34m!=\u001b[0m \u001b[0mtype\u001b[0m\u001b[0;34m(\u001b[0m\u001b[0mj\u001b[0m\u001b[0;34m)\u001b[0m\u001b[0;34m:\u001b[0m\u001b[0;34m\u001b[0m\u001b[0;34m\u001b[0m\u001b[0m\n\u001b[0m\u001b[1;32m   1924\u001b[0m             if ((isinstance(i, UndefFunc) and isinstance(j, UndefFunc)) or\n\u001b[1;32m   1925\u001b[0m                 (isinstance(i, AppliedUndef) and isinstance(j, AppliedUndef))):\n",
      "\u001b[0;32m~/opt/anaconda3/lib/python3.7/site-packages/sympy/core/numbers.py\u001b[0m in \u001b[0;36m__ne__\u001b[0;34m(self, other)\u001b[0m\n\u001b[1;32m   2249\u001b[0m \u001b[0;34m\u001b[0m\u001b[0m\n\u001b[1;32m   2250\u001b[0m     \u001b[0;32mdef\u001b[0m \u001b[0m__ne__\u001b[0m\u001b[0;34m(\u001b[0m\u001b[0mself\u001b[0m\u001b[0;34m,\u001b[0m \u001b[0mother\u001b[0m\u001b[0;34m)\u001b[0m\u001b[0;34m:\u001b[0m\u001b[0;34m\u001b[0m\u001b[0;34m\u001b[0m\u001b[0m\n\u001b[0;32m-> 2251\u001b[0;31m         \u001b[0;32mreturn\u001b[0m \u001b[0;32mnot\u001b[0m \u001b[0mself\u001b[0m \u001b[0;34m==\u001b[0m \u001b[0mother\u001b[0m\u001b[0;34m\u001b[0m\u001b[0;34m\u001b[0m\u001b[0m\n\u001b[0m\u001b[1;32m   2252\u001b[0m \u001b[0;34m\u001b[0m\u001b[0m\n\u001b[1;32m   2253\u001b[0m     \u001b[0;32mdef\u001b[0m \u001b[0m__gt__\u001b[0m\u001b[0;34m(\u001b[0m\u001b[0mself\u001b[0m\u001b[0;34m,\u001b[0m \u001b[0mother\u001b[0m\u001b[0;34m)\u001b[0m\u001b[0;34m:\u001b[0m\u001b[0;34m\u001b[0m\u001b[0;34m\u001b[0m\u001b[0m\n",
      "\u001b[0;32m~/opt/anaconda3/lib/python3.7/site-packages/sympy/core/numbers.py\u001b[0m in \u001b[0;36m__eq__\u001b[0;34m(self, other)\u001b[0m\n\u001b[1;32m   2245\u001b[0m             \u001b[0;32mreturn\u001b[0m \u001b[0;34m(\u001b[0m\u001b[0mself\u001b[0m\u001b[0;34m.\u001b[0m\u001b[0mp\u001b[0m \u001b[0;34m==\u001b[0m \u001b[0mother\u001b[0m\u001b[0;34m)\u001b[0m\u001b[0;34m\u001b[0m\u001b[0;34m\u001b[0m\u001b[0m\n\u001b[1;32m   2246\u001b[0m         \u001b[0;32melif\u001b[0m \u001b[0misinstance\u001b[0m\u001b[0;34m(\u001b[0m\u001b[0mother\u001b[0m\u001b[0;34m,\u001b[0m \u001b[0mInteger\u001b[0m\u001b[0;34m)\u001b[0m\u001b[0;34m:\u001b[0m\u001b[0;34m\u001b[0m\u001b[0;34m\u001b[0m\u001b[0m\n\u001b[0;32m-> 2247\u001b[0;31m             \u001b[0;32mreturn\u001b[0m \u001b[0;34m(\u001b[0m\u001b[0mself\u001b[0m\u001b[0;34m.\u001b[0m\u001b[0mp\u001b[0m \u001b[0;34m==\u001b[0m \u001b[0mother\u001b[0m\u001b[0;34m.\u001b[0m\u001b[0mp\u001b[0m\u001b[0;34m)\u001b[0m\u001b[0;34m\u001b[0m\u001b[0;34m\u001b[0m\u001b[0m\n\u001b[0m\u001b[1;32m   2248\u001b[0m         \u001b[0;32mreturn\u001b[0m \u001b[0mRational\u001b[0m\u001b[0;34m.\u001b[0m\u001b[0m__eq__\u001b[0m\u001b[0;34m(\u001b[0m\u001b[0mself\u001b[0m\u001b[0;34m,\u001b[0m \u001b[0mother\u001b[0m\u001b[0;34m)\u001b[0m\u001b[0;34m\u001b[0m\u001b[0;34m\u001b[0m\u001b[0m\n\u001b[1;32m   2249\u001b[0m \u001b[0;34m\u001b[0m\u001b[0m\n",
      "\u001b[0;31mKeyboardInterrupt\u001b[0m: "
     ]
    }
   ],
   "source": [
    "solution = RK4_PCH(model, M1w_yw_z_0, tt, now_gw)"
   ]
  },
  {
   "cell_type": "code",
   "execution_count": null,
   "metadata": {},
   "outputs": [],
   "source": [
    "import matplotlib.pyplot as plt\n",
    "\n"
   ]
  },
  {
   "cell_type": "code",
   "execution_count": null,
   "metadata": {},
   "outputs": [],
   "source": []
  },
  {
   "cell_type": "code",
   "execution_count": null,
   "metadata": {},
   "outputs": [],
   "source": []
  }
 ],
 "metadata": {
  "kernelspec": {
   "display_name": "PyCharm (MC_simulation)",
   "language": "python",
   "name": "pycharm-55ed0cc"
  },
  "language_info": {
   "codemirror_mode": {
    "name": "ipython",
    "version": 3
   },
   "file_extension": ".py",
   "mimetype": "text/x-python",
   "name": "python",
   "nbconvert_exporter": "python",
   "pygments_lexer": "ipython3",
   "version": "3.7.6"
  },
  "pycharm": {
   "stem_cell": {
    "cell_type": "raw",
    "metadata": {
     "collapsed": false
    },
    "source": []
   }
  }
 },
 "nbformat": 4,
 "nbformat_minor": 1
}
