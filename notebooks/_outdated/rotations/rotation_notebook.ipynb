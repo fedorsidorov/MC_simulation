{
 "cells": [
  {
   "cell_type": "code",
   "execution_count": 1,
   "metadata": {},
   "outputs": [],
   "source": [
    "import numpy as np\n",
    "import sympy as sp\n",
    "import matplotlib.pyplot as plt"
   ]
  },
  {
   "cell_type": "code",
   "execution_count": 2,
   "metadata": {},
   "outputs": [],
   "source": [
    "def get_Ry(theta):\n",
    "    mat = np.mat([\n",
    "        [np.cos(theta), 0, np.sin(theta)],\n",
    "        [0, 1, 0],\n",
    "        [-np.sin(theta), 0, np.cos(theta)]\n",
    "    ])\n",
    "    return mat\n",
    "\n",
    "\n",
    "def get_Rz(phi):\n",
    "    mat = np.mat([\n",
    "        [np.cos(phi), -np.sin(phi), 0],\n",
    "        [np.sin(phi), np.cos(phi), 0],\n",
    "        [0, 0, 1]\n",
    "    ])\n",
    "    return mat\n",
    "\n",
    "\n",
    "def get_Ry_s(theta):\n",
    "    mat = sp.Matrix([\n",
    "        [sp.cos(theta), 0, sp.sin(theta)],\n",
    "        [0, 1, 0],\n",
    "        [-sp.sin(theta), 0, sp.cos(theta)]\n",
    "    ])\n",
    "    return mat\n",
    "\n",
    "\n",
    "def get_Rz_s(phi):\n",
    "    mat = sp.Matrix([\n",
    "        [sp.cos(phi), -sp.sin(phi), 0],\n",
    "        [sp.sin(phi), sp.cos(phi), 0],\n",
    "        [0, 0, 1]\n",
    "    ])\n",
    "    return mat\n",
    "\n",
    "\n",
    "def get_new_ort(now_angles, rot_angles):\n",
    "# def get_rot_mat(now_angles, rot_angles):\n",
    "    now_phi, now_theta = now_angles\n",
    "    phi_rot, theta_rot = rot_angles\n",
    "\n",
    "    rot_mat = np.mat([\n",
    "        [np.sin(theta_rot) * np.cos(phi_rot)],\n",
    "        [np.sin(theta_rot) * np.sin(phi_rot)],\n",
    "        [np.cos(theta_rot)]\n",
    "    ])\n",
    "\n",
    "    rot_mat = np.matmul(get_Ry(now_theta), rot_mat)\n",
    "    rot_mat = np.matmul(get_Rz(now_phi), rot_mat)\n",
    "\n",
    "    return rot_mat\n",
    "\n",
    "\n",
    "def get_ort(angles):\n",
    "\n",
    "    now_phi, now_theta = now_angles\n",
    "\n",
    "    now_ort = np.mat([\n",
    "        [np.sin(now_theta) * np.cos(now_phi)],\n",
    "        [np.sin(now_theta) * np.sin(now_phi)],\n",
    "        [np.cos(now_theta)]\n",
    "    ])\n",
    "\n",
    "    return now_ort"
   ]
  },
  {
   "cell_type": "code",
   "execution_count": 19,
   "metadata": {},
   "outputs": [
    {
     "data": {
      "text/latex": [
       "$\\displaystyle \\left[\\begin{matrix}- \\sin{\\left(\\phi \\right)} \\sin{\\left(\\theta \\right)} \\sin{\\left(\\varphi \\right)} + \\sin{\\left(\\theta \\right)} \\cos{\\left(\\phi \\right)} \\cos{\\left(\\varphi \\right)} \\cos{\\left(\\vartheta \\right)} + \\sin{\\left(\\vartheta \\right)} \\cos{\\left(\\theta \\right)} \\cos{\\left(\\varphi \\right)}\\\\\\sin{\\left(\\phi \\right)} \\sin{\\left(\\theta \\right)} \\cos{\\left(\\varphi \\right)} + \\sin{\\left(\\theta \\right)} \\sin{\\left(\\varphi \\right)} \\cos{\\left(\\phi \\right)} \\cos{\\left(\\vartheta \\right)} + \\sin{\\left(\\varphi \\right)} \\sin{\\left(\\vartheta \\right)} \\cos{\\left(\\theta \\right)}\\\\- \\sin{\\left(\\theta \\right)} \\sin{\\left(\\vartheta \\right)} \\cos{\\left(\\phi \\right)} + \\cos{\\left(\\theta \\right)} \\cos{\\left(\\vartheta \\right)}\\end{matrix}\\right]$"
      ],
      "text/plain": [
       "Matrix([\n",
       "[-sin(phi)*sin(theta)*sin(varphi) + sin(theta)*cos(phi)*cos(varphi)*cos(vartheta) + sin(vartheta)*cos(theta)*cos(varphi)],\n",
       "[ sin(phi)*sin(theta)*cos(varphi) + sin(theta)*sin(varphi)*cos(phi)*cos(vartheta) + sin(varphi)*sin(vartheta)*cos(theta)],\n",
       "[                                                          -sin(theta)*sin(vartheta)*cos(phi) + cos(theta)*cos(vartheta)]])"
      ]
     },
     "execution_count": 19,
     "metadata": {},
     "output_type": "execute_result"
    }
   ],
   "source": [
    "phi_now, theta_now = sp.symbols('varphi, vartheta')\n",
    "phi_rot, theta_rot = sp.symbols('phi, theta')\n",
    "\n",
    "u = sp.sin(theta_now) * sp.cos(phi_now)\n",
    "v = sp.sin(theta_now) * sp.sin(phi_now)\n",
    "w = sp.cos(theta_now)\n",
    "\n",
    "vect = sp.Matrix([\n",
    "    [sp.sin(theta_rot) * sp.cos(phi_rot)],\n",
    "    [sp.sin(theta_rot) * sp.sin(phi_rot)],\n",
    "    [sp.cos(theta_rot)]\n",
    "])\n",
    "\n",
    "new_vect = get_Rz_s(phi_now) * get_Ry_s(theta_now) * vect\n",
    "sp.simplify(new_vect)"
   ]
  },
  {
   "cell_type": "code",
   "execution_count": 8,
   "metadata": {},
   "outputs": [
    {
     "data": {
      "text/latex": [
       "$\\displaystyle \\sqrt{u^{2} + v^{2} + w^{2}}$"
      ],
      "text/plain": [
       "sqrt(u**2 + v**2 + w**2)"
      ]
     },
     "execution_count": 8,
     "metadata": {},
     "output_type": "execute_result"
    }
   ],
   "source": [
    "sp.simplify(sp.sqrt(new_vect.dot(new_vect)))"
   ]
  },
  {
   "cell_type": "code",
   "execution_count": null,
   "metadata": {},
   "outputs": [],
   "source": []
  },
  {
   "cell_type": "code",
   "execution_count": null,
   "metadata": {},
   "outputs": [],
   "source": [
    "# vect = sp.Matrix([\n",
    "#     [sp.sin(theta) * sp.cos(phi)],\n",
    "#     [sp.sin(theta) * sp.sin(phi)],\n",
    "#     [sp.cos(theta)]\n",
    "# ])\n",
    "\n",
    "# sp.simplify(get_Ry_s(-theta) * get_Rz_s(-phi) * vect)\n",
    "\n",
    "now_angles = 0, 0\n",
    "\n",
    "now_ort = get_ort(now_angles)\n",
    "\n",
    "new_ort = get_new_ort(now_angles, [np.pi/2, np.pi/4])"
   ]
  }
 ],
 "metadata": {
  "kernelspec": {
   "display_name": "PyCharm (MC_simulation)",
   "language": "python",
   "name": "pycharm-55ed0cc"
  },
  "language_info": {
   "codemirror_mode": {
    "name": "ipython",
    "version": 3
   },
   "file_extension": ".py",
   "mimetype": "text/x-python",
   "name": "python",
   "nbconvert_exporter": "python",
   "pygments_lexer": "ipython3",
   "version": "3.7.6"
  }
 },
 "nbformat": 4,
 "nbformat_minor": 4
}
