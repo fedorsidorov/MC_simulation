{
 "cells": [
  {
   "cell_type": "code",
<<<<<<< HEAD
   "execution_count": 6,
   "metadata": {
=======
   "execution_count": 4,
   "metadata": {
    "collapsed": true,
>>>>>>> origin/master
    "pycharm": {
     "is_executing": false
    }
   },
   "outputs": [
    {
     "data": {
<<<<<<< HEAD
      "text/latex": [
       "$\\displaystyle - x + 2 y - z - 1$"
      ],
      "text/plain": [
       "-x + 2⋅y - z - 1"
      ]
     },
     "execution_count": 6,
     "metadata": {},
     "output_type": "execute_result"
=======
      "text/plain": "-x + 2*y - 1",
      "text/latex": "$\\displaystyle - x + 2 y - 1$"
     },
     "metadata": {},
     "output_type": "execute_result",
     "execution_count": 4
>>>>>>> origin/master
    }
   ],
   "source": [
    "from sympy import *\n",
    "\n",
<<<<<<< HEAD
    "init_printing(use_latex='mathjax')\n",
    "\n",
=======
>>>>>>> origin/master
    "x, y, z, t = symbols('x y z t')\n",
    "\n",
    "expr_1 = 2*x + y - t\n",
    "expr_2 = 2*y - x - 1 - z\n",
    "\n",
    "expr_1\n",
    "expr_2"
   ]
  },
  {
   "cell_type": "code",
<<<<<<< HEAD
   "execution_count": 7,
   "metadata": {
    "pycharm": {
     "is_executing": false,
     "name": "#%%\n"
    }
   },
   "outputs": [
    {
     "data": {
      "text/latex": [
       "$\\displaystyle \\left\\{ x : \\frac{2 t}{5} - \\frac{z}{5} - \\frac{1}{5}, \\  y : \\frac{t}{5} + \\frac{2 z}{5} + \\frac{2}{5}\\right\\}$"
      ],
      "text/plain": [
       "⎧   2⋅t   z   1     t   2⋅z   2⎫\n",
       "⎨x: ─── - ─ - ─, y: ─ + ─── + ─⎬\n",
       "⎩    5    5   5     5    5    5⎭"
      ]
     },
     "execution_count": 7,
     "metadata": {},
     "output_type": "execute_result"
=======
   "execution_count": 6,
   "outputs": [
    {
     "data": {
      "text/plain": "{x: -1/5, y: 2/5}"
     },
     "metadata": {},
     "output_type": "execute_result",
     "execution_count": 6
>>>>>>> origin/master
    }
   ],
   "source": [
    "solve([expr_1, expr_2], (x, y))\n",
    "\n"
<<<<<<< HEAD
   ]
  },
  {
   "cell_type": "code",
   "execution_count": 13,
   "metadata": {},
   "outputs": [
    {
     "data": {
      "text/latex": [
       "$\\displaystyle f{\\left(x,y \\right)} \\frac{\\partial}{\\partial x} g{\\left(x,y \\right)} + g{\\left(x,y \\right)} \\frac{\\partial}{\\partial x} f{\\left(x,y \\right)}$"
      ],
      "text/plain": [
       "        ∂                     ∂          \n",
       "f(x, y)⋅──(g(x, y)) + g(x, y)⋅──(f(x, y))\n",
       "        ∂x                    ∂x         "
      ]
     },
     "execution_count": 13,
     "metadata": {},
     "output_type": "execute_result"
    }
   ],
   "source": [
    "f = Function('f')(x, y)\n",
    "g = Function('g')(x, y)\n",
    "\n",
    "(f*g).diff(x)"
   ]
  },
  {
   "cell_type": "code",
   "execution_count": 17,
   "metadata": {},
   "outputs": [
    {
     "data": {
      "text/latex": [
       "$\\displaystyle f{\\left(x,y \\right)} \\frac{\\partial}{\\partial x} g{\\left(x,y \\right)} + f{\\left(x,y \\right)} + g{\\left(x,y \\right)} \\frac{\\partial}{\\partial x} f{\\left(x,y \\right)}$"
      ],
      "text/plain": [
       "        ∂                               ∂          \n",
       "f(x, y)⋅──(g(x, y)) + f(x, y) + g(x, y)⋅──(f(x, y))\n",
       "        ∂x                              ∂x         "
      ]
     },
     "execution_count": 17,
     "metadata": {},
     "output_type": "execute_result"
    }
   ],
   "source": [
    "expr_3 = f + (f*g).diff(x)\n",
    "expr_3"
   ]
  },
  {
   "cell_type": "code",
   "execution_count": 19,
   "metadata": {},
   "outputs": [
    {
     "data": {
      "text/latex": [
       "$\\displaystyle \\left[ - \\frac{\\left(\\frac{\\partial}{\\partial x} g{\\left(x,y \\right)} + 1\\right) f{\\left(x,y \\right)}}{g{\\left(x,y \\right)}}\\right]$"
      ],
      "text/plain": [
       "⎡ ⎛∂              ⎞         ⎤\n",
       "⎢-⎜──(g(x, y)) + 1⎟⋅f(x, y) ⎥\n",
       "⎢ ⎝∂x             ⎠         ⎥\n",
       "⎢───────────────────────────⎥\n",
       "⎣          g(x, y)          ⎦"
      ]
     },
     "execution_count": 19,
     "metadata": {},
     "output_type": "execute_result"
    }
   ],
   "source": [
    "solve(expr_3, f.diff(x))"
   ]
  },
  {
   "cell_type": "code",
   "execution_count": 20,
   "metadata": {},
   "outputs": [
    {
     "data": {
      "text/latex": [
       "$\\displaystyle a_{b}$"
      ],
      "text/plain": [
       "a_b"
      ]
     },
     "execution_count": 20,
     "metadata": {},
     "output_type": "execute_result"
    }
   ],
   "source": [
    "a_b = symbols('a_b')\n",
    "a_b"
   ]
=======
   ],
   "metadata": {
    "collapsed": false,
    "pycharm": {
     "name": "#%%\n",
     "is_executing": false
    }
   }
>>>>>>> origin/master
  }
 ],
 "metadata": {
  "kernelspec": {
<<<<<<< HEAD
   "display_name": "PyCharm (MC_simulation)",
   "language": "python",
   "name": "pycharm-55ed0cc"
=======
   "name": "pycharm-55ed0cc",
   "language": "python",
   "display_name": "PyCharm (MC_simulation)"
>>>>>>> origin/master
  },
  "language_info": {
   "codemirror_mode": {
    "name": "ipython",
<<<<<<< HEAD
    "version": 3
=======
    "version": 2
>>>>>>> origin/master
   },
   "file_extension": ".py",
   "mimetype": "text/x-python",
   "name": "python",
   "nbconvert_exporter": "python",
<<<<<<< HEAD
   "pygments_lexer": "ipython3",
   "version": "3.7.6"
=======
   "pygments_lexer": "ipython2",
   "version": "2.7.6"
>>>>>>> origin/master
  },
  "pycharm": {
   "stem_cell": {
    "cell_type": "raw",
<<<<<<< HEAD
    "metadata": {
     "collapsed": false
    },
    "source": []
=======
    "source": [],
    "metadata": {
     "collapsed": false
    }
>>>>>>> origin/master
   }
  }
 },
 "nbformat": 4,
<<<<<<< HEAD
 "nbformat_minor": 1
}
=======
 "nbformat_minor": 0
}
>>>>>>> origin/master
