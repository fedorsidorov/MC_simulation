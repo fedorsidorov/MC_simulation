{
 "cells": [
  {
   "cell_type": "code",
   "execution_count": 1,
   "metadata": {
    "pycharm": {
     "is_executing": false
    }
   },
   "outputs": [
    {
     "ename": "NameError",
     "evalue": "name 'M1' is not defined",
     "output_type": "error",
     "traceback": [
      "\u001b[0;31m---------------------------------------------------------------------------\u001b[0m",
      "\u001b[0;31mNameError\u001b[0m                                 Traceback (most recent call last)",
      "\u001b[0;32m<ipython-input-1-fb3d1413622d>\u001b[0m in \u001b[0;36m<module>\u001b[0;34m\u001b[0m\n\u001b[1;32m      7\u001b[0m \u001b[0mM1w_p\u001b[0m\u001b[0;34m,\u001b[0m \u001b[0myw_p\u001b[0m\u001b[0;34m,\u001b[0m \u001b[0mz_p\u001b[0m \u001b[0;34m=\u001b[0m \u001b[0msp\u001b[0m\u001b[0;34m.\u001b[0m\u001b[0msymbols\u001b[0m\u001b[0;34m(\u001b[0m\u001b[0;34mr'\\tilde{M_1}^\\prime \\tilde{y}^\\prime z^\\prime'\u001b[0m\u001b[0;34m)\u001b[0m\u001b[0;34m\u001b[0m\u001b[0;34m\u001b[0m\u001b[0m\n\u001b[1;32m      8\u001b[0m \u001b[0;34m\u001b[0m\u001b[0m\n\u001b[0;32m----> 9\u001b[0;31m \u001b[0mM0\u001b[0m \u001b[0;34m=\u001b[0m \u001b[0mM1\u001b[0m \u001b[0;34m/\u001b[0m \u001b[0;34m(\u001b[0m\u001b[0myw\u001b[0m \u001b[0;34m*\u001b[0m \u001b[0;34m(\u001b[0m\u001b[0mz\u001b[0m\u001b[0;34m+\u001b[0m\u001b[0;36m1\u001b[0m\u001b[0;34m)\u001b[0m\u001b[0;34m)\u001b[0m\u001b[0;34m\u001b[0m\u001b[0;34m\u001b[0m\u001b[0m\n\u001b[0m",
      "\u001b[0;31mNameError\u001b[0m: name 'M1' is not defined"
     ]
    }
   ],
   "source": [
    "import sympy as sp\n",
    "\n",
    "sp.init_printing(use_latex='mathjax')\n",
    "\n",
    "gw = sp.Symbol(r'\\tilde{\\gamma}')\n",
    "M1w, yw, z = sp.symbols(r'\\tilde{M_1} \\tilde{y} z')\n",
    "M1w_p, yw_p, z_p = sp.symbols(r'\\tilde{M_1}^\\prime \\tilde{y}^\\prime z^\\prime')\n",
    "\n",
    "M0 = M1 / (yw * (z+1))"
   ]
  },
  {
   "cell_type": "code",
   "execution_count": 2,
   "metadata": {},
   "outputs": [
    {
     "data": {
      "text/latex": [
       "$\\displaystyle \\frac{\\tilde{M_1}^\\prime}{\\tilde{M_1}} = \\frac{- \\tilde{y} \\left(z + 1\\right) + \\frac{z^\\prime}{z + 1} + \\frac{\\tilde{y}^\\prime}{\\tilde{y}}}{\\tilde{\\gamma} \\tilde{y} \\left(z + 1\\right) + 1}$"
      ],
      "text/plain": [
       "                                       z__\\′   \\tilde{y}__\\′\n",
       "                  -\\tilde{y}⋅(z + 1) + ───── + ─────────────\n",
       "\\tilde{M_1}__\\′                        z + 1     \\tilde{y}  \n",
       "─────────────── = ──────────────────────────────────────────\n",
       "  \\tilde{M_1}        \\tilde{\\gamma}⋅\\tilde{y}⋅(z + 1) + 1   "
      ]
     },
     "execution_count": 2,
     "metadata": {},
     "output_type": "execute_result"
    }
   ],
   "source": [
    "eq_1 = sp.Eq(\n",
    "    M1w_p / M1w,\n",
    "    (yw_p / yw + z_p / (z + 1) + yw**2 * (z + 1) * (z + 2) * gw - yw * (z+1)) / (1 + yw * gw * (z + 1))\n",
    ")\n",
    "\n",
    "eq_1_easy = sp.Eq(\n",
    "    M1w_p / M1w,\n",
    "    (yw_p / yw + z_p / (z + 1) - yw * (z+1)) / (1 + yw * gw * (z + 1))\n",
    ")\n",
    "\n",
    "eq_1_easy"
   ]
  },
  {
   "cell_type": "code",
   "execution_count": 131,
   "metadata": {},
   "outputs": [
    {
     "data": {
      "text/latex": [
       "$\\displaystyle \\frac{\\tilde{y} z^\\prime}{z + 2} + \\tilde{y}^\\prime + \\frac{\\tilde{M_1}^\\prime \\tilde{y}}{\\tilde{M_1}} = \\frac{- 2 \\tilde{y} - \\frac{2 \\tilde{M_1}^\\prime}{\\tilde{M_1}}}{\\tilde{\\gamma}}$"
      ],
      "text/plain": [
       "                                                                             2\n",
       "                                                              -2⋅\\tilde{y} - ─\n",
       "\\tilde{y}⋅z__\\′                   \\tilde{M_1}__\\′⋅\\tilde{y}                   \n",
       "─────────────── + \\tilde{y}__\\′ + ───────────────────────── = ────────────────\n",
       "     z + 2                               \\tilde{M_1}                   \\tilde{\n",
       "\n",
       "⋅\\tilde{M_1}__\\′\n",
       "────────────────\n",
       "  \\tilde{M_1}   \n",
       "────────────────\n",
       "\\gamma}         "
      ]
     },
     "execution_count": 131,
     "metadata": {},
     "output_type": "execute_result"
    }
   ],
   "source": [
    "eq_2 = sp.Eq(\n",
    "    M1w_p / M1w * yw + yw_p + yw * z_p / (z + 2),\n",
    "    -yw**2 * (z + 3) / 3 - (yw + M1w_p / M1w) * 2 / gw\n",
    ")\n",
    "\n",
    "eq_2_easy = sp.Eq(\n",
    "    M1w_p / M1w * yw + yw_p + yw * z_p / (z + 2),\n",
    "    - (yw + M1w_p / M1w) * 2 / gw\n",
    ")\n",
    "\n",
    "eq_2_easy"
   ]
  },
  {
   "cell_type": "code",
   "execution_count": 132,
   "metadata": {},
   "outputs": [
    {
     "data": {
      "text/latex": [
       "$\\displaystyle \\frac{\\tilde{y}^{2} \\left(2 z + 5\\right)}{z + 2} + \\tilde{y} \\tilde{y}^\\prime \\left(2 z + 6\\right) + \\frac{\\tilde{M_1}^\\prime \\tilde{y}^{2} \\left(z + 3\\right)}{\\tilde{M_1}} = - \\frac{3 \\left(\\tilde{y}^{2} \\left(z + 3\\right) + \\frac{\\tilde{y} z^\\prime}{z + 2} + \\tilde{y}^\\prime + \\frac{\\tilde{M_1}^\\prime \\tilde{y}}{\\tilde{M_1}}\\right)}{\\tilde{\\gamma}}$"
      ],
      "text/plain": [
       "                                                                              \n",
       "         2                                                                    \n",
       "\\tilde{y} ⋅(2⋅z + 5)                                       \\tilde{M_1}__\\′⋅\\ti\n",
       "──────────────────── + \\tilde{y}⋅\\tilde{y}__\\′⋅(2⋅z + 6) + ───────────────────\n",
       "       z + 2                                                          \\tilde{M\n",
       "\n",
       "                     ⎛         2           \\tilde{y}⋅z__\\′                   \\\n",
       "      2           -3⋅⎜\\tilde{y} ⋅(z + 3) + ─────────────── + \\tilde{y}__\\′ + ─\n",
       "lde{y} ⋅(z + 3)      ⎝                          z + 2                         \n",
       "─────────────── = ────────────────────────────────────────────────────────────\n",
       "_1}                                                   \\tilde{\\gamma}          \n",
       "\n",
       "tilde{M_1}__\\′⋅\\tilde{y}⎞ \n",
       "────────────────────────⎟ \n",
       "      \\tilde{M_1}       ⎠ \n",
       "──────────────────────────\n",
       "                          "
      ]
     },
     "execution_count": 132,
     "metadata": {},
     "output_type": "execute_result"
    }
   ],
   "source": [
    "eq_3 = sp.Eq(\n",
    "    M1w_p / M1w * yw**2 * (z + 3) + (2*z + 5) * yw**2 / (z + 2) + (z + 3) * 2 * yw * yw_p,\n",
    "    -yw**3 * (z + 3) * (z + 4) / 2 - 3 / gw * ((z + 3) * yw**2 + M1w_p / M1w * yw + yw_p + yw * z_p / (z + 2))\n",
    ")\n",
    "\n",
    "eq_3_easy = sp.Eq(\n",
    "    M1w_p / M1w * yw**2 * (z + 3) + (2*z + 5) * yw**2 / (z + 2) + (z + 3) * 2 * yw * yw_p,\n",
    "    - 3 / gw * ((z + 3) * yw**2 + M1w_p / M1w * yw + yw_p + yw * z_p / (z + 2))\n",
    ")\n",
    "\n",
    "eq_3_easy"
   ]
  },
  {
   "cell_type": "code",
   "execution_count": 156,
   "metadata": {},
   "outputs": [
    {
     "data": {
      "text/latex": [
       "$\\displaystyle \\left\\{ \\tilde{M_1}^\\prime : \\frac{\\tilde{M_1} \\tilde{y} \\left(12 \\tilde{\\gamma}^{3} \\tilde{y}^{3} z^{5} + 108 \\tilde{\\gamma}^{3} \\tilde{y}^{3} z^{4} + 372 \\tilde{\\gamma}^{3} \\tilde{y}^{3} z^{3} + 612 \\tilde{\\gamma}^{3} \\tilde{y}^{3} z^{2} + 480 \\tilde{\\gamma}^{3} \\tilde{y}^{3} z + 144 \\tilde{\\gamma}^{3} \\tilde{y}^{3} - 16 \\tilde{\\gamma}^{2} \\tilde{y}^{2} z^{4} - 121 \\tilde{\\gamma}^{2} \\tilde{y}^{2} z^{3} - 325 \\tilde{\\gamma}^{2} \\tilde{y}^{2} z^{2} - 366 \\tilde{\\gamma}^{2} \\tilde{y}^{2} z - 144 \\tilde{\\gamma}^{2} \\tilde{y}^{2} + 12 \\tilde{\\gamma}^{2} \\tilde{y} z + 30 \\tilde{\\gamma}^{2} \\tilde{y} - 24 \\tilde{\\gamma} \\tilde{y} z^{3} - 156 \\tilde{\\gamma} \\tilde{y} z^{2} - 324 \\tilde{\\gamma} \\tilde{y} z - 216 \\tilde{\\gamma} \\tilde{y} - 36 z - 72\\right)}{6 \\left(2 \\tilde{\\gamma}^{3} \\tilde{y}^{3} z^{4} + 14 \\tilde{\\gamma}^{3} \\tilde{y}^{3} z^{3} + 34 \\tilde{\\gamma}^{3} \\tilde{y}^{3} z^{2} + 34 \\tilde{\\gamma}^{3} \\tilde{y}^{3} z + 12 \\tilde{\\gamma}^{3} \\tilde{y}^{3} + 4 \\tilde{\\gamma}^{2} \\tilde{y}^{2} z^{3} + 25 \\tilde{\\gamma}^{2} \\tilde{y}^{2} z^{2} + 49 \\tilde{\\gamma}^{2} \\tilde{y}^{2} z + 30 \\tilde{\\gamma}^{2} \\tilde{y}^{2} + 4 \\tilde{\\gamma} \\tilde{y} z^{3} + 28 \\tilde{\\gamma} \\tilde{y} z^{2} + 64 \\tilde{\\gamma} \\tilde{y} z + 48 \\tilde{\\gamma} \\tilde{y} + 6 z + 12\\right)}, \\  \\tilde{y}^\\prime : - \\frac{\\tilde{y}^{2} \\left(9 \\tilde{\\gamma}^{3} \\tilde{y}^{3} z^{5} + 87 \\tilde{\\gamma}^{3} \\tilde{y}^{3} z^{4} + 321 \\tilde{\\gamma}^{3} \\tilde{y}^{3} z^{3} + 561 \\tilde{\\gamma}^{3} \\tilde{y}^{3} z^{2} + 462 \\tilde{\\gamma}^{3} \\tilde{y}^{3} z + 144 \\tilde{\\gamma}^{3} \\tilde{y}^{3} + 12 \\tilde{\\gamma}^{3} \\tilde{y}^{2} z^{3} + 54 \\tilde{\\gamma}^{3} \\tilde{y}^{2} z^{2} + 72 \\tilde{\\gamma}^{3} \\tilde{y}^{2} z + 30 \\tilde{\\gamma}^{3} \\tilde{y}^{2} + 10 \\tilde{\\gamma}^{2} \\tilde{y}^{2} z^{4} + 85 \\tilde{\\gamma}^{2} \\tilde{y}^{2} z^{3} + 265 \\tilde{\\gamma}^{2} \\tilde{y}^{2} z^{2} + 360 \\tilde{\\gamma}^{2} \\tilde{y}^{2} z + 180 \\tilde{\\gamma}^{2} \\tilde{y}^{2} + 24 \\tilde{\\gamma}^{2} \\tilde{y} z^{2} + 96 \\tilde{\\gamma}^{2} \\tilde{y} z + 90 \\tilde{\\gamma}^{2} \\tilde{y} - 30 \\tilde{\\gamma} \\tilde{y} z^{4} - 174 \\tilde{\\gamma} \\tilde{y} z^{3} - 276 \\tilde{\\gamma} \\tilde{y} z^{2} - 24 \\tilde{\\gamma} \\tilde{y} z + 144 \\tilde{\\gamma} \\tilde{y} + 24 \\tilde{\\gamma} z^{2} + 108 \\tilde{\\gamma} z + 120 \\tilde{\\gamma} + 72 z^{3} + 324 z^{2} + 504 z + 288\\right)}{12 \\tilde{\\gamma}^{3} \\tilde{y}^{3} z^{4} + 84 \\tilde{\\gamma}^{3} \\tilde{y}^{3} z^{3} + 204 \\tilde{\\gamma}^{3} \\tilde{y}^{3} z^{2} + 204 \\tilde{\\gamma}^{3} \\tilde{y}^{3} z + 72 \\tilde{\\gamma}^{3} \\tilde{y}^{3} + 24 \\tilde{\\gamma}^{2} \\tilde{y}^{2} z^{3} + 150 \\tilde{\\gamma}^{2} \\tilde{y}^{2} z^{2} + 294 \\tilde{\\gamma}^{2} \\tilde{y}^{2} z + 180 \\tilde{\\gamma}^{2} \\tilde{y}^{2} + 24 \\tilde{\\gamma} \\tilde{y} z^{3} + 168 \\tilde{\\gamma} \\tilde{y} z^{2} + 384 \\tilde{\\gamma} \\tilde{y} z + 288 \\tilde{\\gamma} \\tilde{y} + 36 z + 72}, \\  z^\\prime : - \\frac{\\tilde{y} \\left(7 \\tilde{\\gamma}^{3} \\tilde{y}^{3} z^{5} + 61 \\tilde{\\gamma}^{3} \\tilde{y}^{3} z^{4} + 203 \\tilde{\\gamma}^{3} \\tilde{y}^{3} z^{3} + 323 \\tilde{\\gamma}^{3} \\tilde{y}^{3} z^{2} + 246 \\tilde{\\gamma}^{3} \\tilde{y}^{3} z + 72 \\tilde{\\gamma}^{3} \\tilde{y}^{3} - 12 \\tilde{\\gamma}^{3} \\tilde{y}^{2} z^{3} - 54 \\tilde{\\gamma}^{3} \\tilde{y}^{2} z^{2} - 72 \\tilde{\\gamma}^{3} \\tilde{y}^{2} z - 30 \\tilde{\\gamma}^{3} \\tilde{y}^{2} + 24 \\tilde{\\gamma}^{2} \\tilde{y}^{2} z^{5} + 222 \\tilde{\\gamma}^{2} \\tilde{y}^{2} z^{4} + 780 \\tilde{\\gamma}^{2} \\tilde{y}^{2} z^{3} + 1290 \\tilde{\\gamma}^{2} \\tilde{y}^{2} z^{2} + 996 \\tilde{\\gamma}^{2} \\tilde{y}^{2} z + 288 \\tilde{\\gamma}^{2} \\tilde{y}^{2} - 24 \\tilde{\\gamma}^{2} \\tilde{y} z^{2} - 84 \\tilde{\\gamma}^{2} \\tilde{y} z - 60 \\tilde{\\gamma}^{2} \\tilde{y} + 6 \\tilde{\\gamma} \\tilde{y} z^{4} + 36 \\tilde{\\gamma} \\tilde{y} z^{3} + 66 \\tilde{\\gamma} \\tilde{y} z^{2} + 36 \\tilde{\\gamma} \\tilde{y} z - 24 \\tilde{\\gamma} z^{2} - 84 \\tilde{\\gamma} z - 60 \\tilde{\\gamma} - 72 z^{3} - 288 z^{2} - 360 z - 144\\right)}{12 \\tilde{\\gamma}^{3} \\tilde{y}^{3} z^{3} + 60 \\tilde{\\gamma}^{3} \\tilde{y}^{3} z^{2} + 84 \\tilde{\\gamma}^{3} \\tilde{y}^{3} z + 36 \\tilde{\\gamma}^{3} \\tilde{y}^{3} + 24 \\tilde{\\gamma}^{2} \\tilde{y}^{2} z^{2} + 102 \\tilde{\\gamma}^{2} \\tilde{y}^{2} z + 90 \\tilde{\\gamma}^{2} \\tilde{y}^{2} + 24 \\tilde{\\gamma} \\tilde{y} z^{2} + 120 \\tilde{\\gamma} \\tilde{y} z + 144 \\tilde{\\gamma} \\tilde{y} + 36}\\right\\}$"
      ],
      "text/plain": [
       "⎧                                       ⎛                 3          3  5     \n",
       "⎪                 \\tilde{M_1}⋅\\tilde{y}⋅⎝12⋅\\tilde{\\gamma} ⋅\\tilde{y} ⋅z  + 10\n",
       "⎨\\tilde{M_1}__\\′: ────────────────────────────────────────────────────────────\n",
       "⎪                                                                             \n",
       "⎩                                                                             \n",
       "\n",
       "                3          3  4                     3          3  3           \n",
       "8⋅\\tilde{\\gamma} ⋅\\tilde{y} ⋅z  + 372⋅\\tilde{\\gamma} ⋅\\tilde{y} ⋅z  + 612⋅\\til\n",
       "──────────────────────────────────────────────────────────────────────────────\n",
       "                           ⎛                3          3  4                   \n",
       "                         6⋅⎝2⋅\\tilde{\\gamma} ⋅\\tilde{y} ⋅z  + 14⋅\\tilde{\\gamma\n",
       "\n",
       "          3          3  2                     3          3                    \n",
       "de{\\gamma} ⋅\\tilde{y} ⋅z  + 480⋅\\tilde{\\gamma} ⋅\\tilde{y} ⋅z + 144⋅\\tilde{\\gam\n",
       "──────────────────────────────────────────────────────────────────────────────\n",
       " 3          3  3                    3          3  2                    3      \n",
       "} ⋅\\tilde{y} ⋅z  + 34⋅\\tilde{\\gamma} ⋅\\tilde{y} ⋅z  + 34⋅\\tilde{\\gamma} ⋅\\tild\n",
       "\n",
       "   3          3                    2          2  4                     2      \n",
       "ma} ⋅\\tilde{y}  - 16⋅\\tilde{\\gamma} ⋅\\tilde{y} ⋅z  - 121⋅\\tilde{\\gamma} ⋅\\tild\n",
       "──────────────────────────────────────────────────────────────────────────────\n",
       "    3                      3          3                   2          2  3     \n",
       "e{y} ⋅z + 12⋅\\tilde{\\gamma} ⋅\\tilde{y}  + 4⋅\\tilde{\\gamma} ⋅\\tilde{y} ⋅z  + 25\n",
       "\n",
       "    2  3                     2          2  2                     2          2 \n",
       "e{y} ⋅z  - 325⋅\\tilde{\\gamma} ⋅\\tilde{y} ⋅z  - 366⋅\\tilde{\\gamma} ⋅\\tilde{y} ⋅\n",
       "──────────────────────────────────────────────────────────────────────────────\n",
       "               2          2  2                    2          2                \n",
       "⋅\\tilde{\\gamma} ⋅\\tilde{y} ⋅z  + 49⋅\\tilde{\\gamma} ⋅\\tilde{y} ⋅z + 30⋅\\tilde{\\\n",
       "\n",
       "                      2          2                    2                       \n",
       "z - 144⋅\\tilde{\\gamma} ⋅\\tilde{y}  + 12⋅\\tilde{\\gamma} ⋅\\tilde{y}⋅z + 30⋅\\tild\n",
       "──────────────────────────────────────────────────────────────────────────────\n",
       "      2          2                               3                            \n",
       "gamma} ⋅\\tilde{y}  + 4⋅\\tilde{\\gamma}⋅\\tilde{y}⋅z  + 28⋅\\tilde{\\gamma}⋅\\tilde{\n",
       "\n",
       "         2                                          3                         \n",
       "e{\\gamma} ⋅\\tilde{y} - 24⋅\\tilde{\\gamma}⋅\\tilde{y}⋅z  - 156⋅\\tilde{\\gamma}⋅\\ti\n",
       "──────────────────────────────────────────────────────────────────────────────\n",
       "    2                                                                         \n",
       "y}⋅z  + 64⋅\\tilde{\\gamma}⋅\\tilde{y}⋅z + 48⋅\\tilde{\\gamma}⋅\\tilde{y} + 6⋅z + 12\n",
       "\n",
       "        2                                                                     \n",
       "lde{y}⋅z  - 324⋅\\tilde{\\gamma}⋅\\tilde{y}⋅z - 216⋅\\tilde{\\gamma}⋅\\tilde{y} - 36\n",
       "──────────────────────────────────────────────────────────────────────────────\n",
       "⎞                                                                             \n",
       "⎠                                                                             \n",
       "\n",
       "       ⎞                           2 ⎛                3          3  5         \n",
       "⋅z - 72⎠                 -\\tilde{y} ⋅⎝9⋅\\tilde{\\gamma} ⋅\\tilde{y} ⋅z  + 87⋅\\ti\n",
       "────────, \\tilde{y}__\\′: ─────────────────────────────────────────────────────\n",
       "                                                                              \n",
       "                                                                              \n",
       "\n",
       "           3          3  4                     3          3  3                \n",
       "lde{\\gamma} ⋅\\tilde{y} ⋅z  + 321⋅\\tilde{\\gamma} ⋅\\tilde{y} ⋅z  + 561⋅\\tilde{\\g\n",
       "──────────────────────────────────────────────────────────────────────────────\n",
       "                                                                              \n",
       "                                                                              \n",
       "\n",
       "     3          3  2                     3          3                       3 \n",
       "amma} ⋅\\tilde{y} ⋅z  + 462⋅\\tilde{\\gamma} ⋅\\tilde{y} ⋅z + 144⋅\\tilde{\\gamma} ⋅\n",
       "──────────────────────────────────────────────────────────────────────────────\n",
       "                                                                              \n",
       "                                                                              \n",
       "\n",
       "         3                    3          2  3                    3          2 \n",
       "\\tilde{y}  + 12⋅\\tilde{\\gamma} ⋅\\tilde{y} ⋅z  + 54⋅\\tilde{\\gamma} ⋅\\tilde{y} ⋅\n",
       "──────────────────────────────────────────────────────────────────────────────\n",
       "                            3          3  4                    3          3  3\n",
       "           12⋅\\tilde{\\gamma} ⋅\\tilde{y} ⋅z  + 84⋅\\tilde{\\gamma} ⋅\\tilde{y} ⋅z \n",
       "\n",
       " 2                    3          2                      3          2          \n",
       "z  + 72⋅\\tilde{\\gamma} ⋅\\tilde{y} ⋅z + 30⋅\\tilde{\\gamma} ⋅\\tilde{y}  + 10⋅\\til\n",
       "──────────────────────────────────────────────────────────────────────────────\n",
       "                     3          3  2                     3          3         \n",
       " + 204⋅\\tilde{\\gamma} ⋅\\tilde{y} ⋅z  + 204⋅\\tilde{\\gamma} ⋅\\tilde{y} ⋅z + 72⋅\\\n",
       "\n",
       "          2          2  4                    2          2  3                  \n",
       "de{\\gamma} ⋅\\tilde{y} ⋅z  + 85⋅\\tilde{\\gamma} ⋅\\tilde{y} ⋅z  + 265⋅\\tilde{\\gam\n",
       "──────────────────────────────────────────────────────────────────────────────\n",
       "             3          3                    2          2  3                  \n",
       "tilde{\\gamma} ⋅\\tilde{y}  + 24⋅\\tilde{\\gamma} ⋅\\tilde{y} ⋅z  + 150⋅\\tilde{\\gam\n",
       "\n",
       "   2          2  2                     2          2                       2   \n",
       "ma} ⋅\\tilde{y} ⋅z  + 360⋅\\tilde{\\gamma} ⋅\\tilde{y} ⋅z + 180⋅\\tilde{\\gamma} ⋅\\t\n",
       "──────────────────────────────────────────────────────────────────────────────\n",
       "   2          2  2                     2          2                       2   \n",
       "ma} ⋅\\tilde{y} ⋅z  + 294⋅\\tilde{\\gamma} ⋅\\tilde{y} ⋅z + 180⋅\\tilde{\\gamma} ⋅\\t\n",
       "\n",
       "       2                    2            2                    2               \n",
       "ilde{y}  + 24⋅\\tilde{\\gamma} ⋅\\tilde{y}⋅z  + 96⋅\\tilde{\\gamma} ⋅\\tilde{y}⋅z + \n",
       "──────────────────────────────────────────────────────────────────────────────\n",
       "       2                                3                                 2   \n",
       "ilde{y}  + 24⋅\\tilde{\\gamma}⋅\\tilde{y}⋅z  + 168⋅\\tilde{\\gamma}⋅\\tilde{y}⋅z  + \n",
       "\n",
       "                 2                                          4                 \n",
       "90⋅\\tilde{\\gamma} ⋅\\tilde{y} - 30⋅\\tilde{\\gamma}⋅\\tilde{y}⋅z  - 174⋅\\tilde{\\ga\n",
       "──────────────────────────────────────────────────────────────────────────────\n",
       "                                                                              \n",
       "384⋅\\tilde{\\gamma}⋅\\tilde{y}⋅z + 288⋅\\tilde{\\gamma}⋅\\tilde{y} + 36⋅z + 72     \n",
       "\n",
       "                3                                 2                           \n",
       "mma}⋅\\tilde{y}⋅z  - 276⋅\\tilde{\\gamma}⋅\\tilde{y}⋅z  - 24⋅\\tilde{\\gamma}⋅\\tilde\n",
       "──────────────────────────────────────────────────────────────────────────────\n",
       "                                                                              \n",
       "                                                                              \n",
       "\n",
       "                                                          2                   \n",
       "{y}⋅z + 144⋅\\tilde{\\gamma}⋅\\tilde{y} + 24⋅\\tilde{\\gamma}⋅z  + 108⋅\\tilde{\\gamm\n",
       "──────────────────────────────────────────────────────────────────────────────\n",
       "                                                                              \n",
       "                                                                              \n",
       "\n",
       "                                3        2              ⎞                     \n",
       "a}⋅z + 120⋅\\tilde{\\gamma} + 72⋅z  + 324⋅z  + 504⋅z + 288⎠          -\\tilde{y}⋅\n",
       "──────────────────────────────────────────────────────────, z__\\′: ───────────\n",
       "                                                                              \n",
       "                                                                              \n",
       "\n",
       "⎛                3          3  5                    3          3  4           \n",
       "⎝7⋅\\tilde{\\gamma} ⋅\\tilde{y} ⋅z  + 61⋅\\tilde{\\gamma} ⋅\\tilde{y} ⋅z  + 203⋅\\til\n",
       "──────────────────────────────────────────────────────────────────────────────\n",
       "                                                                              \n",
       "                                                                              \n",
       "\n",
       "          3          3  3                     3          3  2                 \n",
       "de{\\gamma} ⋅\\tilde{y} ⋅z  + 323⋅\\tilde{\\gamma} ⋅\\tilde{y} ⋅z  + 246⋅\\tilde{\\ga\n",
       "──────────────────────────────────────────────────────────────────────────────\n",
       "                                                                              \n",
       "                                                                              \n",
       "\n",
       "    3          3                      3          3                    3       \n",
       "mma} ⋅\\tilde{y} ⋅z + 72⋅\\tilde{\\gamma} ⋅\\tilde{y}  - 12⋅\\tilde{\\gamma} ⋅\\tilde\n",
       "──────────────────────────────────────────────────────────────────────────────\n",
       "                                                                              \n",
       "                                                                              \n",
       "\n",
       "   2  3                    3          2  2                    3          2    \n",
       "{y} ⋅z  - 54⋅\\tilde{\\gamma} ⋅\\tilde{y} ⋅z  - 72⋅\\tilde{\\gamma} ⋅\\tilde{y} ⋅z -\n",
       "──────────────────────────────────────────────────────────────────────────────\n",
       "                                                 3          3  3              \n",
       "                                12⋅\\tilde{\\gamma} ⋅\\tilde{y} ⋅z  + 60⋅\\tilde{\\\n",
       "\n",
       "                  3          2                    2          2  5             \n",
       " 30⋅\\tilde{\\gamma} ⋅\\tilde{y}  + 24⋅\\tilde{\\gamma} ⋅\\tilde{y} ⋅z  + 222⋅\\tilde\n",
       "──────────────────────────────────────────────────────────────────────────────\n",
       "      3          3  2                    3          3                      3  \n",
       "gamma} ⋅\\tilde{y} ⋅z  + 84⋅\\tilde{\\gamma} ⋅\\tilde{y} ⋅z + 36⋅\\tilde{\\gamma} ⋅\\\n",
       "\n",
       "        2          2  4                     2          2  3                   \n",
       "{\\gamma} ⋅\\tilde{y} ⋅z  + 780⋅\\tilde{\\gamma} ⋅\\tilde{y} ⋅z  + 1290⋅\\tilde{\\gam\n",
       "──────────────────────────────────────────────────────────────────────────────\n",
       "        3                    2          2  2                     2          2 \n",
       "tilde{y}  + 24⋅\\tilde{\\gamma} ⋅\\tilde{y} ⋅z  + 102⋅\\tilde{\\gamma} ⋅\\tilde{y} ⋅\n",
       "\n",
       "   2          2  2                     2          2                       2   \n",
       "ma} ⋅\\tilde{y} ⋅z  + 996⋅\\tilde{\\gamma} ⋅\\tilde{y} ⋅z + 288⋅\\tilde{\\gamma} ⋅\\t\n",
       "──────────────────────────────────────────────────────────────────────────────\n",
       "                     2          2                                2            \n",
       "z + 90⋅\\tilde{\\gamma} ⋅\\tilde{y}  + 24⋅\\tilde{\\gamma}⋅\\tilde{y}⋅z  + 120⋅\\tild\n",
       "\n",
       "       2                    2            2                    2               \n",
       "ilde{y}  - 24⋅\\tilde{\\gamma} ⋅\\tilde{y}⋅z  - 84⋅\\tilde{\\gamma} ⋅\\tilde{y}⋅z - \n",
       "──────────────────────────────────────────────────────────────────────────────\n",
       "                                                                              \n",
       "e{\\gamma}⋅\\tilde{y}⋅z + 144⋅\\tilde{\\gamma}⋅\\tilde{y} + 36                     \n",
       "\n",
       "                 2                                         4                  \n",
       "60⋅\\tilde{\\gamma} ⋅\\tilde{y} + 6⋅\\tilde{\\gamma}⋅\\tilde{y}⋅z  + 36⋅\\tilde{\\gamm\n",
       "──────────────────────────────────────────────────────────────────────────────\n",
       "                                                                              \n",
       "                                                                              \n",
       "\n",
       "              3                                2                              \n",
       "a}⋅\\tilde{y}⋅z  + 66⋅\\tilde{\\gamma}⋅\\tilde{y}⋅z  + 36⋅\\tilde{\\gamma}⋅\\tilde{y}\n",
       "──────────────────────────────────────────────────────────────────────────────\n",
       "                                                                              \n",
       "                                                                              \n",
       "\n",
       "                        2                                                 3   \n",
       "⋅z - 24⋅\\tilde{\\gamma}⋅z  - 84⋅\\tilde{\\gamma}⋅z - 60⋅\\tilde{\\gamma} - 72⋅z  - \n",
       "──────────────────────────────────────────────────────────────────────────────\n",
       "                                                                              \n",
       "                                                                              \n",
       "\n",
       "     2              ⎞ ⎫\n",
       "288⋅z  - 360⋅z - 144⎠ ⎪\n",
       "──────────────────────⎬\n",
       "                      ⎪\n",
       "                      ⎭"
      ]
     },
     "execution_count": 156,
     "metadata": {},
     "output_type": "execute_result"
    }
   ],
   "source": [
    "solution = sp.solve([eq_1, eq_2, eq_3], [M1w_p, yw_p, z_p])\n",
    "# solution = sp.solve([eq_1_easy, eq_2_easy, eq_3_easy], [M1w_p, yw_p, z_p])\n",
    "\n",
    "solution"
   ]
  },
  {
   "cell_type": "code",
   "execution_count": 152,
   "metadata": {},
   "outputs": [
    {
     "data": {
      "text/latex": [
       "$\\displaystyle \\frac{\\tilde{M_1} \\tilde{y} \\left(12 \\tilde{\\gamma}^{3} \\tilde{y}^{3} z^{5} + 108 \\tilde{\\gamma}^{3} \\tilde{y}^{3} z^{4} + 372 \\tilde{\\gamma}^{3} \\tilde{y}^{3} z^{3} + 612 \\tilde{\\gamma}^{3} \\tilde{y}^{3} z^{2} + 480 \\tilde{\\gamma}^{3} \\tilde{y}^{3} z + 144 \\tilde{\\gamma}^{3} \\tilde{y}^{3} - 16 \\tilde{\\gamma}^{2} \\tilde{y}^{2} z^{4} - 121 \\tilde{\\gamma}^{2} \\tilde{y}^{2} z^{3} - 325 \\tilde{\\gamma}^{2} \\tilde{y}^{2} z^{2} - 366 \\tilde{\\gamma}^{2} \\tilde{y}^{2} z - 144 \\tilde{\\gamma}^{2} \\tilde{y}^{2} + 12 \\tilde{\\gamma}^{2} \\tilde{y} z + 30 \\tilde{\\gamma}^{2} \\tilde{y} - 24 \\tilde{\\gamma} \\tilde{y} z^{3} - 156 \\tilde{\\gamma} \\tilde{y} z^{2} - 324 \\tilde{\\gamma} \\tilde{y} z - 216 \\tilde{\\gamma} \\tilde{y} - 36 z - 72\\right)}{6 \\left(2 \\tilde{\\gamma}^{3} \\tilde{y}^{3} z^{4} + 14 \\tilde{\\gamma}^{3} \\tilde{y}^{3} z^{3} + 34 \\tilde{\\gamma}^{3} \\tilde{y}^{3} z^{2} + 34 \\tilde{\\gamma}^{3} \\tilde{y}^{3} z + 12 \\tilde{\\gamma}^{3} \\tilde{y}^{3} + 4 \\tilde{\\gamma}^{2} \\tilde{y}^{2} z^{3} + 25 \\tilde{\\gamma}^{2} \\tilde{y}^{2} z^{2} + 49 \\tilde{\\gamma}^{2} \\tilde{y}^{2} z + 30 \\tilde{\\gamma}^{2} \\tilde{y}^{2} + 4 \\tilde{\\gamma} \\tilde{y} z^{3} + 28 \\tilde{\\gamma} \\tilde{y} z^{2} + 64 \\tilde{\\gamma} \\tilde{y} z + 48 \\tilde{\\gamma} \\tilde{y} + 6 z + 12\\right)}$"
      ],
      "text/plain": [
       "                      ⎛                 3          3  5                     3 \n",
       "\\tilde{M_1}⋅\\tilde{y}⋅⎝12⋅\\tilde{\\gamma} ⋅\\tilde{y} ⋅z  + 108⋅\\tilde{\\gamma} ⋅\n",
       "──────────────────────────────────────────────────────────────────────────────\n",
       "                                                                              \n",
       "                                                                              \n",
       "\n",
       "         3  4                     3          3  3                     3       \n",
       "\\tilde{y} ⋅z  + 372⋅\\tilde{\\gamma} ⋅\\tilde{y} ⋅z  + 612⋅\\tilde{\\gamma} ⋅\\tilde\n",
       "──────────────────────────────────────────────────────────────────────────────\n",
       "         ⎛                3          3  4                    3          3  3  \n",
       "       6⋅⎝2⋅\\tilde{\\gamma} ⋅\\tilde{y} ⋅z  + 14⋅\\tilde{\\gamma} ⋅\\tilde{y} ⋅z  +\n",
       "\n",
       "   3  2                     3          3                       3          3   \n",
       "{y} ⋅z  + 480⋅\\tilde{\\gamma} ⋅\\tilde{y} ⋅z + 144⋅\\tilde{\\gamma} ⋅\\tilde{y}  - \n",
       "──────────────────────────────────────────────────────────────────────────────\n",
       "                  3          3  2                    3          3             \n",
       " 34⋅\\tilde{\\gamma} ⋅\\tilde{y} ⋅z  + 34⋅\\tilde{\\gamma} ⋅\\tilde{y} ⋅z + 12⋅\\tild\n",
       "\n",
       "                 2          2  4                     2          2  3          \n",
       "16⋅\\tilde{\\gamma} ⋅\\tilde{y} ⋅z  - 121⋅\\tilde{\\gamma} ⋅\\tilde{y} ⋅z  - 325⋅\\ti\n",
       "──────────────────────────────────────────────────────────────────────────────\n",
       "         3          3                   2          2  3                    2  \n",
       "e{\\gamma} ⋅\\tilde{y}  + 4⋅\\tilde{\\gamma} ⋅\\tilde{y} ⋅z  + 25⋅\\tilde{\\gamma} ⋅\\\n",
       "\n",
       "           2          2  2                     2          2                   \n",
       "lde{\\gamma} ⋅\\tilde{y} ⋅z  - 366⋅\\tilde{\\gamma} ⋅\\tilde{y} ⋅z - 144⋅\\tilde{\\ga\n",
       "──────────────────────────────────────────────────────────────────────────────\n",
       "        2  2                    2          2                      2          2\n",
       "tilde{y} ⋅z  + 49⋅\\tilde{\\gamma} ⋅\\tilde{y} ⋅z + 30⋅\\tilde{\\gamma} ⋅\\tilde{y} \n",
       "\n",
       "    2          2                    2                                2        \n",
       "mma} ⋅\\tilde{y}  + 12⋅\\tilde{\\gamma} ⋅\\tilde{y}⋅z + 30⋅\\tilde{\\gamma} ⋅\\tilde{\n",
       "──────────────────────────────────────────────────────────────────────────────\n",
       "                               3                                2             \n",
       " + 4⋅\\tilde{\\gamma}⋅\\tilde{y}⋅z  + 28⋅\\tilde{\\gamma}⋅\\tilde{y}⋅z  + 64⋅\\tilde{\n",
       "\n",
       "                                  3                                 2         \n",
       "y} - 24⋅\\tilde{\\gamma}⋅\\tilde{y}⋅z  - 156⋅\\tilde{\\gamma}⋅\\tilde{y}⋅z  - 324⋅\\t\n",
       "──────────────────────────────────────────────────────────────────────────────\n",
       "                                                            ⎞                 \n",
       "\\gamma}⋅\\tilde{y}⋅z + 48⋅\\tilde{\\gamma}⋅\\tilde{y} + 6⋅z + 12⎠                 \n",
       "\n",
       "                                                                   ⎞\n",
       "ilde{\\gamma}⋅\\tilde{y}⋅z - 216⋅\\tilde{\\gamma}⋅\\tilde{y} - 36⋅z - 72⎠\n",
       "────────────────────────────────────────────────────────────────────\n",
       "                                                                    \n",
       "                                                                    "
      ]
     },
     "execution_count": 152,
     "metadata": {},
     "output_type": "execute_result"
    }
   ],
   "source": [
    "solution[M1w_p]"
   ]
  },
  {
   "cell_type": "code",
   "execution_count": 153,
   "metadata": {},
   "outputs": [
    {
     "data": {
      "text/latex": [
       "$\\displaystyle - \\frac{\\tilde{y}^{2} \\left(9 \\tilde{\\gamma}^{3} \\tilde{y}^{3} z^{5} + 87 \\tilde{\\gamma}^{3} \\tilde{y}^{3} z^{4} + 321 \\tilde{\\gamma}^{3} \\tilde{y}^{3} z^{3} + 561 \\tilde{\\gamma}^{3} \\tilde{y}^{3} z^{2} + 462 \\tilde{\\gamma}^{3} \\tilde{y}^{3} z + 144 \\tilde{\\gamma}^{3} \\tilde{y}^{3} + 12 \\tilde{\\gamma}^{3} \\tilde{y}^{2} z^{3} + 54 \\tilde{\\gamma}^{3} \\tilde{y}^{2} z^{2} + 72 \\tilde{\\gamma}^{3} \\tilde{y}^{2} z + 30 \\tilde{\\gamma}^{3} \\tilde{y}^{2} + 10 \\tilde{\\gamma}^{2} \\tilde{y}^{2} z^{4} + 85 \\tilde{\\gamma}^{2} \\tilde{y}^{2} z^{3} + 265 \\tilde{\\gamma}^{2} \\tilde{y}^{2} z^{2} + 360 \\tilde{\\gamma}^{2} \\tilde{y}^{2} z + 180 \\tilde{\\gamma}^{2} \\tilde{y}^{2} + 24 \\tilde{\\gamma}^{2} \\tilde{y} z^{2} + 96 \\tilde{\\gamma}^{2} \\tilde{y} z + 90 \\tilde{\\gamma}^{2} \\tilde{y} - 30 \\tilde{\\gamma} \\tilde{y} z^{4} - 174 \\tilde{\\gamma} \\tilde{y} z^{3} - 276 \\tilde{\\gamma} \\tilde{y} z^{2} - 24 \\tilde{\\gamma} \\tilde{y} z + 144 \\tilde{\\gamma} \\tilde{y} + 24 \\tilde{\\gamma} z^{2} + 108 \\tilde{\\gamma} z + 120 \\tilde{\\gamma} + 72 z^{3} + 324 z^{2} + 504 z + 288\\right)}{12 \\tilde{\\gamma}^{3} \\tilde{y}^{3} z^{4} + 84 \\tilde{\\gamma}^{3} \\tilde{y}^{3} z^{3} + 204 \\tilde{\\gamma}^{3} \\tilde{y}^{3} z^{2} + 204 \\tilde{\\gamma}^{3} \\tilde{y}^{3} z + 72 \\tilde{\\gamma}^{3} \\tilde{y}^{3} + 24 \\tilde{\\gamma}^{2} \\tilde{y}^{2} z^{3} + 150 \\tilde{\\gamma}^{2} \\tilde{y}^{2} z^{2} + 294 \\tilde{\\gamma}^{2} \\tilde{y}^{2} z + 180 \\tilde{\\gamma}^{2} \\tilde{y}^{2} + 24 \\tilde{\\gamma} \\tilde{y} z^{3} + 168 \\tilde{\\gamma} \\tilde{y} z^{2} + 384 \\tilde{\\gamma} \\tilde{y} z + 288 \\tilde{\\gamma} \\tilde{y} + 36 z + 72}$"
      ],
      "text/plain": [
       "          2 ⎛                3          3  5                    3          3  \n",
       "-\\tilde{y} ⋅⎝9⋅\\tilde{\\gamma} ⋅\\tilde{y} ⋅z  + 87⋅\\tilde{\\gamma} ⋅\\tilde{y} ⋅z\n",
       "──────────────────────────────────────────────────────────────────────────────\n",
       "                                                                              \n",
       "                                                                              \n",
       "\n",
       "4                     3          3  3                     3          3  2     \n",
       "  + 321⋅\\tilde{\\gamma} ⋅\\tilde{y} ⋅z  + 561⋅\\tilde{\\gamma} ⋅\\tilde{y} ⋅z  + 46\n",
       "──────────────────────────────────────────────────────────────────────────────\n",
       "                                                                              \n",
       "                                                                              \n",
       "\n",
       "                3          3                       3          3               \n",
       "2⋅\\tilde{\\gamma} ⋅\\tilde{y} ⋅z + 144⋅\\tilde{\\gamma} ⋅\\tilde{y}  + 12⋅\\tilde{\\g\n",
       "──────────────────────────────────────────────────────────────────────────────\n",
       "                                                                              \n",
       "                                                                12⋅\\tilde{\\gam\n",
       "\n",
       "     3          2  3                    3          2  2                    3  \n",
       "amma} ⋅\\tilde{y} ⋅z  + 54⋅\\tilde{\\gamma} ⋅\\tilde{y} ⋅z  + 72⋅\\tilde{\\gamma} ⋅\\\n",
       "──────────────────────────────────────────────────────────────────────────────\n",
       "   3          3  4                    3          3  3                     3   \n",
       "ma} ⋅\\tilde{y} ⋅z  + 84⋅\\tilde{\\gamma} ⋅\\tilde{y} ⋅z  + 204⋅\\tilde{\\gamma} ⋅\\t\n",
       "\n",
       "        2                      3          2                    2          2  4\n",
       "tilde{y} ⋅z + 30⋅\\tilde{\\gamma} ⋅\\tilde{y}  + 10⋅\\tilde{\\gamma} ⋅\\tilde{y} ⋅z \n",
       "──────────────────────────────────────────────────────────────────────────────\n",
       "       3  2                     3          3                      3          3\n",
       "ilde{y} ⋅z  + 204⋅\\tilde{\\gamma} ⋅\\tilde{y} ⋅z + 72⋅\\tilde{\\gamma} ⋅\\tilde{y} \n",
       "\n",
       "                    2          2  3                     2          2  2       \n",
       " + 85⋅\\tilde{\\gamma} ⋅\\tilde{y} ⋅z  + 265⋅\\tilde{\\gamma} ⋅\\tilde{y} ⋅z  + 360⋅\n",
       "──────────────────────────────────────────────────────────────────────────────\n",
       "                    2          2  3                     2          2  2       \n",
       " + 24⋅\\tilde{\\gamma} ⋅\\tilde{y} ⋅z  + 150⋅\\tilde{\\gamma} ⋅\\tilde{y} ⋅z  + 294⋅\n",
       "\n",
       "              2          2                       2          2                 \n",
       "\\tilde{\\gamma} ⋅\\tilde{y} ⋅z + 180⋅\\tilde{\\gamma} ⋅\\tilde{y}  + 24⋅\\tilde{\\gam\n",
       "──────────────────────────────────────────────────────────────────────────────\n",
       "              2          2                       2          2                 \n",
       "\\tilde{\\gamma} ⋅\\tilde{y} ⋅z + 180⋅\\tilde{\\gamma} ⋅\\tilde{y}  + 24⋅\\tilde{\\gam\n",
       "\n",
       "   2            2                    2                                2       \n",
       "ma} ⋅\\tilde{y}⋅z  + 96⋅\\tilde{\\gamma} ⋅\\tilde{y}⋅z + 90⋅\\tilde{\\gamma} ⋅\\tilde\n",
       "──────────────────────────────────────────────────────────────────────────────\n",
       "               3                                 2                            \n",
       "ma}⋅\\tilde{y}⋅z  + 168⋅\\tilde{\\gamma}⋅\\tilde{y}⋅z  + 384⋅\\tilde{\\gamma}⋅\\tilde\n",
       "\n",
       "                                   4                                 3        \n",
       "{y} - 30⋅\\tilde{\\gamma}⋅\\tilde{y}⋅z  - 174⋅\\tilde{\\gamma}⋅\\tilde{y}⋅z  - 276⋅\\\n",
       "──────────────────────────────────────────────────────────────────────────────\n",
       "                                                                              \n",
       "{y}⋅z + 288⋅\\tilde{\\gamma}⋅\\tilde{y} + 36⋅z + 72                              \n",
       "\n",
       "                         2                                                    \n",
       "tilde{\\gamma}⋅\\tilde{y}⋅z  - 24⋅\\tilde{\\gamma}⋅\\tilde{y}⋅z + 144⋅\\tilde{\\gamma\n",
       "──────────────────────────────────────────────────────────────────────────────\n",
       "                                                                              \n",
       "                                                                              \n",
       "\n",
       "                                 2                                            \n",
       "}⋅\\tilde{y} + 24⋅\\tilde{\\gamma}⋅z  + 108⋅\\tilde{\\gamma}⋅z + 120⋅\\tilde{\\gamma}\n",
       "──────────────────────────────────────────────────────────────────────────────\n",
       "                                                                              \n",
       "                                                                              \n",
       "\n",
       "       3        2              ⎞ \n",
       " + 72⋅z  + 324⋅z  + 504⋅z + 288⎠ \n",
       "─────────────────────────────────\n",
       "                                 \n",
       "                                 "
      ]
     },
     "execution_count": 153,
     "metadata": {},
     "output_type": "execute_result"
    }
   ],
   "source": [
    "solution[yw_p]"
   ]
  },
  {
   "cell_type": "code",
   "execution_count": 154,
   "metadata": {},
   "outputs": [
    {
     "data": {
      "text/latex": [
       "$\\displaystyle -10.9116515534675$"
      ],
      "text/plain": [
       "-10.9116515534675"
      ]
     },
     "execution_count": 154,
     "metadata": {},
     "output_type": "execute_result"
    }
   ],
   "source": [
    "solution[yw_p].subs(([yw, 1], [z, 1], [gw, 1e-3]))"
   ]
  },
  {
   "cell_type": "code",
   "execution_count": 159,
   "metadata": {},
   "outputs": [
    {
     "data": {
      "text/latex": [
       "$\\displaystyle 23.8099487360991$"
      ],
      "text/plain": [
       "23.8099487360991"
      ]
     },
     "execution_count": 159,
     "metadata": {},
     "output_type": "execute_result"
    }
   ],
   "source": [
    "solution[z_p].subs(([yw, 1], [z, 1], [gw, 1e-3]))"
   ]
  },
  {
   "cell_type": "code",
   "execution_count": 137,
   "metadata": {},
   "outputs": [
    {
     "data": {
      "text/latex": [
       "$\\displaystyle - \\frac{\\tilde{\\gamma} \\left(z + 2\\right)}{\\tilde{\\gamma} \\tilde{y} \\left(z + 2\\right) + 2} - \\frac{1}{\\tilde{y} \\left(\\tilde{\\gamma} \\tilde{y} \\left(z + 1\\right) + 1\\right)}$"
      ],
      "text/plain": [
       "         \\tilde{\\gamma}⋅(z + 2)                                 1             \n",
       "- ──────────────────────────────────── - ─────────────────────────────────────\n",
       "  \\tilde{\\gamma}⋅\\tilde{y}⋅(z + 2) + 2   \\tilde{y}⋅(\\tilde{\\gamma}⋅\\tilde{y}⋅(\n",
       "\n",
       "           \n",
       "───────────\n",
       "z + 1) + 1)"
      ]
     },
     "execution_count": 137,
     "metadata": {},
     "output_type": "execute_result"
    }
   ],
   "source": [
    "A = -(1/(yw*(1 + gw*yw*(z + 1))) + (z + 2)*gw/((z+2)*gw*yw + 2))\n",
    "A"
   ]
  },
  {
   "cell_type": "code",
   "execution_count": 138,
   "metadata": {},
   "outputs": [
    {
     "data": {
      "text/latex": [
       "$\\displaystyle - \\frac{\\tilde{\\gamma} \\tilde{y}}{\\tilde{\\gamma} \\tilde{y} \\left(z + 2\\right) + 2} - \\frac{1}{\\left(z + 1\\right) \\left(\\tilde{\\gamma} \\tilde{y} \\left(z + 1\\right) + 1\\right)}$"
      ],
      "text/plain": [
       "        \\tilde{\\gamma}⋅\\tilde{y}                               1              \n",
       "- ──────────────────────────────────── - ─────────────────────────────────────\n",
       "  \\tilde{\\gamma}⋅\\tilde{y}⋅(z + 2) + 2   (z + 1)⋅(\\tilde{\\gamma}⋅\\tilde{y}⋅(z \n",
       "\n",
       "         \n",
       "─────────\n",
       "+ 1) + 1)"
      ]
     },
     "execution_count": 138,
     "metadata": {},
     "output_type": "execute_result"
    }
   ],
   "source": [
    "B = -(1/((z+1)*(1+gw*yw*(z+1))) + gw*yw/((z+2)*gw*yw + 2))\n",
    "B"
   ]
  },
  {
   "cell_type": "code",
   "execution_count": 139,
   "metadata": {},
   "outputs": [
    {
     "data": {
      "text/latex": [
       "$\\displaystyle \\frac{\\tilde{y} \\left(z + 1\\right)}{\\tilde{\\gamma} \\tilde{y} \\left(z + 1\\right) + 1} - \\frac{\\tilde{\\gamma} \\tilde{y}^{2} \\left(\\frac{z}{3} + \\frac{2}{3}\\right) \\left(z + 3\\right) + \\tilde{y} \\left(2 z + 4\\right)}{\\tilde{\\gamma} \\tilde{y} \\left(z + 2\\right) + 2}$"
      ],
      "text/plain": [
       "                                                               2 ⎛z   2⎞      \n",
       "                                       \\tilde{\\gamma}⋅\\tilde{y} ⋅⎜─ + ─⎟⋅(z + \n",
       "         \\tilde{y}⋅(z + 1)                                       ⎝3   3⎠      \n",
       "──────────────────────────────────── - ───────────────────────────────────────\n",
       "\\tilde{\\gamma}⋅\\tilde{y}⋅(z + 1) + 1                 \\tilde{\\gamma}⋅\\tilde{y}⋅\n",
       "\n",
       "                        \n",
       "3) + \\tilde{y}⋅(2⋅z + 4)\n",
       "                        \n",
       "────────────────────────\n",
       "(z + 2) + 2             "
      ]
     },
     "execution_count": 139,
     "metadata": {},
     "output_type": "execute_result"
    }
   ],
   "source": [
    "C = yw*(z+1)/(gw*yw*(z+1) + 1) - (sp.Rational(1, 3)*(z+2)*(z+3)*gw*yw**2 + 2*(z+2)*yw)/((z+2)*gw*yw + 2)\n",
    "C"
   ]
  },
  {
   "cell_type": "code",
   "execution_count": 140,
   "metadata": {},
   "outputs": [
    {
     "data": {
      "text/latex": [
       "$\\displaystyle \\frac{\\tilde{\\gamma} \\left(z + 2\\right)}{\\tilde{\\gamma} \\tilde{y} \\left(z + 2\\right) + 2} - \\frac{\\tilde{\\gamma} \\tilde{y} \\left(z + 3\\right) \\left(2 z + 4\\right) + 3 z + 6}{\\tilde{\\gamma} \\tilde{y}^{2} \\left(z + 2\\right) \\left(z + 3\\right) + \\tilde{y} \\left(3 z + 6\\right)}$"
      ],
      "text/plain": [
       "       \\tilde{\\gamma}⋅(z + 2)                \\tilde{\\gamma}⋅\\tilde{y}⋅(z + 3)⋅\n",
       "──────────────────────────────────── - ───────────────────────────────────────\n",
       "\\tilde{\\gamma}⋅\\tilde{y}⋅(z + 2) + 2                           2              \n",
       "                                       \\tilde{\\gamma}⋅\\tilde{y} ⋅(z + 2)⋅(z + \n",
       "\n",
       "(2⋅z + 4) + 3⋅z + 6     \n",
       "────────────────────────\n",
       "                        \n",
       "3) + \\tilde{y}⋅(3⋅z + 6)"
      ]
     },
     "execution_count": 140,
     "metadata": {},
     "output_type": "execute_result"
    }
   ],
   "source": [
    "D = (z+2)*gw/((z+2)*gw*yw+2) - (2*(z+2)*(z+3)*gw*yw + 3*(z+2))/((z+2)*(z+3)*gw*yw**2 + 3*(z+2)*yw)\n",
    "D"
   ]
  },
  {
   "cell_type": "code",
   "execution_count": 141,
   "metadata": {},
   "outputs": [
    {
     "data": {
      "text/latex": [
       "$\\displaystyle \\frac{\\tilde{\\gamma} \\tilde{y}}{\\tilde{\\gamma} \\tilde{y} \\left(z + 2\\right) + 2} - \\frac{\\tilde{\\gamma} \\tilde{y} \\left(2 z + 5\\right) + 3}{\\tilde{\\gamma} \\tilde{y} \\left(z + 2\\right) \\left(z + 3\\right) + 3 z + 6}$"
      ],
      "text/plain": [
       "      \\tilde{\\gamma}⋅\\tilde{y}               \\tilde{\\gamma}⋅\\tilde{y}⋅(2⋅z + 5\n",
       "──────────────────────────────────── - ───────────────────────────────────────\n",
       "\\tilde{\\gamma}⋅\\tilde{y}⋅(z + 2) + 2   \\tilde{\\gamma}⋅\\tilde{y}⋅(z + 2)⋅(z + 3\n",
       "\n",
       ") + 3      \n",
       "───────────\n",
       ") + 3⋅z + 6"
      ]
     },
     "execution_count": 141,
     "metadata": {},
     "output_type": "execute_result"
    }
   ],
   "source": [
    "E = gw*yw/((z+2)*gw*yw + 2) - (gw*yw*(2*z+5) + 3)/((z+2)*(z+3)*gw*yw + 3*(z+2))\n",
    "E"
   ]
  },
  {
   "cell_type": "code",
   "execution_count": 142,
   "metadata": {},
   "outputs": [
    {
     "data": {
      "text/latex": [
       "$\\displaystyle - \\frac{\\left(\\frac{z}{2} + 1\\right) \\left(z + 3\\right) \\left(z + 4\\right) \\left(\\tilde{\\gamma} \\tilde{y}^{2} + \\tilde{\\gamma} \\left(z + 3\\right) \\left(3 z + 6\\right)\\right)}{\\tilde{\\gamma} \\tilde{y} \\left(z + 2\\right) \\left(z + 3\\right) + 3 z + 6} + \\frac{\\tilde{\\gamma} \\tilde{y}^{2} \\left(\\frac{z}{3} + \\frac{2}{3}\\right) \\left(z + 3\\right) + \\tilde{y} \\left(2 z + 4\\right)}{\\tilde{\\gamma} \\tilde{y} \\left(z + 2\\right) + 2}$"
      ],
      "text/plain": [
       "  ⎛z    ⎞                 ⎛                        2                          \n",
       "  ⎜─ + 1⎟⋅(z + 3)⋅(z + 4)⋅⎝\\tilde{\\gamma}⋅\\tilde{y}  + \\tilde{\\gamma}⋅(z + 3)⋅\n",
       "  ⎝2    ⎠                                                                     \n",
       "- ────────────────────────────────────────────────────────────────────────────\n",
       "                    \\tilde{\\gamma}⋅\\tilde{y}⋅(z + 2)⋅(z + 3) + 3⋅z + 6        \n",
       "\n",
       "         ⎞                           2 ⎛z   2⎞                              \n",
       "(3⋅z + 6)⎠   \\tilde{\\gamma}⋅\\tilde{y} ⋅⎜─ + ─⎟⋅(z + 3) + \\tilde{y}⋅(2⋅z + 4)\n",
       "                                       ⎝3   3⎠                              \n",
       "────────── + ───────────────────────────────────────────────────────────────\n",
       "                           \\tilde{\\gamma}⋅\\tilde{y}⋅(z + 2) + 2             "
      ]
     },
     "execution_count": 142,
     "metadata": {},
     "output_type": "execute_result"
    }
   ],
   "source": [
    "F = (sp.Rational(1, 3)*(z+2)*(z+3)*gw*yw**2 + 2*(z+2)*yw)/((z+2)*gw*yw+2) -\\\n",
    "sp.Rational(1, 2)*(z+2)*(z+3)*(z+4)*(gw*yw**2 + 3*(z+2)*(z+3)*gw)/((z+2)*(z+3)*gw*yw + 3*(z+2))\n",
    "F"
   ]
  },
  {
   "cell_type": "code",
   "execution_count": 143,
   "metadata": {},
   "outputs": [],
   "source": [
    "ans = sp.simplify((B*F - C*E)/(A*E - D*B))"
   ]
  },
  {
   "cell_type": "code",
   "execution_count": 144,
   "metadata": {},
   "outputs": [
    {
     "data": {
      "text/latex": [
       "$\\displaystyle \\frac{\\tilde{y} \\left(z + 2\\right) \\left(\\tilde{\\gamma} \\tilde{y} \\left(z + 3\\right) + 3\\right) \\left(2 \\tilde{y} \\left(z + 1\\right) \\left(3 \\left(z + 1\\right) \\left(\\tilde{\\gamma} \\tilde{y} \\left(z + 2\\right) + 2\\right) - \\left(z + 2\\right) \\left(\\tilde{\\gamma} \\tilde{y} \\left(z + 1\\right) + 1\\right) \\left(\\tilde{\\gamma} \\tilde{y} \\left(z + 3\\right) + 6\\right)\\right) \\left(\\tilde{\\gamma} \\tilde{y} \\left(\\tilde{\\gamma} \\tilde{y} \\left(z + 2\\right) \\left(z + 3\\right) + 3 z + 6\\right) - \\left(\\tilde{\\gamma} \\tilde{y} \\left(z + 2\\right) + 2\\right) \\left(\\tilde{\\gamma} \\tilde{y} \\left(2 z + 5\\right) + 3\\right)\\right) - \\left(z + 2\\right) \\left(3 \\tilde{\\gamma} \\left(\\tilde{y}^{2} + 3 \\left(z + 2\\right) \\left(z + 3\\right)\\right) \\left(z + 3\\right) \\left(z + 4\\right) \\left(\\tilde{\\gamma} \\tilde{y} \\left(z + 2\\right) + 2\\right) - 2 \\tilde{y} \\left(\\tilde{\\gamma} \\tilde{y} \\left(z + 3\\right) + 6\\right) \\left(\\tilde{\\gamma} \\tilde{y} \\left(z + 2\\right) \\left(z + 3\\right) + 3 z + 6\\right)\\right) \\left(\\tilde{\\gamma} \\tilde{y} \\left(z + 1\\right) \\left(\\tilde{\\gamma} \\tilde{y} \\left(z + 1\\right) + 1\\right) + \\tilde{\\gamma} \\tilde{y} \\left(z + 2\\right) + 2\\right)\\right)}{6 \\left(\\left(z + 1\\right) \\left(z + 2\\right) \\left(\\tilde{\\gamma} \\tilde{y} \\left(z + 3\\right) + 3\\right) \\left(\\tilde{\\gamma} \\tilde{y} \\left(\\tilde{\\gamma} \\tilde{y} \\left(z + 2\\right) \\left(z + 3\\right) + 3 z + 6\\right) - \\left(\\tilde{\\gamma} \\tilde{y} \\left(z + 2\\right) + 2\\right) \\left(\\tilde{\\gamma} \\tilde{y} \\left(2 z + 5\\right) + 3\\right)\\right) \\left(\\tilde{\\gamma} \\tilde{y} \\left(z + 2\\right) \\left(\\tilde{\\gamma} \\tilde{y} \\left(z + 1\\right) + 1\\right) + \\tilde{\\gamma} \\tilde{y} \\left(z + 2\\right) + 2\\right) - \\left(\\tilde{\\gamma} \\tilde{y} \\left(z + 2\\right)^{2} \\left(\\tilde{\\gamma} \\tilde{y} \\left(z + 3\\right) + 3\\right) - \\left(\\tilde{\\gamma} \\tilde{y} \\left(z + 2\\right) + 2\\right) \\left(2 \\tilde{\\gamma} \\tilde{y} \\left(z + 2\\right) \\left(z + 3\\right) + 3 z + 6\\right)\\right) \\left(\\tilde{\\gamma} \\tilde{y} \\left(z + 1\\right) \\left(\\tilde{\\gamma} \\tilde{y} \\left(z + 1\\right) + 1\\right) + \\tilde{\\gamma} \\tilde{y} \\left(z + 2\\right) + 2\\right) \\left(\\tilde{\\gamma} \\tilde{y} \\left(z + 2\\right) \\left(z + 3\\right) + 3 z + 6\\right)\\right)}$"
      ],
      "text/plain": [
       "                                                         ⎛                    \n",
       "\\tilde{y}⋅(z + 2)⋅(\\tilde{\\gamma}⋅\\tilde{y}⋅(z + 3) + 3)⋅⎝2⋅\\tilde{y}⋅(z + 1)⋅\n",
       "──────────────────────────────────────────────────────────────────────────────\n",
       "                        ⎛                                                     \n",
       "                      6⋅⎝(z + 1)⋅(z + 2)⋅(\\tilde{\\gamma}⋅\\tilde{y}⋅(z + 3) + 3\n",
       "\n",
       "                                                                              \n",
       "(3⋅(z + 1)⋅(\\tilde{\\gamma}⋅\\tilde{y}⋅(z + 2) + 2) - (z + 2)⋅(\\tilde{\\gamma}⋅\\t\n",
       "──────────────────────────────────────────────────────────────────────────────\n",
       "                                                                              \n",
       ")⋅(\\tilde{\\gamma}⋅\\tilde{y}⋅(\\tilde{\\gamma}⋅\\tilde{y}⋅(z + 2)⋅(z + 3) + 3⋅z + \n",
       "\n",
       "                                                                              \n",
       "ilde{y}⋅(z + 1) + 1)⋅(\\tilde{\\gamma}⋅\\tilde{y}⋅(z + 3) + 6))⋅(\\tilde{\\gamma}⋅\\\n",
       "──────────────────────────────────────────────────────────────────────────────\n",
       "                                                                              \n",
       "6) - (\\tilde{\\gamma}⋅\\tilde{y}⋅(z + 2) + 2)⋅(\\tilde{\\gamma}⋅\\tilde{y}⋅(2⋅z + 5\n",
       "\n",
       "                                                                              \n",
       "tilde{y}⋅(\\tilde{\\gamma}⋅\\tilde{y}⋅(z + 2)⋅(z + 3) + 3⋅z + 6) - (\\tilde{\\gamma\n",
       "──────────────────────────────────────────────────────────────────────────────\n",
       "                                                                              \n",
       ") + 3))⋅(\\tilde{\\gamma}⋅\\tilde{y}⋅(z + 2)⋅(\\tilde{\\gamma}⋅\\tilde{y}⋅(z + 1) + \n",
       "\n",
       "                                                                             ⎛\n",
       "}⋅\\tilde{y}⋅(z + 2) + 2)⋅(\\tilde{\\gamma}⋅\\tilde{y}⋅(2⋅z + 5) + 3)) - (z + 2)⋅⎝\n",
       "──────────────────────────────────────────────────────────────────────────────\n",
       "                                             ⎛                                \n",
       "1) + \\tilde{\\gamma}⋅\\tilde{y}⋅(z + 2) + 2) - ⎝\\tilde{\\gamma}⋅\\tilde{y}⋅(z + 2)\n",
       "\n",
       "                 ⎛         2                    ⎞                             \n",
       "3⋅\\tilde{\\gamma}⋅⎝\\tilde{y}  + 3⋅(z + 2)⋅(z + 3)⎠⋅(z + 3)⋅(z + 4)⋅(\\tilde{\\gam\n",
       "──────────────────────────────────────────────────────────────────────────────\n",
       "2                                                                             \n",
       " ⋅(\\tilde{\\gamma}⋅\\tilde{y}⋅(z + 3) + 3) - (\\tilde{\\gamma}⋅\\tilde{y}⋅(z + 2) +\n",
       "\n",
       "                                                                              \n",
       "ma}⋅\\tilde{y}⋅(z + 2) + 2) - 2⋅\\tilde{y}⋅(\\tilde{\\gamma}⋅\\tilde{y}⋅(z + 3) + 6\n",
       "──────────────────────────────────────────────────────────────────────────────\n",
       "                                                          ⎞                   \n",
       " 2)⋅(2⋅\\tilde{\\gamma}⋅\\tilde{y}⋅(z + 2)⋅(z + 3) + 3⋅z + 6)⎠⋅(\\tilde{\\gamma}⋅\\t\n",
       "\n",
       "                                                      ⎞                       \n",
       ")⋅(\\tilde{\\gamma}⋅\\tilde{y}⋅(z + 2)⋅(z + 3) + 3⋅z + 6)⎠⋅(\\tilde{\\gamma}⋅\\tilde\n",
       "──────────────────────────────────────────────────────────────────────────────\n",
       "                                                                              \n",
       "ilde{y}⋅(z + 1)⋅(\\tilde{\\gamma}⋅\\tilde{y}⋅(z + 1) + 1) + \\tilde{\\gamma}⋅\\tilde\n",
       "\n",
       "                                                                              \n",
       "{y}⋅(z + 1)⋅(\\tilde{\\gamma}⋅\\tilde{y}⋅(z + 1) + 1) + \\tilde{\\gamma}⋅\\tilde{y}⋅\n",
       "──────────────────────────────────────────────────────────────────────────────\n",
       "                                                                     ⎞        \n",
       "{y}⋅(z + 2) + 2)⋅(\\tilde{\\gamma}⋅\\tilde{y}⋅(z + 2)⋅(z + 3) + 3⋅z + 6)⎠        \n",
       "\n",
       "            ⎞\n",
       "(z + 2) + 2)⎠\n",
       "─────────────\n",
       "             \n",
       "             "
      ]
     },
     "execution_count": 144,
     "metadata": {},
     "output_type": "execute_result"
    }
   ],
   "source": [
    "ans"
   ]
  },
  {
   "cell_type": "code",
   "execution_count": 148,
   "metadata": {},
   "outputs": [
    {
     "data": {
      "text/latex": [
       "$\\displaystyle 10.632304712475$"
      ],
      "text/plain": [
       "10.6323047124750"
      ]
     },
     "execution_count": 148,
     "metadata": {},
     "output_type": "execute_result"
    }
   ],
   "source": [
    "ans.subs(([yw, 1], [z, 1], [gw, 1e-3]))"
   ]
  },
  {
   "cell_type": "code",
   "execution_count": 157,
   "metadata": {},
   "outputs": [],
   "source": [
    "n,d = sp.fraction(ans)"
   ]
  },
  {
   "cell_type": "code",
   "execution_count": 158,
   "metadata": {},
   "outputs": [
    {
     "data": {
      "text/latex": [
       "$\\displaystyle -23.2802279168052$"
      ],
      "text/plain": [
       "-23.2802279168052"
      ]
     },
     "execution_count": 158,
     "metadata": {},
     "output_type": "execute_result"
    }
   ],
   "source": [
    "bns = sp.simplify((C*D - A*F)/(A*E - D*B))\n",
    "bns.subs(([yw, 1], [z, 1], [gw, 1e-3]))"
   ]
  },
  {
   "cell_type": "code",
   "execution_count": 147,
   "metadata": {},
   "outputs": [
    {
     "data": {
      "text/latex": [
       "$\\displaystyle - \\frac{\\tilde{y} \\left(- \\tilde{\\gamma}^{3} \\tilde{y}^{4} z^{5} - 5 \\tilde{\\gamma}^{3} \\tilde{y}^{4} z^{4} - 3 \\tilde{\\gamma}^{3} \\tilde{y}^{4} z^{3} + 17 \\tilde{\\gamma}^{3} \\tilde{y}^{4} z^{2} + 28 \\tilde{\\gamma}^{3} \\tilde{y}^{4} z + 12 \\tilde{\\gamma}^{3} \\tilde{y}^{4} + 9 \\tilde{\\gamma}^{3} \\tilde{y}^{2} z^{7} + 144 \\tilde{\\gamma}^{3} \\tilde{y}^{2} z^{6} + 954 \\tilde{\\gamma}^{3} \\tilde{y}^{2} z^{5} + 3384 \\tilde{\\gamma}^{3} \\tilde{y}^{2} z^{4} + 6921 \\tilde{\\gamma}^{3} \\tilde{y}^{2} z^{3} + 8136 \\tilde{\\gamma}^{3} \\tilde{y}^{2} z^{2} + 5076 \\tilde{\\gamma}^{3} \\tilde{y}^{2} z + 1296 \\tilde{\\gamma}^{3} \\tilde{y}^{2} - 24 \\tilde{\\gamma}^{2} \\tilde{y}^{3} z^{4} - 153 \\tilde{\\gamma}^{2} \\tilde{y}^{3} z^{3} - 325 \\tilde{\\gamma}^{2} \\tilde{y}^{3} z^{2} - 254 \\tilde{\\gamma}^{2} \\tilde{y}^{3} z - 48 \\tilde{\\gamma}^{2} \\tilde{y}^{3} + 18 \\tilde{\\gamma}^{2} \\tilde{y} z^{6} + 279 \\tilde{\\gamma}^{2} \\tilde{y} z^{5} + 1764 \\tilde{\\gamma}^{2} \\tilde{y} z^{4} + 5823 \\tilde{\\gamma}^{2} \\tilde{y} z^{3} + 10584 \\tilde{\\gamma}^{2} \\tilde{y} z^{2} + 10044 \\tilde{\\gamma}^{2} \\tilde{y} z + 3888 \\tilde{\\gamma}^{2} \\tilde{y} - 54 \\tilde{\\gamma} \\tilde{y}^{2} z^{3} - 276 \\tilde{\\gamma} \\tilde{y}^{2} z^{2} - 462 \\tilde{\\gamma} \\tilde{y}^{2} z - 240 \\tilde{\\gamma} \\tilde{y}^{2} + 18 \\tilde{\\gamma} z^{5} + 252 \\tilde{\\gamma} z^{4} + 1386 \\tilde{\\gamma} z^{3} + 3744 \\tilde{\\gamma} z^{2} + 4968 \\tilde{\\gamma} z + 2592 \\tilde{\\gamma} - 36 \\tilde{y} z^{2} - 180 \\tilde{y} z - 180 \\tilde{y}\\right)}{6 \\tilde{\\gamma}^{3} \\tilde{y}^{3} z^{3} + 24 \\tilde{\\gamma}^{3} \\tilde{y}^{3} z^{2} + 30 \\tilde{\\gamma}^{3} \\tilde{y}^{3} z + 12 \\tilde{\\gamma}^{3} \\tilde{y}^{3} + 18 \\tilde{\\gamma}^{2} \\tilde{y}^{2} z^{2} + 66 \\tilde{\\gamma}^{2} \\tilde{y}^{2} z + 60 \\tilde{\\gamma}^{2} \\tilde{y}^{2} + 36 \\tilde{\\gamma} \\tilde{y} z + 84 \\tilde{\\gamma} \\tilde{y} + 36}$"
      ],
      "text/plain": [
       "           ⎛                3          4  5                   3          4  4 \n",
       "-\\tilde{y}⋅⎝- \\tilde{\\gamma} ⋅\\tilde{y} ⋅z  - 5⋅\\tilde{\\gamma} ⋅\\tilde{y} ⋅z  \n",
       "──────────────────────────────────────────────────────────────────────────────\n",
       "                                                                              \n",
       "                                                                              \n",
       "\n",
       "                  3          4  3                    3          4  2          \n",
       "- 3⋅\\tilde{\\gamma} ⋅\\tilde{y} ⋅z  + 17⋅\\tilde{\\gamma} ⋅\\tilde{y} ⋅z  + 28⋅\\til\n",
       "──────────────────────────────────────────────────────────────────────────────\n",
       "                                                                              \n",
       "                                                                              \n",
       "\n",
       "          3          4                      3          4                   3  \n",
       "de{\\gamma} ⋅\\tilde{y} ⋅z + 12⋅\\tilde{\\gamma} ⋅\\tilde{y}  + 9⋅\\tilde{\\gamma} ⋅\\\n",
       "──────────────────────────────────────────────────────────────────────────────\n",
       "                                                                              \n",
       "                                                                              \n",
       "\n",
       "        2  7                     3          2  6                     3        \n",
       "tilde{y} ⋅z  + 144⋅\\tilde{\\gamma} ⋅\\tilde{y} ⋅z  + 954⋅\\tilde{\\gamma} ⋅\\tilde{\n",
       "──────────────────────────────────────────────────────────────────────────────\n",
       "                                                                              \n",
       "                                                                              \n",
       "\n",
       "  2  5                      3          2  4                      3          2 \n",
       "y} ⋅z  + 3384⋅\\tilde{\\gamma} ⋅\\tilde{y} ⋅z  + 6921⋅\\tilde{\\gamma} ⋅\\tilde{y} ⋅\n",
       "──────────────────────────────────────────────────────────────────────────────\n",
       "                                                                              \n",
       "                                                                              \n",
       "\n",
       " 3                      3          2  2                      3          2     \n",
       "z  + 8136⋅\\tilde{\\gamma} ⋅\\tilde{y} ⋅z  + 5076⋅\\tilde{\\gamma} ⋅\\tilde{y} ⋅z + \n",
       "──────────────────────────────────────────────────────────────────────────────\n",
       "                                                                              \n",
       "                                                                              \n",
       "\n",
       "                   3          2                    2          3  4            \n",
       "1296⋅\\tilde{\\gamma} ⋅\\tilde{y}  - 24⋅\\tilde{\\gamma} ⋅\\tilde{y} ⋅z  - 153⋅\\tild\n",
       "──────────────────────────────────────────────────────────────────────────────\n",
       "                        3          3  3                    3          3  2    \n",
       "        6⋅\\tilde{\\gamma} ⋅\\tilde{y} ⋅z  + 24⋅\\tilde{\\gamma} ⋅\\tilde{y} ⋅z  + 3\n",
       "\n",
       "         2          3  3                     2          3  2                  \n",
       "e{\\gamma} ⋅\\tilde{y} ⋅z  - 325⋅\\tilde{\\gamma} ⋅\\tilde{y} ⋅z  - 254⋅\\tilde{\\gam\n",
       "──────────────────────────────────────────────────────────────────────────────\n",
       "                3          3                      3          3                \n",
       "0⋅\\tilde{\\gamma} ⋅\\tilde{y} ⋅z + 12⋅\\tilde{\\gamma} ⋅\\tilde{y}  + 18⋅\\tilde{\\ga\n",
       "\n",
       "   2          3                      2          3                    2        \n",
       "ma} ⋅\\tilde{y} ⋅z - 48⋅\\tilde{\\gamma} ⋅\\tilde{y}  + 18⋅\\tilde{\\gamma} ⋅\\tilde{\n",
       "──────────────────────────────────────────────────────────────────────────────\n",
       "    2          2  2                    2          2                      2    \n",
       "mma} ⋅\\tilde{y} ⋅z  + 66⋅\\tilde{\\gamma} ⋅\\tilde{y} ⋅z + 60⋅\\tilde{\\gamma} ⋅\\ti\n",
       "\n",
       "    6                     2            5                      2            4  \n",
       "y}⋅z  + 279⋅\\tilde{\\gamma} ⋅\\tilde{y}⋅z  + 1764⋅\\tilde{\\gamma} ⋅\\tilde{y}⋅z  +\n",
       "──────────────────────────────────────────────────────────────────────────────\n",
       "      2                                                                       \n",
       "lde{y}  + 36⋅\\tilde{\\gamma}⋅\\tilde{y}⋅z + 84⋅\\tilde{\\gamma}⋅\\tilde{y} + 36    \n",
       "\n",
       "                    2            3                       2            2       \n",
       " 5823⋅\\tilde{\\gamma} ⋅\\tilde{y}⋅z  + 10584⋅\\tilde{\\gamma} ⋅\\tilde{y}⋅z  + 1004\n",
       "──────────────────────────────────────────────────────────────────────────────\n",
       "                                                                              \n",
       "                                                                              \n",
       "\n",
       "                2                                  2                          \n",
       "4⋅\\tilde{\\gamma} ⋅\\tilde{y}⋅z + 3888⋅\\tilde{\\gamma} ⋅\\tilde{y} - 54⋅\\tilde{\\ga\n",
       "──────────────────────────────────────────────────────────────────────────────\n",
       "                                                                              \n",
       "                                                                              \n",
       "\n",
       "              2  3                               2  2                         \n",
       "mma}⋅\\tilde{y} ⋅z  - 276⋅\\tilde{\\gamma}⋅\\tilde{y} ⋅z  - 462⋅\\tilde{\\gamma}⋅\\ti\n",
       "──────────────────────────────────────────────────────────────────────────────\n",
       "                                                                              \n",
       "                                                                              \n",
       "\n",
       "      2                                 2                      5              \n",
       "lde{y} ⋅z - 240⋅\\tilde{\\gamma}⋅\\tilde{y}  + 18⋅\\tilde{\\gamma}⋅z  + 252⋅\\tilde{\n",
       "──────────────────────────────────────────────────────────────────────────────\n",
       "                                                                              \n",
       "                                                                              \n",
       "\n",
       "         4                        3                        2                  \n",
       "\\gamma}⋅z  + 1386⋅\\tilde{\\gamma}⋅z  + 3744⋅\\tilde{\\gamma}⋅z  + 4968⋅\\tilde{\\ga\n",
       "──────────────────────────────────────────────────────────────────────────────\n",
       "                                                                              \n",
       "                                                                              \n",
       "\n",
       "                                             2                                \n",
       "mma}⋅z + 2592⋅\\tilde{\\gamma} - 36⋅\\tilde{y}⋅z  - 180⋅\\tilde{y}⋅z - 180⋅\\tilde{\n",
       "──────────────────────────────────────────────────────────────────────────────\n",
       "                                                                              \n",
       "                                                                              \n",
       "\n",
       "  ⎞ \n",
       "y}⎠ \n",
       "────\n",
       "    \n",
       "    "
      ]
     },
     "execution_count": 147,
     "metadata": {},
     "output_type": "execute_result"
    }
   ],
   "source": [
    "sp.simplify(sp.expand(n) / sp.expand(d))"
   ]
  },
  {
   "cell_type": "code",
   "execution_count": null,
   "metadata": {},
   "outputs": [],
   "source": []
  },
  {
   "cell_type": "code",
   "execution_count": null,
   "metadata": {},
   "outputs": [],
   "source": []
  },
  {
   "cell_type": "code",
   "execution_count": null,
   "metadata": {},
   "outputs": [],
   "source": []
  },
  {
   "cell_type": "code",
   "execution_count": 34,
   "metadata": {},
   "outputs": [],
   "source": [
    "def dM1w_dt(M1w_val, yw_val, z_val, gw_val):\n",
    "    return solution[M1w_p].subs([(M1w, M1w_val), (yw, yw_val), (z, z_val), (gw, gw_val)])\n",
    "\n",
    "def dyw_dt(M1w_val, yw_val, z_val, gw_val):\n",
    "    return solution[yw_p].subs([(M1w, M1w_val), (yw, yw_val), (z, z_val), (gw, gw_val)])\n",
    "\n",
    "def dz_dt(M1w_val, yw_val, z_val, gw_val):\n",
    "    return solution[z_p].subs([(M1w, M1w_val), (yw, yw_val), (z, z_val), (gw, gw_val)])"
   ]
  },
  {
   "cell_type": "code",
   "execution_count": 46,
   "metadata": {},
   "outputs": [],
   "source": [
    "import numpy as np\n",
    "\n",
    "def model(t, M1w_yw_z_val, gw):\n",
    "    M1w_val = M1w_yw_z_val[0]\n",
    "    yw_val = M1w_yw_z_val[1]\n",
    "    z_val = M1w_yw_z_val[2]\n",
    "    gw_val = gw\n",
    "\n",
    "    dM1w_dt = solution[M1w_p].subs([(M1w, M1w_val), (yw, yw_val), (z, z_val), (gw, gw_val)])\n",
    "    dyw_dt = solution[yw_p].subs([(M1w, M1w_val), (yw, yw_val), (z, z_val), (gw, gw_val)])\n",
    "    dz_dt = solution[z_p].subs([(M1w, M1w_val), (yw, yw_val), (z, z_val), (gw, gw_val)])\n",
    "\n",
    "    return np.array((dM1w_dt, dyw_dt, dz_dt))"
   ]
  },
  {
   "cell_type": "code",
   "execution_count": 59,
   "metadata": {},
   "outputs": [],
   "source": [
    "def RK4_PCH(model, xyz_0, tt, gw):\n",
    "\n",
    "    xyz_i = xyz_0\n",
    "\n",
    "    h = tt[1] - tt[0]\n",
    "\n",
    "    xyz_sol = np.zeros((len(tt), 3))\n",
    "    xyz_sol[0, :] = xyz_i\n",
    "\n",
    "    for i, t in enumerate(tt[:-1]):\n",
    "        \n",
    "        if i == 1:\n",
    "            print(i)\n",
    "        \n",
    "        xyz_i = xyz_sol[i, :]\n",
    "\n",
    "        if i < 3:  # Runge-Kutta\n",
    "\n",
    "            K1 = model(t, xyz_i, gw)\n",
    "            K2 = model(t + h/2, xyz_i + h/2 * K1, gw)\n",
    "            K3 = model(t + h/2, xyz_i + h/2 * K2, gw)\n",
    "            K4 = model(t + h, xyz_i + h * K3, gw)\n",
    "\n",
    "            xyz_new = xyz_i + h/6 * (K1 + 2*K2 + 2*K3 + K4)\n",
    "            xyz_sol[i+1, :] = xyz_new\n",
    "\n",
    "        else:  # Hamming\n",
    "\n",
    "            f_i = model(tt[i], xyz_sol[i, :], gw)\n",
    "            f_i_1 = model(tt[i-1], xyz_sol[i-1, :], gw)\n",
    "            f_i_2 = model(tt[i-2], xyz_sol[i-2, :], gw)\n",
    "\n",
    "            # Adams\n",
    "            # xy_pred = xy_sol[i, :] + h/12 * (23*f_i - 16*f_i_1 + 5*f_i_2)\n",
    "            # xy_new = xy_sol[i, :] + h/24 * (f_i_2 - 5*f_i_1 + 19*f_i + 9*model(tt[i+1], xy_pred))\n",
    "\n",
    "            # Hamming\n",
    "            xyz_pred = xyz_sol[i - 3, :] + 4*h/3 * (2*f_i - f_i_1 + 2*f_i_2)\n",
    "            xyz_new = 1/8 * (9*xyz_sol[i, :] - xyz_sol[i-2, :]) +\\\n",
    "                3/8 * h * (-f_i_1 + 2*f_i + model(tt[i+1], xyz_pred, gw))\n",
    "\n",
    "            xyz_sol[i + 1, :] = xyz_new\n",
    "\n",
    "    return xyz_sol"
   ]
  },
  {
   "cell_type": "code",
   "execution_count": 60,
   "metadata": {},
   "outputs": [],
   "source": [
    "z_0 = 10\n",
    "alpha = 0.1\n",
    "now_gw = alpha / (z_0 + 1)\n",
    "\n",
    "M1w_yw_z_0 = np.array([1, 1, 10])\n",
    "\n",
    "t_total = 10\n",
    "t_step = 0.001\n",
    "\n",
    "tt = np.arange(0, t_total, t_step)\n",
    "# tt = [0, 1]"
   ]
  },
  {
   "cell_type": "code",
   "execution_count": 61,
   "metadata": {},
   "outputs": [
    {
     "ename": "KeyboardInterrupt",
     "evalue": "",
     "output_type": "error",
     "traceback": [
      "\u001b[0;31m---------------------------------------------------------------------------\u001b[0m",
      "\u001b[0;31mKeyboardInterrupt\u001b[0m                         Traceback (most recent call last)",
      "\u001b[0;32m<ipython-input-61-44bc838ffc66>\u001b[0m in \u001b[0;36m<module>\u001b[0;34m\u001b[0m\n\u001b[0;32m----> 1\u001b[0;31m \u001b[0msolution\u001b[0m \u001b[0;34m=\u001b[0m \u001b[0mRK4_PCH\u001b[0m\u001b[0;34m(\u001b[0m\u001b[0mmodel\u001b[0m\u001b[0;34m,\u001b[0m \u001b[0mM1w_yw_z_0\u001b[0m\u001b[0;34m,\u001b[0m \u001b[0mtt\u001b[0m\u001b[0;34m,\u001b[0m \u001b[0mnow_gw\u001b[0m\u001b[0;34m)\u001b[0m\u001b[0;34m\u001b[0m\u001b[0;34m\u001b[0m\u001b[0m\n\u001b[0m",
      "\u001b[0;32m<ipython-input-59-e25d18a66cce>\u001b[0m in \u001b[0;36mRK4_PCH\u001b[0;34m(model, xyz_0, tt, gw)\u001b[0m\n\u001b[1;32m     20\u001b[0m             \u001b[0mK2\u001b[0m \u001b[0;34m=\u001b[0m \u001b[0mmodel\u001b[0m\u001b[0;34m(\u001b[0m\u001b[0mt\u001b[0m \u001b[0;34m+\u001b[0m \u001b[0mh\u001b[0m\u001b[0;34m/\u001b[0m\u001b[0;36m2\u001b[0m\u001b[0;34m,\u001b[0m \u001b[0mxyz_i\u001b[0m \u001b[0;34m+\u001b[0m \u001b[0mh\u001b[0m\u001b[0;34m/\u001b[0m\u001b[0;36m2\u001b[0m \u001b[0;34m*\u001b[0m \u001b[0mK1\u001b[0m\u001b[0;34m,\u001b[0m \u001b[0mgw\u001b[0m\u001b[0;34m)\u001b[0m\u001b[0;34m\u001b[0m\u001b[0;34m\u001b[0m\u001b[0m\n\u001b[1;32m     21\u001b[0m             \u001b[0mK3\u001b[0m \u001b[0;34m=\u001b[0m \u001b[0mmodel\u001b[0m\u001b[0;34m(\u001b[0m\u001b[0mt\u001b[0m \u001b[0;34m+\u001b[0m \u001b[0mh\u001b[0m\u001b[0;34m/\u001b[0m\u001b[0;36m2\u001b[0m\u001b[0;34m,\u001b[0m \u001b[0mxyz_i\u001b[0m \u001b[0;34m+\u001b[0m \u001b[0mh\u001b[0m\u001b[0;34m/\u001b[0m\u001b[0;36m2\u001b[0m \u001b[0;34m*\u001b[0m \u001b[0mK2\u001b[0m\u001b[0;34m,\u001b[0m \u001b[0mgw\u001b[0m\u001b[0;34m)\u001b[0m\u001b[0;34m\u001b[0m\u001b[0;34m\u001b[0m\u001b[0m\n\u001b[0;32m---> 22\u001b[0;31m             \u001b[0mK4\u001b[0m \u001b[0;34m=\u001b[0m \u001b[0mmodel\u001b[0m\u001b[0;34m(\u001b[0m\u001b[0mt\u001b[0m \u001b[0;34m+\u001b[0m \u001b[0mh\u001b[0m\u001b[0;34m,\u001b[0m \u001b[0mxyz_i\u001b[0m \u001b[0;34m+\u001b[0m \u001b[0mh\u001b[0m \u001b[0;34m*\u001b[0m \u001b[0mK3\u001b[0m\u001b[0;34m,\u001b[0m \u001b[0mgw\u001b[0m\u001b[0;34m)\u001b[0m\u001b[0;34m\u001b[0m\u001b[0;34m\u001b[0m\u001b[0m\n\u001b[0m\u001b[1;32m     23\u001b[0m \u001b[0;34m\u001b[0m\u001b[0m\n\u001b[1;32m     24\u001b[0m             \u001b[0mxyz_new\u001b[0m \u001b[0;34m=\u001b[0m \u001b[0mxyz_i\u001b[0m \u001b[0;34m+\u001b[0m \u001b[0mh\u001b[0m\u001b[0;34m/\u001b[0m\u001b[0;36m6\u001b[0m \u001b[0;34m*\u001b[0m \u001b[0;34m(\u001b[0m\u001b[0mK1\u001b[0m \u001b[0;34m+\u001b[0m \u001b[0;36m2\u001b[0m\u001b[0;34m*\u001b[0m\u001b[0mK2\u001b[0m \u001b[0;34m+\u001b[0m \u001b[0;36m2\u001b[0m\u001b[0;34m*\u001b[0m\u001b[0mK3\u001b[0m \u001b[0;34m+\u001b[0m \u001b[0mK4\u001b[0m\u001b[0;34m)\u001b[0m\u001b[0;34m\u001b[0m\u001b[0;34m\u001b[0m\u001b[0m\n",
      "\u001b[0;32m<ipython-input-46-303059649534>\u001b[0m in \u001b[0;36mmodel\u001b[0;34m(t, M1w_yw_z_val, gw)\u001b[0m\n\u001b[1;32m      7\u001b[0m     \u001b[0mgw_val\u001b[0m \u001b[0;34m=\u001b[0m \u001b[0mgw\u001b[0m\u001b[0;34m\u001b[0m\u001b[0;34m\u001b[0m\u001b[0m\n\u001b[1;32m      8\u001b[0m \u001b[0;34m\u001b[0m\u001b[0m\n\u001b[0;32m----> 9\u001b[0;31m     \u001b[0mdM1w_dt\u001b[0m \u001b[0;34m=\u001b[0m \u001b[0msolution\u001b[0m\u001b[0;34m[\u001b[0m\u001b[0mM1w_p\u001b[0m\u001b[0;34m]\u001b[0m\u001b[0;34m.\u001b[0m\u001b[0msubs\u001b[0m\u001b[0;34m(\u001b[0m\u001b[0;34m[\u001b[0m\u001b[0;34m(\u001b[0m\u001b[0mM1w\u001b[0m\u001b[0;34m,\u001b[0m \u001b[0mM1w_val\u001b[0m\u001b[0;34m)\u001b[0m\u001b[0;34m,\u001b[0m \u001b[0;34m(\u001b[0m\u001b[0myw\u001b[0m\u001b[0;34m,\u001b[0m \u001b[0myw_val\u001b[0m\u001b[0;34m)\u001b[0m\u001b[0;34m,\u001b[0m \u001b[0;34m(\u001b[0m\u001b[0mz\u001b[0m\u001b[0;34m,\u001b[0m \u001b[0mz_val\u001b[0m\u001b[0;34m)\u001b[0m\u001b[0;34m,\u001b[0m \u001b[0;34m(\u001b[0m\u001b[0mgw\u001b[0m\u001b[0;34m,\u001b[0m \u001b[0mgw_val\u001b[0m\u001b[0;34m)\u001b[0m\u001b[0;34m]\u001b[0m\u001b[0;34m)\u001b[0m\u001b[0;34m\u001b[0m\u001b[0;34m\u001b[0m\u001b[0m\n\u001b[0m\u001b[1;32m     10\u001b[0m     \u001b[0mdyw_dt\u001b[0m \u001b[0;34m=\u001b[0m \u001b[0msolution\u001b[0m\u001b[0;34m[\u001b[0m\u001b[0myw_p\u001b[0m\u001b[0;34m]\u001b[0m\u001b[0;34m.\u001b[0m\u001b[0msubs\u001b[0m\u001b[0;34m(\u001b[0m\u001b[0;34m[\u001b[0m\u001b[0;34m(\u001b[0m\u001b[0mM1w\u001b[0m\u001b[0;34m,\u001b[0m \u001b[0mM1w_val\u001b[0m\u001b[0;34m)\u001b[0m\u001b[0;34m,\u001b[0m \u001b[0;34m(\u001b[0m\u001b[0myw\u001b[0m\u001b[0;34m,\u001b[0m \u001b[0myw_val\u001b[0m\u001b[0;34m)\u001b[0m\u001b[0;34m,\u001b[0m \u001b[0;34m(\u001b[0m\u001b[0mz\u001b[0m\u001b[0;34m,\u001b[0m \u001b[0mz_val\u001b[0m\u001b[0;34m)\u001b[0m\u001b[0;34m,\u001b[0m \u001b[0;34m(\u001b[0m\u001b[0mgw\u001b[0m\u001b[0;34m,\u001b[0m \u001b[0mgw_val\u001b[0m\u001b[0;34m)\u001b[0m\u001b[0;34m]\u001b[0m\u001b[0;34m)\u001b[0m\u001b[0;34m\u001b[0m\u001b[0;34m\u001b[0m\u001b[0m\n\u001b[1;32m     11\u001b[0m     \u001b[0mdz_dt\u001b[0m \u001b[0;34m=\u001b[0m \u001b[0msolution\u001b[0m\u001b[0;34m[\u001b[0m\u001b[0mz_p\u001b[0m\u001b[0;34m]\u001b[0m\u001b[0;34m.\u001b[0m\u001b[0msubs\u001b[0m\u001b[0;34m(\u001b[0m\u001b[0;34m[\u001b[0m\u001b[0;34m(\u001b[0m\u001b[0mM1w\u001b[0m\u001b[0;34m,\u001b[0m \u001b[0mM1w_val\u001b[0m\u001b[0;34m)\u001b[0m\u001b[0;34m,\u001b[0m \u001b[0;34m(\u001b[0m\u001b[0myw\u001b[0m\u001b[0;34m,\u001b[0m \u001b[0myw_val\u001b[0m\u001b[0;34m)\u001b[0m\u001b[0;34m,\u001b[0m \u001b[0;34m(\u001b[0m\u001b[0mz\u001b[0m\u001b[0;34m,\u001b[0m \u001b[0mz_val\u001b[0m\u001b[0;34m)\u001b[0m\u001b[0;34m,\u001b[0m \u001b[0;34m(\u001b[0m\u001b[0mgw\u001b[0m\u001b[0;34m,\u001b[0m \u001b[0mgw_val\u001b[0m\u001b[0;34m)\u001b[0m\u001b[0;34m]\u001b[0m\u001b[0;34m)\u001b[0m\u001b[0;34m\u001b[0m\u001b[0;34m\u001b[0m\u001b[0m\n",
      "\u001b[0;32m~/opt/anaconda3/lib/python3.7/site-packages/sympy/core/basic.py\u001b[0m in \u001b[0;36msubs\u001b[0;34m(self, *args, **kwargs)\u001b[0m\n\u001b[1;32m   1000\u001b[0m             \u001b[0mrv\u001b[0m \u001b[0;34m=\u001b[0m \u001b[0mself\u001b[0m\u001b[0;34m\u001b[0m\u001b[0;34m\u001b[0m\u001b[0m\n\u001b[1;32m   1001\u001b[0m             \u001b[0;32mfor\u001b[0m \u001b[0mold\u001b[0m\u001b[0;34m,\u001b[0m \u001b[0mnew\u001b[0m \u001b[0;32min\u001b[0m \u001b[0msequence\u001b[0m\u001b[0;34m:\u001b[0m\u001b[0;34m\u001b[0m\u001b[0;34m\u001b[0m\u001b[0m\n\u001b[0;32m-> 1002\u001b[0;31m                 \u001b[0mrv\u001b[0m \u001b[0;34m=\u001b[0m \u001b[0mrv\u001b[0m\u001b[0;34m.\u001b[0m\u001b[0m_subs\u001b[0m\u001b[0;34m(\u001b[0m\u001b[0mold\u001b[0m\u001b[0;34m,\u001b[0m \u001b[0mnew\u001b[0m\u001b[0;34m,\u001b[0m \u001b[0;34m**\u001b[0m\u001b[0mkwargs\u001b[0m\u001b[0;34m)\u001b[0m\u001b[0;34m\u001b[0m\u001b[0;34m\u001b[0m\u001b[0m\n\u001b[0m\u001b[1;32m   1003\u001b[0m                 \u001b[0;32mif\u001b[0m \u001b[0;32mnot\u001b[0m \u001b[0misinstance\u001b[0m\u001b[0;34m(\u001b[0m\u001b[0mrv\u001b[0m\u001b[0;34m,\u001b[0m \u001b[0mBasic\u001b[0m\u001b[0;34m)\u001b[0m\u001b[0;34m:\u001b[0m\u001b[0;34m\u001b[0m\u001b[0;34m\u001b[0m\u001b[0m\n\u001b[1;32m   1004\u001b[0m                     \u001b[0;32mbreak\u001b[0m\u001b[0;34m\u001b[0m\u001b[0;34m\u001b[0m\u001b[0m\n",
      "\u001b[0;32m~/opt/anaconda3/lib/python3.7/site-packages/sympy/core/basic.py\u001b[0m in \u001b[0;36m_subs\u001b[0;34m(self, old, new, **hints)\u001b[0m\n\u001b[1;32m   1114\u001b[0m         \u001b[0mrv\u001b[0m \u001b[0;34m=\u001b[0m \u001b[0mself\u001b[0m\u001b[0;34m.\u001b[0m\u001b[0m_eval_subs\u001b[0m\u001b[0;34m(\u001b[0m\u001b[0mold\u001b[0m\u001b[0;34m,\u001b[0m \u001b[0mnew\u001b[0m\u001b[0;34m)\u001b[0m\u001b[0;34m\u001b[0m\u001b[0;34m\u001b[0m\u001b[0m\n\u001b[1;32m   1115\u001b[0m         \u001b[0;32mif\u001b[0m \u001b[0mrv\u001b[0m \u001b[0;32mis\u001b[0m \u001b[0;32mNone\u001b[0m\u001b[0;34m:\u001b[0m\u001b[0;34m\u001b[0m\u001b[0;34m\u001b[0m\u001b[0m\n\u001b[0;32m-> 1116\u001b[0;31m             \u001b[0mrv\u001b[0m \u001b[0;34m=\u001b[0m \u001b[0mfallback\u001b[0m\u001b[0;34m(\u001b[0m\u001b[0mself\u001b[0m\u001b[0;34m,\u001b[0m \u001b[0mold\u001b[0m\u001b[0;34m,\u001b[0m \u001b[0mnew\u001b[0m\u001b[0;34m)\u001b[0m\u001b[0;34m\u001b[0m\u001b[0;34m\u001b[0m\u001b[0m\n\u001b[0m\u001b[1;32m   1117\u001b[0m         \u001b[0;32mreturn\u001b[0m \u001b[0mrv\u001b[0m\u001b[0;34m\u001b[0m\u001b[0;34m\u001b[0m\u001b[0m\n\u001b[1;32m   1118\u001b[0m \u001b[0;34m\u001b[0m\u001b[0m\n",
      "\u001b[0;32m~/opt/anaconda3/lib/python3.7/site-packages/sympy/core/basic.py\u001b[0m in \u001b[0;36mfallback\u001b[0;34m(self, old, new)\u001b[0m\n\u001b[1;32m   1086\u001b[0m                 \u001b[0;32mif\u001b[0m \u001b[0;32mnot\u001b[0m \u001b[0mhasattr\u001b[0m\u001b[0;34m(\u001b[0m\u001b[0marg\u001b[0m\u001b[0;34m,\u001b[0m \u001b[0;34m'_eval_subs'\u001b[0m\u001b[0;34m)\u001b[0m\u001b[0;34m:\u001b[0m\u001b[0;34m\u001b[0m\u001b[0;34m\u001b[0m\u001b[0m\n\u001b[1;32m   1087\u001b[0m                     \u001b[0;32mcontinue\u001b[0m\u001b[0;34m\u001b[0m\u001b[0;34m\u001b[0m\u001b[0m\n\u001b[0;32m-> 1088\u001b[0;31m                 \u001b[0marg\u001b[0m \u001b[0;34m=\u001b[0m \u001b[0marg\u001b[0m\u001b[0;34m.\u001b[0m\u001b[0m_subs\u001b[0m\u001b[0;34m(\u001b[0m\u001b[0mold\u001b[0m\u001b[0;34m,\u001b[0m \u001b[0mnew\u001b[0m\u001b[0;34m,\u001b[0m \u001b[0;34m**\u001b[0m\u001b[0mhints\u001b[0m\u001b[0;34m)\u001b[0m\u001b[0;34m\u001b[0m\u001b[0;34m\u001b[0m\u001b[0m\n\u001b[0m\u001b[1;32m   1089\u001b[0m                 \u001b[0;32mif\u001b[0m \u001b[0;32mnot\u001b[0m \u001b[0m_aresame\u001b[0m\u001b[0;34m(\u001b[0m\u001b[0marg\u001b[0m\u001b[0;34m,\u001b[0m \u001b[0margs\u001b[0m\u001b[0;34m[\u001b[0m\u001b[0mi\u001b[0m\u001b[0;34m]\u001b[0m\u001b[0;34m)\u001b[0m\u001b[0;34m:\u001b[0m\u001b[0;34m\u001b[0m\u001b[0;34m\u001b[0m\u001b[0m\n\u001b[1;32m   1090\u001b[0m                     \u001b[0mhit\u001b[0m \u001b[0;34m=\u001b[0m \u001b[0;32mTrue\u001b[0m\u001b[0;34m\u001b[0m\u001b[0;34m\u001b[0m\u001b[0m\n",
      "\u001b[0;32m~/opt/anaconda3/lib/python3.7/site-packages/sympy/core/basic.py\u001b[0m in \u001b[0;36m_subs\u001b[0;34m(self, old, new, **hints)\u001b[0m\n\u001b[1;32m   1114\u001b[0m         \u001b[0mrv\u001b[0m \u001b[0;34m=\u001b[0m \u001b[0mself\u001b[0m\u001b[0;34m.\u001b[0m\u001b[0m_eval_subs\u001b[0m\u001b[0;34m(\u001b[0m\u001b[0mold\u001b[0m\u001b[0;34m,\u001b[0m \u001b[0mnew\u001b[0m\u001b[0;34m)\u001b[0m\u001b[0;34m\u001b[0m\u001b[0;34m\u001b[0m\u001b[0m\n\u001b[1;32m   1115\u001b[0m         \u001b[0;32mif\u001b[0m \u001b[0mrv\u001b[0m \u001b[0;32mis\u001b[0m \u001b[0;32mNone\u001b[0m\u001b[0;34m:\u001b[0m\u001b[0;34m\u001b[0m\u001b[0;34m\u001b[0m\u001b[0m\n\u001b[0;32m-> 1116\u001b[0;31m             \u001b[0mrv\u001b[0m \u001b[0;34m=\u001b[0m \u001b[0mfallback\u001b[0m\u001b[0;34m(\u001b[0m\u001b[0mself\u001b[0m\u001b[0;34m,\u001b[0m \u001b[0mold\u001b[0m\u001b[0;34m,\u001b[0m \u001b[0mnew\u001b[0m\u001b[0;34m)\u001b[0m\u001b[0;34m\u001b[0m\u001b[0;34m\u001b[0m\u001b[0m\n\u001b[0m\u001b[1;32m   1117\u001b[0m         \u001b[0;32mreturn\u001b[0m \u001b[0mrv\u001b[0m\u001b[0;34m\u001b[0m\u001b[0;34m\u001b[0m\u001b[0m\n\u001b[1;32m   1118\u001b[0m \u001b[0;34m\u001b[0m\u001b[0m\n",
      "\u001b[0;32m~/opt/anaconda3/lib/python3.7/site-packages/sympy/core/basic.py\u001b[0m in \u001b[0;36mfallback\u001b[0;34m(self, old, new)\u001b[0m\n\u001b[1;32m   1086\u001b[0m                 \u001b[0;32mif\u001b[0m \u001b[0;32mnot\u001b[0m \u001b[0mhasattr\u001b[0m\u001b[0;34m(\u001b[0m\u001b[0marg\u001b[0m\u001b[0;34m,\u001b[0m \u001b[0;34m'_eval_subs'\u001b[0m\u001b[0;34m)\u001b[0m\u001b[0;34m:\u001b[0m\u001b[0;34m\u001b[0m\u001b[0;34m\u001b[0m\u001b[0m\n\u001b[1;32m   1087\u001b[0m                     \u001b[0;32mcontinue\u001b[0m\u001b[0;34m\u001b[0m\u001b[0;34m\u001b[0m\u001b[0m\n\u001b[0;32m-> 1088\u001b[0;31m                 \u001b[0marg\u001b[0m \u001b[0;34m=\u001b[0m \u001b[0marg\u001b[0m\u001b[0;34m.\u001b[0m\u001b[0m_subs\u001b[0m\u001b[0;34m(\u001b[0m\u001b[0mold\u001b[0m\u001b[0;34m,\u001b[0m \u001b[0mnew\u001b[0m\u001b[0;34m,\u001b[0m \u001b[0;34m**\u001b[0m\u001b[0mhints\u001b[0m\u001b[0;34m)\u001b[0m\u001b[0;34m\u001b[0m\u001b[0;34m\u001b[0m\u001b[0m\n\u001b[0m\u001b[1;32m   1089\u001b[0m                 \u001b[0;32mif\u001b[0m \u001b[0;32mnot\u001b[0m \u001b[0m_aresame\u001b[0m\u001b[0;34m(\u001b[0m\u001b[0marg\u001b[0m\u001b[0;34m,\u001b[0m \u001b[0margs\u001b[0m\u001b[0;34m[\u001b[0m\u001b[0mi\u001b[0m\u001b[0;34m]\u001b[0m\u001b[0;34m)\u001b[0m\u001b[0;34m:\u001b[0m\u001b[0;34m\u001b[0m\u001b[0;34m\u001b[0m\u001b[0m\n\u001b[1;32m   1090\u001b[0m                     \u001b[0mhit\u001b[0m \u001b[0;34m=\u001b[0m \u001b[0;32mTrue\u001b[0m\u001b[0;34m\u001b[0m\u001b[0;34m\u001b[0m\u001b[0m\n",
      "\u001b[0;32m~/opt/anaconda3/lib/python3.7/site-packages/sympy/core/basic.py\u001b[0m in \u001b[0;36m_subs\u001b[0;34m(self, old, new, **hints)\u001b[0m\n\u001b[1;32m   1114\u001b[0m         \u001b[0mrv\u001b[0m \u001b[0;34m=\u001b[0m \u001b[0mself\u001b[0m\u001b[0;34m.\u001b[0m\u001b[0m_eval_subs\u001b[0m\u001b[0;34m(\u001b[0m\u001b[0mold\u001b[0m\u001b[0;34m,\u001b[0m \u001b[0mnew\u001b[0m\u001b[0;34m)\u001b[0m\u001b[0;34m\u001b[0m\u001b[0;34m\u001b[0m\u001b[0m\n\u001b[1;32m   1115\u001b[0m         \u001b[0;32mif\u001b[0m \u001b[0mrv\u001b[0m \u001b[0;32mis\u001b[0m \u001b[0;32mNone\u001b[0m\u001b[0;34m:\u001b[0m\u001b[0;34m\u001b[0m\u001b[0;34m\u001b[0m\u001b[0m\n\u001b[0;32m-> 1116\u001b[0;31m             \u001b[0mrv\u001b[0m \u001b[0;34m=\u001b[0m \u001b[0mfallback\u001b[0m\u001b[0;34m(\u001b[0m\u001b[0mself\u001b[0m\u001b[0;34m,\u001b[0m \u001b[0mold\u001b[0m\u001b[0;34m,\u001b[0m \u001b[0mnew\u001b[0m\u001b[0;34m)\u001b[0m\u001b[0;34m\u001b[0m\u001b[0;34m\u001b[0m\u001b[0m\n\u001b[0m\u001b[1;32m   1117\u001b[0m         \u001b[0;32mreturn\u001b[0m \u001b[0mrv\u001b[0m\u001b[0;34m\u001b[0m\u001b[0;34m\u001b[0m\u001b[0m\n\u001b[1;32m   1118\u001b[0m \u001b[0;34m\u001b[0m\u001b[0m\n",
      "\u001b[0;32m~/opt/anaconda3/lib/python3.7/site-packages/sympy/core/basic.py\u001b[0m in \u001b[0;36mfallback\u001b[0;34m(self, old, new)\u001b[0m\n\u001b[1;32m   1087\u001b[0m                     \u001b[0;32mcontinue\u001b[0m\u001b[0;34m\u001b[0m\u001b[0;34m\u001b[0m\u001b[0m\n\u001b[1;32m   1088\u001b[0m                 \u001b[0marg\u001b[0m \u001b[0;34m=\u001b[0m \u001b[0marg\u001b[0m\u001b[0;34m.\u001b[0m\u001b[0m_subs\u001b[0m\u001b[0;34m(\u001b[0m\u001b[0mold\u001b[0m\u001b[0;34m,\u001b[0m \u001b[0mnew\u001b[0m\u001b[0;34m,\u001b[0m \u001b[0;34m**\u001b[0m\u001b[0mhints\u001b[0m\u001b[0;34m)\u001b[0m\u001b[0;34m\u001b[0m\u001b[0;34m\u001b[0m\u001b[0m\n\u001b[0;32m-> 1089\u001b[0;31m                 \u001b[0;32mif\u001b[0m \u001b[0;32mnot\u001b[0m \u001b[0m_aresame\u001b[0m\u001b[0;34m(\u001b[0m\u001b[0marg\u001b[0m\u001b[0;34m,\u001b[0m \u001b[0margs\u001b[0m\u001b[0;34m[\u001b[0m\u001b[0mi\u001b[0m\u001b[0;34m]\u001b[0m\u001b[0;34m)\u001b[0m\u001b[0;34m:\u001b[0m\u001b[0;34m\u001b[0m\u001b[0;34m\u001b[0m\u001b[0m\n\u001b[0m\u001b[1;32m   1090\u001b[0m                     \u001b[0mhit\u001b[0m \u001b[0;34m=\u001b[0m \u001b[0;32mTrue\u001b[0m\u001b[0;34m\u001b[0m\u001b[0;34m\u001b[0m\u001b[0m\n\u001b[1;32m   1091\u001b[0m                     \u001b[0margs\u001b[0m\u001b[0;34m[\u001b[0m\u001b[0mi\u001b[0m\u001b[0;34m]\u001b[0m \u001b[0;34m=\u001b[0m \u001b[0marg\u001b[0m\u001b[0;34m\u001b[0m\u001b[0;34m\u001b[0m\u001b[0m\n",
      "\u001b[0;32m~/opt/anaconda3/lib/python3.7/site-packages/sympy/core/basic.py\u001b[0m in \u001b[0;36m_aresame\u001b[0;34m(a, b)\u001b[0m\n\u001b[1;32m   1921\u001b[0m         \u001b[0;32mreturn\u001b[0m \u001b[0ma\u001b[0m \u001b[0;34m==\u001b[0m \u001b[0mb\u001b[0m \u001b[0;32mand\u001b[0m \u001b[0ma\u001b[0m\u001b[0;34m.\u001b[0m\u001b[0m__class__\u001b[0m \u001b[0;34m==\u001b[0m \u001b[0mb\u001b[0m\u001b[0;34m.\u001b[0m\u001b[0m__class__\u001b[0m\u001b[0;34m\u001b[0m\u001b[0;34m\u001b[0m\u001b[0m\n\u001b[1;32m   1922\u001b[0m     \u001b[0;32mfor\u001b[0m \u001b[0mi\u001b[0m\u001b[0;34m,\u001b[0m \u001b[0mj\u001b[0m \u001b[0;32min\u001b[0m \u001b[0mzip_longest\u001b[0m\u001b[0;34m(\u001b[0m\u001b[0mpreorder_traversal\u001b[0m\u001b[0;34m(\u001b[0m\u001b[0ma\u001b[0m\u001b[0;34m)\u001b[0m\u001b[0;34m,\u001b[0m \u001b[0mpreorder_traversal\u001b[0m\u001b[0;34m(\u001b[0m\u001b[0mb\u001b[0m\u001b[0;34m)\u001b[0m\u001b[0;34m)\u001b[0m\u001b[0;34m:\u001b[0m\u001b[0;34m\u001b[0m\u001b[0;34m\u001b[0m\u001b[0m\n\u001b[0;32m-> 1923\u001b[0;31m         \u001b[0;32mif\u001b[0m \u001b[0mi\u001b[0m \u001b[0;34m!=\u001b[0m \u001b[0mj\u001b[0m \u001b[0;32mor\u001b[0m \u001b[0mtype\u001b[0m\u001b[0;34m(\u001b[0m\u001b[0mi\u001b[0m\u001b[0;34m)\u001b[0m \u001b[0;34m!=\u001b[0m \u001b[0mtype\u001b[0m\u001b[0;34m(\u001b[0m\u001b[0mj\u001b[0m\u001b[0;34m)\u001b[0m\u001b[0;34m:\u001b[0m\u001b[0;34m\u001b[0m\u001b[0;34m\u001b[0m\u001b[0m\n\u001b[0m\u001b[1;32m   1924\u001b[0m             if ((isinstance(i, UndefFunc) and isinstance(j, UndefFunc)) or\n\u001b[1;32m   1925\u001b[0m                 (isinstance(i, AppliedUndef) and isinstance(j, AppliedUndef))):\n",
      "\u001b[0;32m~/opt/anaconda3/lib/python3.7/site-packages/sympy/core/numbers.py\u001b[0m in \u001b[0;36m__ne__\u001b[0;34m(self, other)\u001b[0m\n\u001b[1;32m   2249\u001b[0m \u001b[0;34m\u001b[0m\u001b[0m\n\u001b[1;32m   2250\u001b[0m     \u001b[0;32mdef\u001b[0m \u001b[0m__ne__\u001b[0m\u001b[0;34m(\u001b[0m\u001b[0mself\u001b[0m\u001b[0;34m,\u001b[0m \u001b[0mother\u001b[0m\u001b[0;34m)\u001b[0m\u001b[0;34m:\u001b[0m\u001b[0;34m\u001b[0m\u001b[0;34m\u001b[0m\u001b[0m\n\u001b[0;32m-> 2251\u001b[0;31m         \u001b[0;32mreturn\u001b[0m \u001b[0;32mnot\u001b[0m \u001b[0mself\u001b[0m \u001b[0;34m==\u001b[0m \u001b[0mother\u001b[0m\u001b[0;34m\u001b[0m\u001b[0;34m\u001b[0m\u001b[0m\n\u001b[0m\u001b[1;32m   2252\u001b[0m \u001b[0;34m\u001b[0m\u001b[0m\n\u001b[1;32m   2253\u001b[0m     \u001b[0;32mdef\u001b[0m \u001b[0m__gt__\u001b[0m\u001b[0;34m(\u001b[0m\u001b[0mself\u001b[0m\u001b[0;34m,\u001b[0m \u001b[0mother\u001b[0m\u001b[0;34m)\u001b[0m\u001b[0;34m:\u001b[0m\u001b[0;34m\u001b[0m\u001b[0;34m\u001b[0m\u001b[0m\n",
      "\u001b[0;32m~/opt/anaconda3/lib/python3.7/site-packages/sympy/core/numbers.py\u001b[0m in \u001b[0;36m__eq__\u001b[0;34m(self, other)\u001b[0m\n\u001b[1;32m   2245\u001b[0m             \u001b[0;32mreturn\u001b[0m \u001b[0;34m(\u001b[0m\u001b[0mself\u001b[0m\u001b[0;34m.\u001b[0m\u001b[0mp\u001b[0m \u001b[0;34m==\u001b[0m \u001b[0mother\u001b[0m\u001b[0;34m)\u001b[0m\u001b[0;34m\u001b[0m\u001b[0;34m\u001b[0m\u001b[0m\n\u001b[1;32m   2246\u001b[0m         \u001b[0;32melif\u001b[0m \u001b[0misinstance\u001b[0m\u001b[0;34m(\u001b[0m\u001b[0mother\u001b[0m\u001b[0;34m,\u001b[0m \u001b[0mInteger\u001b[0m\u001b[0;34m)\u001b[0m\u001b[0;34m:\u001b[0m\u001b[0;34m\u001b[0m\u001b[0;34m\u001b[0m\u001b[0m\n\u001b[0;32m-> 2247\u001b[0;31m             \u001b[0;32mreturn\u001b[0m \u001b[0;34m(\u001b[0m\u001b[0mself\u001b[0m\u001b[0;34m.\u001b[0m\u001b[0mp\u001b[0m \u001b[0;34m==\u001b[0m \u001b[0mother\u001b[0m\u001b[0;34m.\u001b[0m\u001b[0mp\u001b[0m\u001b[0;34m)\u001b[0m\u001b[0;34m\u001b[0m\u001b[0;34m\u001b[0m\u001b[0m\n\u001b[0m\u001b[1;32m   2248\u001b[0m         \u001b[0;32mreturn\u001b[0m \u001b[0mRational\u001b[0m\u001b[0;34m.\u001b[0m\u001b[0m__eq__\u001b[0m\u001b[0;34m(\u001b[0m\u001b[0mself\u001b[0m\u001b[0;34m,\u001b[0m \u001b[0mother\u001b[0m\u001b[0;34m)\u001b[0m\u001b[0;34m\u001b[0m\u001b[0;34m\u001b[0m\u001b[0m\n\u001b[1;32m   2249\u001b[0m \u001b[0;34m\u001b[0m\u001b[0m\n",
      "\u001b[0;31mKeyboardInterrupt\u001b[0m: "
     ]
    }
   ],
   "source": [
    "solution = RK4_PCH(model, M1w_yw_z_0, tt, now_gw)"
   ]
  },
  {
   "cell_type": "code",
   "execution_count": null,
   "metadata": {},
   "outputs": [],
   "source": [
    "import matplotlib.pyplot as plt\n",
    "\n"
   ]
  },
  {
   "cell_type": "code",
   "execution_count": null,
   "metadata": {},
   "outputs": [],
   "source": []
  },
  {
   "cell_type": "code",
   "execution_count": null,
   "metadata": {},
   "outputs": [],
   "source": []
  }
 ],
 "metadata": {
  "kernelspec": {
   "display_name": "PyCharm (MC_simulation)",
   "language": "python",
   "name": "pycharm-55ed0cc"
  },
  "language_info": {
   "codemirror_mode": {
    "name": "ipython",
    "version": 3
   },
   "file_extension": ".py",
   "mimetype": "text/x-python",
   "name": "python",
   "nbconvert_exporter": "python",
   "pygments_lexer": "ipython3",
   "version": "3.7.6"
  },
  "pycharm": {
   "stem_cell": {
    "cell_type": "raw",
    "metadata": {
     "collapsed": false
    },
    "source": []
   }
  }
 },
 "nbformat": 4,
 "nbformat_minor": 1
}
