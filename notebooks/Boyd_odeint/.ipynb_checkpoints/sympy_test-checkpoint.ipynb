{
 "cells": [
  {
   "cell_type": "code",
   "execution_count": 6,
   "metadata": {
    "pycharm": {
     "is_executing": false
    }
   },
   "outputs": [
    {
     "data": {
      "text/latex": [
       "$\\displaystyle - x + 2 y - z - 1$"
      ],
      "text/plain": [
       "-x + 2⋅y - z - 1"
      ]
     },
     "execution_count": 6,
     "metadata": {},
     "output_type": "execute_result"
    }
   ],
   "source": [
    "from sympy import *\n",
    "\n",
    "init_printing(use_latex='mathjax')\n",
    "\n",
    "x, y, z, t = symbols('x y z t')\n",
    "\n",
    "expr_1 = 2*x + y - t\n",
    "expr_2 = 2*y - x - 1 - z\n",
    "\n",
    "expr_1\n",
    "expr_2"
   ]
  },
  {
   "cell_type": "code",
   "execution_count": 7,
   "metadata": {
    "pycharm": {
     "is_executing": false,
     "name": "#%%\n"
    }
   },
   "outputs": [
    {
     "data": {
      "text/latex": [
       "$\\displaystyle \\left\\{ x : \\frac{2 t}{5} - \\frac{z}{5} - \\frac{1}{5}, \\  y : \\frac{t}{5} + \\frac{2 z}{5} + \\frac{2}{5}\\right\\}$"
      ],
      "text/plain": [
       "⎧   2⋅t   z   1     t   2⋅z   2⎫\n",
       "⎨x: ─── - ─ - ─, y: ─ + ─── + ─⎬\n",
       "⎩    5    5   5     5    5    5⎭"
      ]
     },
     "execution_count": 7,
     "metadata": {},
     "output_type": "execute_result"
    }
   ],
   "source": [
    "solve([expr_1, expr_2], (x, y))\n",
    "\n"
   ]
  },
  {
   "cell_type": "code",
   "execution_count": 13,
   "metadata": {},
   "outputs": [
    {
     "data": {
      "text/latex": [
       "$\\displaystyle f{\\left(x,y \\right)} \\frac{\\partial}{\\partial x} g{\\left(x,y \\right)} + g{\\left(x,y \\right)} \\frac{\\partial}{\\partial x} f{\\left(x,y \\right)}$"
      ],
      "text/plain": [
       "        ∂                     ∂          \n",
       "f(x, y)⋅──(g(x, y)) + g(x, y)⋅──(f(x, y))\n",
       "        ∂x                    ∂x         "
      ]
     },
     "execution_count": 13,
     "metadata": {},
     "output_type": "execute_result"
    }
   ],
   "source": [
    "f = Function('f')(x, y)\n",
    "g = Function('g')(x, y)\n",
    "\n",
    "(f*g).diff(x)"
   ]
  },
  {
   "cell_type": "code",
   "execution_count": 16,
   "metadata": {},
   "outputs": [
    {
     "data": {
      "text/latex": [
       "$\\displaystyle f{\\left(x,y \\right)} + \\frac{\\partial}{\\partial x} g{\\left(x,y \\right)}$"
      ],
      "text/plain": [
       "          ∂          \n",
       "f(x, y) + ──(g(x, y))\n",
       "          ∂x         "
      ]
     },
     "execution_count": 16,
     "metadata": {},
     "output_type": "execute_result"
    }
   ],
   "source": [
    "expr_3 = f + (f*g).diff(x)\n",
    "expr_3"
   ]
  },
  {
   "cell_type": "code",
   "execution_count": null,
   "metadata": {},
   "outputs": [],
   "source": [
    "solve()"
   ]
  },
  {
   "cell_type": "code",
   "execution_count": null,
   "metadata": {},
   "outputs": [],
   "source": []
  }
 ],
 "metadata": {
  "kernelspec": {
   "display_name": "PyCharm (MC_simulation)",
   "language": "python",
   "name": "pycharm-55ed0cc"
  },
  "language_info": {
   "codemirror_mode": {
    "name": "ipython",
    "version": 3
   },
   "file_extension": ".py",
   "mimetype": "text/x-python",
   "name": "python",
   "nbconvert_exporter": "python",
   "pygments_lexer": "ipython3",
   "version": "3.7.6"
  },
  "pycharm": {
   "stem_cell": {
    "cell_type": "raw",
    "metadata": {
     "collapsed": false
    },
    "source": []
   }
  }
 },
 "nbformat": 4,
 "nbformat_minor": 1
}
