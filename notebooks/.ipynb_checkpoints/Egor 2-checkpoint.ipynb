{
 "cells": [
  {
   "cell_type": "code",
   "execution_count": 63,
   "metadata": {},
   "outputs": [
    {
     "data": {
      "text/latex": [
       "$\\displaystyle \\mu = \\frac{8 \\left(\\frac{27 R^{3}}{8} + r^{3}\\right)}{35 R^{3}}$"
      ],
      "text/plain": [
       "Eq(mu, 8*(27*R**3/8 + r**3)/(35*R**3))"
      ]
     },
     "execution_count": 63,
     "metadata": {},
     "output_type": "execute_result"
    }
   ],
   "source": [
    "from sympy import *\n",
    "\n",
    "r, R, mu_0, h, I = symbols('r R mu_0 h I')\n",
    "R0 = Rational(3, 2) * R\n",
    "\n",
    "mu = (R0**3 + r**3)/(R0**3 + R**3)\n",
    "Eq(Symbol('mu'), mu)"
   ]
  },
  {
   "cell_type": "code",
   "execution_count": 64,
   "metadata": {},
   "outputs": [
    {
     "data": {
      "text/latex": [
       "$\\displaystyle B = \\frac{4 I \\mu_{0} \\left(\\frac{27 R^{3}}{8} + r^{3}\\right)}{35 \\pi R^{3} r}$"
      ],
      "text/plain": [
       "Eq(B, 4*I*mu_0*(27*R**3/8 + r**3)/(35*pi*R**3*r))"
      ]
     },
     "execution_count": 64,
     "metadata": {},
     "output_type": "execute_result"
    }
   ],
   "source": [
    "H = I / (2 * pi * r)\n",
    "B = H * (mu_0 * mu)\n",
    "Eq(Symbol('B'), B)"
   ]
  },
  {
   "cell_type": "code",
   "execution_count": 66,
   "metadata": {},
   "outputs": [
    {
     "data": {
      "text/latex": [
       "$\\displaystyle J = \\frac{4 I \\left(- R^{3} + r^{3}\\right)}{35 \\pi R^{3} r}$"
      ],
      "text/plain": [
       "Eq(J, 4*I*(-R**3 + r**3)/(35*pi*R**3*r))"
      ]
     },
     "execution_count": 66,
     "metadata": {},
     "output_type": "execute_result"
    }
   ],
   "source": [
    "J = H * (mu - 1)\n",
    "Eq(Symbol('J'), simplify(J))"
   ]
  },
  {
   "cell_type": "code",
   "execution_count": 70,
   "metadata": {},
   "outputs": [
    {
     "data": {
      "text/latex": [
       "$\\displaystyle j_1^\\prime = 0$"
      ],
      "text/plain": [
       "Eq(j_1^\\prime, 0)"
      ]
     },
     "execution_count": 70,
     "metadata": {},
     "output_type": "execute_result"
    }
   ],
   "source": [
    "j_1_prime = J.subs(r, R)\n",
    "Eq(Symbol(r'j_1^\\prime'), j_1_prime)"
   ]
  },
  {
   "cell_type": "code",
   "execution_count": 72,
   "metadata": {},
   "outputs": [
    {
     "data": {
      "text/latex": [
       "$\\displaystyle j_2^\\prime = - \\frac{19 I}{105 \\pi R}$"
      ],
      "text/plain": [
       "Eq(j_2^\\prime, -19*I/(105*pi*R))"
      ]
     },
     "execution_count": 72,
     "metadata": {},
     "output_type": "execute_result"
    }
   ],
   "source": [
    "j_2_prime = -J.subs(r, R0)\n",
    "Eq(Symbol(r'j_2^\\prime'), j_2_prime)"
   ]
  },
  {
   "cell_type": "code",
   "execution_count": 69,
   "metadata": {},
   "outputs": [
    {
     "data": {
      "text/latex": [
       "$\\displaystyle j^\\prime = rot J = \\frac{12 I r}{35 \\pi R^{3}}$"
      ],
      "text/plain": [
       "Eq(j^\\prime = rot J, 12*I*r/(35*pi*R**3))"
      ]
     },
     "execution_count": 69,
     "metadata": {},
     "output_type": "execute_result"
    }
   ],
   "source": [
    "j_prime = 1/r * (J * r).diff(r)\n",
    "Eq(Symbol(r'j^\\prime = rot J'), simplify(j_prime))"
   ]
  },
  {
   "cell_type": "code",
   "execution_count": 74,
   "metadata": {},
   "outputs": [
    {
     "data": {
      "text/latex": [
       "$\\displaystyle I^\\prime = 0$"
      ],
      "text/plain": [
       "Eq(I^\\prime, 0)"
      ]
     },
     "execution_count": 74,
     "metadata": {},
     "output_type": "execute_result"
    }
   ],
   "source": [
    "Eq(Symbol(r'I^\\prime'), integrate(j_prime * 2 * pi * r, (r, R, R0)) + j_2_prime * 2 * pi * R0)"
   ]
  }
 ],
 "metadata": {
  "kernelspec": {
   "display_name": "Python 3",
   "language": "python",
   "name": "python3"
  },
  "language_info": {
   "codemirror_mode": {
    "name": "ipython",
    "version": 3
   },
   "file_extension": ".py",
   "mimetype": "text/x-python",
   "name": "python",
   "nbconvert_exporter": "python",
   "pygments_lexer": "ipython3",
   "version": "3.7.6"
  }
 },
 "nbformat": 4,
 "nbformat_minor": 4
}
