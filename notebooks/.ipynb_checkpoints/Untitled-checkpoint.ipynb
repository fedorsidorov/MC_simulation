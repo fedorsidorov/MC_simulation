{
 "cells": [
  {
   "cell_type": "markdown",
   "metadata": {},
   "source": [
    "## Problem 1:"
   ]
  },
  {
   "cell_type": "code",
   "execution_count": 141,
   "metadata": {},
   "outputs": [],
   "source": [
    "import sympy as sp\n",
    "\n",
    "a1 = sp.Matrix([2, 3, 2, 1])\n",
    "a2 = sp.Matrix([3, 1, 5, -1])\n",
    "a3 = sp.Matrix([4, 3, -2, 5])\n",
    "a4 = sp.Matrix([-2, -1, 2, 3])\n",
    "\n",
    "p_a = sp.Matrix([1, 3, -3, 0])\n",
    "q_a = sp.Matrix([5, -2, 2, 0])"
   ]
  },
  {
   "cell_type": "markdown",
   "metadata": {},
   "source": [
    "## Solution"
   ]
  },
  {
   "cell_type": "markdown",
   "metadata": {},
   "source": [
    "Orthogonalization coefficients:"
   ]
  },
  {
   "cell_type": "code",
   "execution_count": 145,
   "metadata": {},
   "outputs": [
    {
     "name": "stdout",
     "output_type": "stream",
     "text": [
      "1\n"
     ]
    }
   ],
   "source": [
    "C_1_2 = a2.dot(e1) / e1.dot(e1)\n",
    "print(C_1_2)"
   ]
  },
  {
   "cell_type": "code",
   "execution_count": 146,
   "metadata": {},
   "outputs": [
    {
     "name": "stdout",
     "output_type": "stream",
     "text": [
      "1 -1\n"
     ]
    }
   ],
   "source": [
    "C_1_3 = a3.dot(e1) / e1.dot(e1)\n",
    "C_2_3 = a3.dot(e2) / e2.dot(e2)\n",
    "print(C_1_3, C_2_3)"
   ]
  },
  {
   "cell_type": "code",
   "execution_count": 147,
   "metadata": {},
   "outputs": [
    {
     "name": "stdout",
     "output_type": "stream",
     "text": [
      "0 0 0\n"
     ]
    }
   ],
   "source": [
    "C_1_4 = a4.dot(e1) / e1.dot(e1)\n",
    "C_2_4 = a4.dot(e2) / e2.dot(e2)\n",
    "C_3_4 = a4.dot(e3) / e3.dot(e3)\n",
    "print(C_1_4, C_2_4, C_3_4)"
   ]
  },
  {
   "cell_type": "markdown",
   "metadata": {},
   "source": [
    "Basis $e$ - orthogonal, but not normed:"
   ]
  },
  {
   "cell_type": "code",
   "execution_count": 126,
   "metadata": {},
   "outputs": [],
   "source": [
    "e1 = a1\n",
    "e2 = a2 - C_1_2 * e1\n",
    "e3 = a3 - C_1_3 * e1 - C_2_3 * e2\n",
    "e4 = a4 - C_1_4 * e1 - C_2_4 * e2 - C_3_4 * e3"
   ]
  },
  {
   "cell_type": "markdown",
   "metadata": {},
   "source": [
    "Basis $b$ - orthonormed:"
   ]
  },
  {
   "cell_type": "code",
   "execution_count": 150,
   "metadata": {},
   "outputs": [],
   "source": [
    "b1 = e1 / sp.sqrt(e1.dot(e1))\n",
    "b2 = e2 / sp.sqrt(e2.dot(e2))\n",
    "b3 = e3 / sp.sqrt(e3.dot(e3))\n",
    "b4 = e4 / sp.sqrt(e4.dot(e4))"
   ]
  },
  {
   "cell_type": "code",
   "execution_count": 151,
   "metadata": {},
   "outputs": [
    {
     "data": {
      "text/latex": [
       "$\\displaystyle 3 \\sqrt{2}$"
      ],
      "text/plain": [
       "3*sqrt(2)"
      ]
     },
     "execution_count": 151,
     "metadata": {},
     "output_type": "execute_result"
    }
   ],
   "source": [
    "sp.sqrt(e4.dot(e4))"
   ]
  },
  {
   "cell_type": "markdown",
   "metadata": {},
   "source": [
    "a-vectors as a linear combination of b-vectors:"
   ]
  },
  {
   "cell_type": "markdown",
   "metadata": {},
   "source": [
    "$a_1 = e_1 = 3\\sqrt{2} b_1$<br>\n",
    "\n",
    "$a_2 = e_2 + C_1^2 e_1 = 3\\sqrt{2} b_2 + 3\\sqrt{2} C_1^2 b_1 = 3\\sqrt{2} b_1 + 3\\sqrt{2} b_2$ <br>\n",
    "\n",
    "$a_3 = e_3 + C_1^3 e_1 + C_2^3 e_2 = 3\\sqrt{2} b_3 + 3\\sqrt{2} C_1^3 b_1 + 3\\sqrt{2} C_2^3 b_2 = 3\\sqrt{2} b_1 - 3\\sqrt{2} b_2 + 3\\sqrt{2} b_3$ <br>\n",
    "\n",
    "$a_4 = e_4 + C_1^4 e_1 + C_2^4 e_2 + C_3^4 e_3 = 3\\sqrt{2} b_4 + 3\\sqrt{2} C_1^4 b_1 + 3\\sqrt{2} C_2^4 b_2 + 3\\sqrt{2} C_3^4 b_3 = 3\\sqrt{2} b_4$"
   ]
  },
  {
   "cell_type": "markdown",
   "metadata": {},
   "source": [
    "Basis transition matrix:"
   ]
  },
  {
   "cell_type": "code",
   "execution_count": 153,
   "metadata": {},
   "outputs": [
    {
     "data": {
      "text/latex": [
       "$\\displaystyle \\left[\\begin{matrix}3 \\sqrt{2} & 3 \\sqrt{2} & 3 \\sqrt{2} & 0\\\\0 & 3 \\sqrt{2} & - 3 \\sqrt{2} & 0\\\\0 & 0 & 3 \\sqrt{2} & 0\\\\0 & 0 & 0 & 3 \\sqrt{2}\\end{matrix}\\right]$"
      ],
      "text/plain": [
       "Matrix([\n",
       "[3*sqrt(2), 3*sqrt(2),  3*sqrt(2),         0],\n",
       "[        0, 3*sqrt(2), -3*sqrt(2),         0],\n",
       "[        0,         0,  3*sqrt(2),         0],\n",
       "[        0,         0,          0, 3*sqrt(2)]])"
      ]
     },
     "execution_count": 153,
     "metadata": {},
     "output_type": "execute_result"
    }
   ],
   "source": [
    "T_b_to_a = sp.Matrix(\n",
    "[\n",
    "    [1, C_1_2, C_1_3, C_1_4],\n",
    "    [0,     1, C_2_3, C_2_4],\n",
    "    [0,     0,     1, C_3_4],\n",
    "    [0,     0,     0,     1]\n",
    "]\n",
    ") * sp.sqrt(e4.dot(e4))\n",
    "\n",
    "T_b_to_a"
   ]
  },
  {
   "cell_type": "markdown",
   "metadata": {},
   "source": [
    "$p$ vector coordinates in basis $b$:"
   ]
  },
  {
   "cell_type": "code",
   "execution_count": 130,
   "metadata": {},
   "outputs": [
    {
     "data": {
      "text/latex": [
       "$\\displaystyle \\left[\\begin{matrix}\\frac{3 \\sqrt{2}}{2}\\\\9 \\sqrt{2}\\\\- \\frac{9 \\sqrt{2}}{2}\\\\0\\end{matrix}\\right]$"
      ],
      "text/plain": [
       "Matrix([\n",
       "[ 3*sqrt(2)/2],\n",
       "[   9*sqrt(2)],\n",
       "[-9*sqrt(2)/2],\n",
       "[           0]])"
      ]
     },
     "execution_count": 130,
     "metadata": {},
     "output_type": "execute_result"
    }
   ],
   "source": [
    "p_b = T_b_to_a * p_a\n",
    "p_b"
   ]
  },
  {
   "cell_type": "markdown",
   "metadata": {},
   "source": [
    "$q$ vector coordinates in basis $b$:"
   ]
  },
  {
   "cell_type": "code",
   "execution_count": 131,
   "metadata": {},
   "outputs": [
    {
     "data": {
      "text/latex": [
       "$\\displaystyle \\left[\\begin{matrix}\\frac{15 \\sqrt{2}}{2}\\\\- 6 \\sqrt{2}\\\\3 \\sqrt{2}\\\\0\\end{matrix}\\right]$"
      ],
      "text/plain": [
       "Matrix([\n",
       "[15*sqrt(2)/2],\n",
       "[  -6*sqrt(2)],\n",
       "[   3*sqrt(2)],\n",
       "[           0]])"
      ]
     },
     "execution_count": 131,
     "metadata": {},
     "output_type": "execute_result"
    }
   ],
   "source": [
    "q_b = T_b_to_a * q_a\n",
    "q_b"
   ]
  },
  {
   "cell_type": "markdown",
   "metadata": {},
   "source": [
    "Dot product of $p$ and $q$:"
   ]
  },
  {
   "cell_type": "code",
   "execution_count": 133,
   "metadata": {},
   "outputs": [
    {
     "data": {
      "text/latex": [
       "$\\displaystyle - \\frac{225}{2}$"
      ],
      "text/plain": [
       "-225/2"
      ]
     },
     "execution_count": 133,
     "metadata": {},
     "output_type": "execute_result"
    }
   ],
   "source": [
    "p_b.dot(q_b)"
   ]
  },
  {
   "cell_type": "markdown",
   "metadata": {},
   "source": [
    "cos($p$^$q$):"
   ]
  },
  {
   "cell_type": "code",
   "execution_count": 139,
   "metadata": {},
   "outputs": [
    {
     "data": {
      "text/latex": [
       "$\\displaystyle -0.549483727829822$"
      ],
      "text/plain": [
       "-0.549483727829822"
      ]
     },
     "execution_count": 139,
     "metadata": {},
     "output_type": "execute_result"
    }
   ],
   "source": [
    "(p_b.dot(q_b) / (sp.sqrt(p_b.dot(p_b)) * sp.sqrt(q_b.dot(q_b)))).evalf()"
   ]
  }
 ],
 "metadata": {
  "kernelspec": {
   "display_name": "Python 3",
   "language": "python",
   "name": "python3"
  },
  "language_info": {
   "codemirror_mode": {
    "name": "ipython",
    "version": 3
   },
   "file_extension": ".py",
   "mimetype": "text/x-python",
   "name": "python",
   "nbconvert_exporter": "python",
   "pygments_lexer": "ipython3",
   "version": "3.7.6"
  }
 },
 "nbformat": 4,
 "nbformat_minor": 4
}
