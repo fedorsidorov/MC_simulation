{
 "cells": [
  {
   "cell_type": "code",
   "execution_count": 43,
   "metadata": {},
   "outputs": [
    {
     "data": {
      "text/latex": [
       "$\\displaystyle \\varepsilon_{0} = \\frac{97 R^{4}}{16 \\left(R^{4} + r^{4}\\right)}$"
      ],
      "text/plain": [
       "Eq(varepsilon_0, 97*R**4/(16*(R**4 + r**4)))"
      ]
     },
     "execution_count": 43,
     "metadata": {},
     "output_type": "execute_result"
    }
   ],
   "source": [
    "from sympy import *\n",
    "\n",
    "r, R, l, eps_0, h = symbols('r, R, lambda, varepsilon_0, h')\n",
    "R0 = Rational(3, 2) * R\n",
    "\n",
    "eps = (R0**4 + R**4)/(R**4 + r**4)\n",
    "Eq(Symbol('varepsilon_0'), eps)"
   ]
  },
  {
   "cell_type": "code",
   "execution_count": 21,
   "metadata": {},
   "outputs": [
    {
     "data": {
      "text/latex": [
       "$\\displaystyle E = \\frac{8 \\lambda \\left(R^{4} + r^{4}\\right)}{97 \\pi R^{4} r \\varepsilon_{0}}$"
      ],
      "text/plain": [
       "Eq(E, 8*lambda*(R**4 + r**4)/(97*pi*R**4*r*varepsilon_0))"
      ]
     },
     "execution_count": 21,
     "metadata": {},
     "output_type": "execute_result"
    }
   ],
   "source": [
    "D = l / (2 * pi * r)\n",
    "E = D / (eps_0 * eps)\n",
    "Eq(Symbol('E'), E)"
   ]
  },
  {
   "cell_type": "code",
   "execution_count": 22,
   "metadata": {},
   "outputs": [
    {
     "data": {
      "text/latex": [
       "$\\displaystyle P = \\frac{\\lambda \\left(81 R^{4} - 16 r^{4}\\right)}{194 \\pi R^{4} r}$"
      ],
      "text/plain": [
       "Eq(P, lambda*(81*R**4 - 16*r**4)/(194*pi*R**4*r))"
      ]
     },
     "execution_count": 22,
     "metadata": {},
     "output_type": "execute_result"
    }
   ],
   "source": [
    "P = eps_0 * E * (eps - 1)\n",
    "Eq(Symbol('P'), simplify(P))"
   ]
  },
  {
   "cell_type": "code",
   "execution_count": 45,
   "metadata": {},
   "outputs": [
    {
     "data": {
      "text/latex": [
       "$\\displaystyle \\sigma_1^\\prime = - \\frac{65 \\lambda}{194 \\pi R}$"
      ],
      "text/plain": [
       "Eq(\\sigma_1^\\prime, -65*lambda/(194*pi*R))"
      ]
     },
     "execution_count": 45,
     "metadata": {},
     "output_type": "execute_result"
    }
   ],
   "source": [
    "sigma_1_prime = -P.subs(r, R)\n",
    "Eq(Symbol(r'\\sigma_1^\\prime'), sigma_1_prime)"
   ]
  },
  {
   "cell_type": "code",
   "execution_count": 26,
   "metadata": {},
   "outputs": [
    {
     "data": {
      "text/latex": [
       "$\\displaystyle \\sigma_2^\\prime = 0$"
      ],
      "text/plain": [
       "Eq(\\sigma_2^\\prime, 0)"
      ]
     },
     "execution_count": 26,
     "metadata": {},
     "output_type": "execute_result"
    }
   ],
   "source": [
    "sigma_2_prime = -P.subs(r, R0)\n",
    "Eq(Symbol(r'\\sigma_2^\\prime'), sigma_2_prime)"
   ]
  },
  {
   "cell_type": "code",
   "execution_count": 42,
   "metadata": {},
   "outputs": [
    {
     "data": {
      "text/latex": [
       "$\\displaystyle \\rho^\\prime = -div P = \\frac{32 \\lambda r^{2}}{97 \\pi R^{4}}$"
      ],
      "text/plain": [
       "Eq(\\rho^\\prime = -div P, 32*lambda*r**2/(97*pi*R**4))"
      ]
     },
     "execution_count": 42,
     "metadata": {},
     "output_type": "execute_result"
    }
   ],
   "source": [
    "rho_prime = -1/r * (P * r).diff(r)\n",
    "Eq(Symbol(r'\\rho^\\prime = -div P'), -simplify(div_P))"
   ]
  },
  {
   "cell_type": "code",
   "execution_count": 59,
   "metadata": {},
   "outputs": [
    {
     "data": {
      "text/latex": [
       "$\\displaystyle q^\\prime = 0$"
      ],
      "text/plain": [
       "Eq(q^\\prime, 0)"
      ]
     },
     "execution_count": 59,
     "metadata": {},
     "output_type": "execute_result"
    }
   ],
   "source": [
    "Eq(Symbol(r'q^\\prime'), integrate(rho_prime * 2 * pi * r * h, (r, R, R0)) + sigma_1_prime * 2 * pi * R * h)"
   ]
  }
 ],
 "metadata": {
  "kernelspec": {
   "display_name": "Python 3",
   "language": "python",
   "name": "python3"
  },
  "language_info": {
   "codemirror_mode": {
    "name": "ipython",
    "version": 3
   },
   "file_extension": ".py",
   "mimetype": "text/x-python",
   "name": "python",
   "nbconvert_exporter": "python",
   "pygments_lexer": "ipython3",
   "version": "3.7.6"
  }
 },
 "nbformat": 4,
 "nbformat_minor": 4
}
